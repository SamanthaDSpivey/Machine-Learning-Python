{
 "cells": [
  {
   "cell_type": "code",
   "execution_count": 129,
   "metadata": {},
   "outputs": [],
   "source": [
    "## Goal: Explore data w/ visualizations for Adventure Works dataset \n",
    "      #    for purpose of Classification Supervised ML w/ label= BikeBuyer\n",
    "\n",
    "# Import Python pkgs pandas, numpy, matplotlib.pyplot, & seaborn\n",
    "import pandas as pd\n",
    "import numpy as np\n",
    "import matplotlib.pyplot as plt\n",
    "import seaborn as sns\n",
    "import numpy.random as nr\n",
    "import math\n",
    "from sklearn import preprocessing\n",
    "import sklearn.model_selection as ms\n",
    "from sklearn import linear_model\n",
    "import sklearn.metrics as sklm\n",
    "from sklearn import cross_validation\n",
    "from sklearn import feature_selection as fs\n",
    "from sklearn import metrics, cross_validation\n",
    "import scipy.stats as ss\n",
    "import sklearn.decomposition as skde\n",
    "from sklearn.ensemble import RandomForestClassifier\n",
    "from sklearn.ensemble import AdaBoostClassifier\n",
    "\n",
    "%matplotlib inline  \n",
    "# Start of magic command which configures execution environment, to display graphics w/in notebook"
   ]
  },
  {
   "cell_type": "code",
   "execution_count": 130,
   "metadata": {},
   "outputs": [
    {
     "name": "stdout",
     "output_type": "stream",
     "text": [
      "(16404, 21)\n"
     ]
    },
    {
     "data": {
      "text/html": [
       "<div>\n",
       "<style scoped>\n",
       "    .dataframe tbody tr th:only-of-type {\n",
       "        vertical-align: middle;\n",
       "    }\n",
       "\n",
       "    .dataframe tbody tr th {\n",
       "        vertical-align: top;\n",
       "    }\n",
       "\n",
       "    .dataframe thead th {\n",
       "        text-align: right;\n",
       "    }\n",
       "</style>\n",
       "<table border=\"1\" class=\"dataframe\">\n",
       "  <thead>\n",
       "    <tr style=\"text-align: right;\">\n",
       "      <th></th>\n",
       "      <th>FirstName</th>\n",
       "      <th>LastName</th>\n",
       "      <th>AddressLine1</th>\n",
       "      <th>City</th>\n",
       "      <th>StateProvinceName</th>\n",
       "      <th>CountryRegionName</th>\n",
       "      <th>PostalCode</th>\n",
       "      <th>PhoneNumber</th>\n",
       "      <th>BirthDate</th>\n",
       "      <th>Education</th>\n",
       "      <th>...</th>\n",
       "      <th>Gender</th>\n",
       "      <th>MaritalStatus</th>\n",
       "      <th>HomeOwnerFlag</th>\n",
       "      <th>NumberCarsOwned</th>\n",
       "      <th>NumberChildrenAtHome</th>\n",
       "      <th>TotalChildren</th>\n",
       "      <th>YearlyIncome</th>\n",
       "      <th>Age</th>\n",
       "      <th>AveMonthSpend</th>\n",
       "      <th>BikeBuyer</th>\n",
       "    </tr>\n",
       "  </thead>\n",
       "  <tbody>\n",
       "    <tr>\n",
       "      <th>0</th>\n",
       "      <td>Jon</td>\n",
       "      <td>Yang</td>\n",
       "      <td>3761 N. 14th St</td>\n",
       "      <td>Rockhampton</td>\n",
       "      <td>Queensland</td>\n",
       "      <td>Australia</td>\n",
       "      <td>4700</td>\n",
       "      <td>1 (11) 500 555-0162</td>\n",
       "      <td>4/8/1966</td>\n",
       "      <td>Bachelors</td>\n",
       "      <td>...</td>\n",
       "      <td>M</td>\n",
       "      <td>M</td>\n",
       "      <td>1</td>\n",
       "      <td>0</td>\n",
       "      <td>0</td>\n",
       "      <td>2</td>\n",
       "      <td>137947</td>\n",
       "      <td>31</td>\n",
       "      <td>89</td>\n",
       "      <td>0</td>\n",
       "    </tr>\n",
       "    <tr>\n",
       "      <th>1</th>\n",
       "      <td>Eugene</td>\n",
       "      <td>Huang</td>\n",
       "      <td>2243 W St.</td>\n",
       "      <td>Seaford</td>\n",
       "      <td>Victoria</td>\n",
       "      <td>Australia</td>\n",
       "      <td>3198</td>\n",
       "      <td>1 (11) 500 555-0110</td>\n",
       "      <td>5/14/1965</td>\n",
       "      <td>Bachelors</td>\n",
       "      <td>...</td>\n",
       "      <td>M</td>\n",
       "      <td>S</td>\n",
       "      <td>0</td>\n",
       "      <td>1</td>\n",
       "      <td>3</td>\n",
       "      <td>3</td>\n",
       "      <td>101141</td>\n",
       "      <td>32</td>\n",
       "      <td>117</td>\n",
       "      <td>1</td>\n",
       "    </tr>\n",
       "    <tr>\n",
       "      <th>2</th>\n",
       "      <td>Ruben</td>\n",
       "      <td>Torres</td>\n",
       "      <td>5844 Linden Land</td>\n",
       "      <td>Hobart</td>\n",
       "      <td>Tasmania</td>\n",
       "      <td>Australia</td>\n",
       "      <td>7001</td>\n",
       "      <td>1 (11) 500 555-0184</td>\n",
       "      <td>8/12/1965</td>\n",
       "      <td>Bachelors</td>\n",
       "      <td>...</td>\n",
       "      <td>M</td>\n",
       "      <td>M</td>\n",
       "      <td>1</td>\n",
       "      <td>1</td>\n",
       "      <td>3</td>\n",
       "      <td>3</td>\n",
       "      <td>91945</td>\n",
       "      <td>32</td>\n",
       "      <td>123</td>\n",
       "      <td>0</td>\n",
       "    </tr>\n",
       "    <tr>\n",
       "      <th>3</th>\n",
       "      <td>Christy</td>\n",
       "      <td>Zhu</td>\n",
       "      <td>1825 Village Pl.</td>\n",
       "      <td>North Ryde</td>\n",
       "      <td>New South Wales</td>\n",
       "      <td>Australia</td>\n",
       "      <td>2113</td>\n",
       "      <td>1 (11) 500 555-0162</td>\n",
       "      <td>2/15/1968</td>\n",
       "      <td>Bachelors</td>\n",
       "      <td>...</td>\n",
       "      <td>F</td>\n",
       "      <td>S</td>\n",
       "      <td>0</td>\n",
       "      <td>1</td>\n",
       "      <td>0</td>\n",
       "      <td>0</td>\n",
       "      <td>86688</td>\n",
       "      <td>29</td>\n",
       "      <td>50</td>\n",
       "      <td>0</td>\n",
       "    </tr>\n",
       "    <tr>\n",
       "      <th>4</th>\n",
       "      <td>Elizabeth</td>\n",
       "      <td>Johnson</td>\n",
       "      <td>7553 Harness Circle</td>\n",
       "      <td>Wollongong</td>\n",
       "      <td>New South Wales</td>\n",
       "      <td>Australia</td>\n",
       "      <td>2500</td>\n",
       "      <td>1 (11) 500 555-0131</td>\n",
       "      <td>8/8/1968</td>\n",
       "      <td>Bachelors</td>\n",
       "      <td>...</td>\n",
       "      <td>F</td>\n",
       "      <td>S</td>\n",
       "      <td>1</td>\n",
       "      <td>4</td>\n",
       "      <td>5</td>\n",
       "      <td>5</td>\n",
       "      <td>92771</td>\n",
       "      <td>29</td>\n",
       "      <td>95</td>\n",
       "      <td>1</td>\n",
       "    </tr>\n",
       "  </tbody>\n",
       "</table>\n",
       "<p>5 rows × 21 columns</p>\n",
       "</div>"
      ],
      "text/plain": [
       "   FirstName LastName         AddressLine1         City StateProvinceName  \\\n",
       "0        Jon     Yang      3761 N. 14th St  Rockhampton        Queensland   \n",
       "1     Eugene    Huang           2243 W St.      Seaford          Victoria   \n",
       "2      Ruben   Torres     5844 Linden Land       Hobart          Tasmania   \n",
       "3    Christy      Zhu     1825 Village Pl.   North Ryde   New South Wales   \n",
       "4  Elizabeth  Johnson  7553 Harness Circle   Wollongong   New South Wales   \n",
       "\n",
       "  CountryRegionName PostalCode          PhoneNumber  BirthDate   Education  \\\n",
       "0         Australia       4700  1 (11) 500 555-0162   4/8/1966  Bachelors    \n",
       "1         Australia       3198  1 (11) 500 555-0110  5/14/1965  Bachelors    \n",
       "2         Australia       7001  1 (11) 500 555-0184  8/12/1965  Bachelors    \n",
       "3         Australia       2113  1 (11) 500 555-0162  2/15/1968  Bachelors    \n",
       "4         Australia       2500  1 (11) 500 555-0131   8/8/1968  Bachelors    \n",
       "\n",
       "     ...     Gender MaritalStatus HomeOwnerFlag  NumberCarsOwned  \\\n",
       "0    ...          M             M             1                0   \n",
       "1    ...          M             S             0                1   \n",
       "2    ...          M             M             1                1   \n",
       "3    ...          F             S             0                1   \n",
       "4    ...          F             S             1                4   \n",
       "\n",
       "   NumberChildrenAtHome  TotalChildren  YearlyIncome  Age  AveMonthSpend  \\\n",
       "0                     0              2        137947   31             89   \n",
       "1                     3              3        101141   32            117   \n",
       "2                     3              3         91945   32            123   \n",
       "3                     0              0         86688   29             50   \n",
       "4                     5              5         92771   29             95   \n",
       "\n",
       "   BikeBuyer  \n",
       "0          0  \n",
       "1          1  \n",
       "2          0  \n",
       "3          0  \n",
       "4          1  \n",
       "\n",
       "[5 rows x 21 columns]"
      ]
     },
     "execution_count": 130,
     "metadata": {},
     "output_type": "execute_result"
    }
   ],
   "source": [
    "# Load already prepared dataset, display shape, & explore first 10 rows of Pandas data frame\n",
    "\n",
    "AW_Custs_C = pd.read_csv('AdvWorksCusts_Preped.csv', header=0)\n",
    "print(AW_Custs_C.shape)\n",
    "AW_Custs_C.head()"
   ]
  },
  {
   "cell_type": "code",
   "execution_count": 131,
   "metadata": {},
   "outputs": [
    {
     "name": "stdout",
     "output_type": "stream",
     "text": [
      "0    10949\n",
      "1     5455\n",
      "Name: BikeBuyer, dtype: int64\n"
     ]
    }
   ],
   "source": [
    "# Testing for Class Imbalance by Examining Classes where label= BikeBuyer\n",
    " # Unequal numbers of cases for the categories of labels, which can seriously bias the training of classifier alogrithms \n",
    " #  higher error rate for the minority class. This should be tested for before training any model.   \n",
    "\n",
    "AW_Custs_C_counts =  AW_Custs_C['BikeBuyer'].value_counts()\n",
    "print(AW_Custs_C_counts) "
   ]
  },
  {
   "cell_type": "code",
   "execution_count": 132,
   "metadata": {},
   "outputs": [],
   "source": [
    "#Above- Knowing imbalance exists, the best accuracy we can get w/out creating a ML model is 70%.\n",
    " # This is achieved by guessing all customers will buy a bike\n",
    "    \n",
    "#Below- Create a numpy array of label values\n",
    "\n",
    "labels = np.array(AW_Custs_C['BikeBuyer'])"
   ]
  },
  {
   "cell_type": "code",
   "execution_count": 133,
   "metadata": {},
   "outputs": [
    {
     "name": "stdout",
     "output_type": "stream",
     "text": [
      "(16404, 31)\n",
      "[[0. 0. 0. 1. 0. 1. 0. 0. 0. 0. 0. 1. 1. 0. 1. 0. 0. 0. 0. 1. 0. 0. 0. 0.\n",
      "  0. 0. 0. 1. 0. 0. 0.]\n",
      " [0. 0. 0. 1. 0. 1. 0. 0. 0. 0. 0. 1. 0. 1. 0. 1. 0. 0. 0. 0. 0. 0. 1. 0.\n",
      "  0. 0. 0. 0. 1. 0. 0.]]\n"
     ]
    }
   ],
   "source": [
    "#Create a numpy array with all of the features (Model Matrix)\n",
    " # Encode categorical string variables into integers. \n",
    " # Transform integer coded variables to dummy variables.\n",
    " # Append each dummy coded categorical variable to model matrix.\n",
    "    \n",
    "def encode_string(cat_features):\n",
    "    enc = preprocessing.LabelEncoder()  # Encode strings to numeric categories\n",
    "    enc.fit(cat_features)\n",
    "    enc_cat_features = enc.transform(cat_features)\n",
    "    \n",
    "    ohe = preprocessing.OneHotEncoder()  #Apply One Hot Encoder\n",
    "    encoded = ohe.fit(enc_cat_features.reshape(-1,1))\n",
    "    return encoded.transform(enc_cat_features.reshape(-1,1)).toarray()\n",
    "\n",
    "categorical_columns = ['Education', 'Gender', 'MaritalStatus', 'NumberCarsOwned', 'NumberChildrenAtHome', 'TotalChildren']\n",
    "\n",
    "Features = encode_string(AW_Custs_C['Occupation'])\n",
    "for col in categorical_columns:\n",
    "    temp = encode_string(AW_Custs_C[col])\n",
    "    Features = np.concatenate([Features, temp], axis = 1)\n",
    "    \n",
    "print(Features.shape)\n",
    "print(Features[:2, :])"
   ]
  },
  {
   "cell_type": "code",
   "execution_count": 134,
   "metadata": {},
   "outputs": [
    {
     "name": "stdout",
     "output_type": "stream",
     "text": [
      "(16404, 33)\n",
      "[[0.00000e+00 0.00000e+00 0.00000e+00 1.00000e+00 0.00000e+00 1.00000e+00\n",
      "  0.00000e+00 0.00000e+00 0.00000e+00 0.00000e+00 0.00000e+00 1.00000e+00\n",
      "  1.00000e+00 0.00000e+00 1.00000e+00 0.00000e+00 0.00000e+00 0.00000e+00\n",
      "  0.00000e+00 1.00000e+00 0.00000e+00 0.00000e+00 0.00000e+00 0.00000e+00\n",
      "  0.00000e+00 0.00000e+00 0.00000e+00 1.00000e+00 0.00000e+00 0.00000e+00\n",
      "  0.00000e+00 1.37947e+05 3.10000e+01]\n",
      " [0.00000e+00 0.00000e+00 0.00000e+00 1.00000e+00 0.00000e+00 1.00000e+00\n",
      "  0.00000e+00 0.00000e+00 0.00000e+00 0.00000e+00 0.00000e+00 1.00000e+00\n",
      "  0.00000e+00 1.00000e+00 0.00000e+00 1.00000e+00 0.00000e+00 0.00000e+00\n",
      "  0.00000e+00 0.00000e+00 0.00000e+00 0.00000e+00 1.00000e+00 0.00000e+00\n",
      "  0.00000e+00 0.00000e+00 0.00000e+00 0.00000e+00 1.00000e+00 0.00000e+00\n",
      "  0.00000e+00 1.01141e+05 3.20000e+01]]\n"
     ]
    }
   ],
   "source": [
    "# Append numeric features to model matrix\n",
    "\n",
    "Features = np.concatenate([Features, np.array(AW_Custs_C[['YearlyIncome', 'Age']])], axis = 1)\n",
    "\n",
    "print(Features.shape)\n",
    "print(Features[:2, :])"
   ]
  },
  {
   "cell_type": "code",
   "execution_count": 135,
   "metadata": {},
   "outputs": [
    {
     "name": "stdout",
     "output_type": "stream",
     "text": [
      "['Professional' 'Management' 'Skilled Manual' 'Clerical' 'Manual']\n"
     ]
    }
   ],
   "source": [
    "# 6 categorical variables were converted into 31 dummy variables. \n",
    "\n",
    "#Below- How many dummy variables came from checking_account_status? -5-\n",
    "print(AW_Custs_C['Occupation'].unique())"
   ]
  },
  {
   "cell_type": "code",
   "execution_count": 104,
   "metadata": {},
   "outputs": [],
   "source": [
    "# Create randomly sampled training & test data (Bernoulli sample) sets from sklearn.model_selection package\n",
    " # 1st column = index array for training cases, 2nd column = index array for test cases\n",
    "\n",
    "nr.seed(9988)  #set seed\n",
    "indx = range(Features.shape[0])\n",
    "indx = ms.train_test_split(indx, test_size = 5000)\n",
    "\n",
    "x_train = Features[indx[0],:]\n",
    "y_train = np.ravel(labels[indx[0]])\n",
    "x_test = Features[indx[1],:]\n",
    "y_test = np.ravel(labels[indx[1]])"
   ]
  },
  {
   "cell_type": "code",
   "execution_count": 105,
   "metadata": {},
   "outputs": [
    {
     "data": {
      "text/plain": [
       "array([[ 1.        ,  0.        ,  0.        ,  0.        ,  0.        ,\n",
       "         0.        ,  0.        ,  0.        ,  1.        ,  0.        ,\n",
       "         0.        ,  1.        ,  1.        ,  0.        ,  0.        ,\n",
       "         1.        ,  0.        ,  0.        ,  0.        ,  1.        ,\n",
       "         0.        ,  0.        ,  0.        ,  0.        ,  0.        ,\n",
       "         0.        ,  1.        ,  0.        ,  0.        ,  0.        ,\n",
       "         0.        , -0.69691521,  0.49520055],\n",
       "       [ 0.        ,  0.        ,  0.        ,  1.        ,  0.        ,\n",
       "         1.        ,  0.        ,  0.        ,  0.        ,  0.        ,\n",
       "         0.        ,  1.        ,  0.        ,  1.        ,  0.        ,\n",
       "         0.        ,  1.        ,  0.        ,  0.        ,  1.        ,\n",
       "         0.        ,  0.        ,  0.        ,  0.        ,  0.        ,\n",
       "         1.        ,  0.        ,  0.        ,  0.        ,  0.        ,\n",
       "         0.        ,  0.60823408, -1.28925519]])"
      ]
     },
     "execution_count": 105,
     "metadata": {},
     "output_type": "execute_result"
    }
   ],
   "source": [
    "# Rescale numeric variables to have similiar range of values, preventing undue influence on model training\n",
    " # Use Zscore to scale numerical feature w/ Scikit Learn preprocessing's StandardScaler \n",
    " #  applied first to training data, then same parameters are used on test data    \n",
    "\n",
    "scaler = preprocessing.StandardScaler().fit(x_train[:, 31:])\n",
    "x_train[:, 31:] = scaler.transform(x_train[:, 31:])\n",
    "x_test[:, 31:] = scaler.transform(x_test[:, 31:])\n",
    "x_train[:2, ]"
   ]
  },
  {
   "cell_type": "code",
   "execution_count": 42,
   "metadata": {},
   "outputs": [
    {
     "data": {
      "text/plain": [
       "LogisticRegression(C=1.0, class_weight=None, dual=False, fit_intercept=True,\n",
       "          intercept_scaling=1, max_iter=100, multi_class='ovr', n_jobs=1,\n",
       "          penalty='l2', random_state=None, solver='liblinear', tol=0.0001,\n",
       "          verbose=0, warm_start=False)"
      ]
     },
     "execution_count": 42,
     "metadata": {},
     "output_type": "execute_result"
    }
   ],
   "source": [
    "#Above- 2 numerical features are now Zscore scaled\n",
    "\n",
    "#Below- Compute logistic regression model\n",
    "\n",
    "logistic_mod = linear_model.LogisticRegression()  # define object using scikit-learn linear_model package\n",
    "logistic_mod.fit(x_train, y_train)  # fit linear model using numpy arrays of features and the label w/in training data set"
   ]
  },
  {
   "cell_type": "code",
   "execution_count": 43,
   "metadata": {},
   "outputs": [
    {
     "name": "stdout",
     "output_type": "stream",
     "text": [
      "[0.03573276]\n",
      "[[ 0.02501278 -0.46576071  0.1372071   0.16697707  0.17229653  0.18567523\n",
      "   0.15608623 -0.04487755 -0.05023513 -0.21091601 -0.32134358  0.35707634\n",
      "  -0.76128546  0.79701823 -0.00489859  0.15756965 -0.03153072  0.10543222\n",
      "  -0.19083978 -1.78462451 -1.10958111  0.12732809  0.68222158  0.78317157\n",
      "   1.33721714 -0.34726652  0.24808239 -0.13930075 -0.00374031  0.15046307\n",
      "   0.12749488  0.57634162 -0.47725109]]\n"
     ]
    }
   ],
   "source": [
    "#Above- Config of model object printed using default settings (no arguments were given)\n",
    "\n",
    "#Below- Examine model intercept & coefficients\n",
    "\n",
    "print(logistic_mod.intercept_)\n",
    "print(logistic_mod.coef_)"
   ]
  },
  {
   "cell_type": "code",
   "execution_count": 44,
   "metadata": {},
   "outputs": [
    {
     "name": "stdout",
     "output_type": "stream",
     "text": [
      "[[0.71881985 0.28118015]\n",
      " [0.53772893 0.46227107]\n",
      " [0.52043404 0.47956596]\n",
      " [0.67521283 0.32478717]\n",
      " [0.91332172 0.08667828]\n",
      " [0.97004127 0.02995873]\n",
      " [0.92632161 0.07367839]\n",
      " [0.9088169  0.0911831 ]\n",
      " [0.93655219 0.06344781]\n",
      " [0.8075891  0.1924109 ]\n",
      " [0.98949724 0.01050276]\n",
      " [0.31373974 0.68626026]\n",
      " [0.74078646 0.25921354]\n",
      " [0.68820521 0.31179479]\n",
      " [0.82648096 0.17351904]]\n"
     ]
    }
   ],
   "source": [
    "#Above- Intercept is 0.0357. Dummy variables are not in similiar range, indicating this model is likely not to be overfit, given # of features.\n",
    "\n",
    "#Below- Compute & display sample of class probabilities for test feature data set.\n",
    " #Class w/ highest probability is taken as score (prediction)\n",
    "    \n",
    "probabilities = logistic_mod.predict_proba(x_test)\n",
    "print(probabilities[:15, :])"
   ]
  },
  {
   "cell_type": "code",
   "execution_count": 45,
   "metadata": {},
   "outputs": [
    {
     "name": "stdout",
     "output_type": "stream",
     "text": [
      "[0 0 0 0 0 0 0 0 0 0 0 1 0 0 0]\n",
      "[1 0 1 1 0 0 0 0 0 0 0 1 0 0 0]\n"
     ]
    }
   ],
   "source": [
    "#Above- 1st column= probability of score 0, 2nd column= prob of score 1. Note prob score 0 is higher than for 1.\n",
    "\n",
    "#Below- Transform class probabilities into class scores.\n",
    " # Set threshold to prob b/w 2 likelihoods at 0.5. This is applied to prob of score 0 below.\n",
    "    \n",
    "def score_model(probs, threshold):\n",
    "    return np.array([1 if x> threshold else 0 for x in probs[:, 1]])\n",
    "scores = score_model(probabilities, 0.5)\n",
    "print(np.array(scores[:15]))\n",
    "print(y_test[:15])"
   ]
  },
  {
   "cell_type": "code",
   "execution_count": 46,
   "metadata": {},
   "outputs": [
    {
     "name": "stdout",
     "output_type": "stream",
     "text": [
      "                 Confusion Matrix \n",
      "                 Score Positive     Score Negative \n",
      "Actual Positive      2985                376\n",
      "Actual Negative       713                926\n",
      "\n",
      "Accuracy   0.78\n",
      "\n",
      "            Positive     Negative\n",
      "Num Case      3361          1639\n",
      "Precision     0.81          0.71\n",
      "Recall        0.89          0.56\n",
      "F1            0.85          0.85\n"
     ]
    }
   ],
   "source": [
    "#Above- Sample shows positive (1) predictions agree w/ test labels in 2nd row, but not all\n",
    "\n",
    "#Below- Compute a confusion matrix as a metric to evaluate the results for the logisitic regression model\n",
    " #True Positive (TP)- cases w/ positive labels which have been correctly classified as positive\n",
    " #True Negative (TN)- cases w/ negative labels which have been correctly classified as negative\n",
    " #False Positive (FP)- cases w/ negative labels which have been incorrectly classified as positive\n",
    " #False Negative (FN)- cases w/ positive labels which have been incorrectly classified as negative\n",
    " # where positive is 1 and neagtive is 0\n",
    "    \n",
    " #Accuracy/Bias- fraction of cases correctly classified\n",
    " #Precision- fraction of correctly calssified label cases out of all cases classified w/ that label value\n",
    "   # is sentistive to the # of cases correctly classified for a given score value\n",
    " #Recall- fraction of cases of a label value correctly classified out of all cases for that have that label value\n",
    "   # is sensitive to the # of cases correctly classified for a given true label value\n",
    " #F1- weighted average of precision and recall (overall model performance)\n",
    " #ROC- (receiver operating characteristic) displays relationship b/w TP rate on y and FP rate on x\n",
    " #AUC- (area/integral under the curve) overall performance of classifer model\n",
    "   # higher the AUC, the lower the increase in FP rate req to achieve a req TP rate\n",
    "     # Ideally AUC= 1.0, TP rate is achieved w/ 0 FP rate.\n",
    "     # can compare classifiers, one w/ higher AUC is generally better\n",
    "     # ROC diagonal for Bernoulli w/ AUC 0.5, anything greater than this is better than random guessing in balanced cases\n",
    "    \n",
    "#Below- Compute & examine the performance metrics for the classifier using precision_recall_fscore_support \n",
    " # & accuracy_score functions from metric package in scikit-learn. Confusion matrix is computed through \n",
    " # confusion_matrix from same package.\n",
    "\n",
    "def print_metrics(labels, scores):\n",
    "    metrics = sklm.precision_recall_fscore_support(labels, scores)\n",
    "    conf = sklm.confusion_matrix(labels, scores)\n",
    "    print('                 Confusion Matrix ')\n",
    "    print('                 Score Positive     Score Negative ')\n",
    "    print('Actual Positive    %6d' % conf[0, 0] + '              %5d' % conf[0, 1])\n",
    "    print('Actual Negative    %6d' % conf[1, 0] + '              %5d' % conf[1, 1])\n",
    "    print('')\n",
    "    print('Accuracy   %0.2f' % sklm.accuracy_score(labels, scores))\n",
    "    print('')\n",
    "    print('            Positive     Negative')\n",
    "    print('Num Case    %6d' % metrics[3][0] + '        %6d' % metrics[3][1])\n",
    "    print('Precision   %6.2f' % metrics[0][0] + '        %6.2f' % metrics [0][1])\n",
    "    print('Recall      %6.2f' % metrics[1][0] + '        %6.2f' % metrics[1][1])\n",
    "    print('F1          %6.2f' % metrics[2][0] + '        %6.2f' % metrics[2][0])\n",
    "    \n",
    "    \n",
    "print_metrics(y_test, scores)"
   ]
  },
  {
   "cell_type": "code",
   "execution_count": 47,
   "metadata": {},
   "outputs": [
    {
     "data": {
      "image/png": "[encoded data removed]",
      "text/plain": [
       "<matplotlib.figure.Figure at 0x1fd96684f28>"
      ]
     },
     "metadata": {},
     "output_type": "display_data"
    }
   ],
   "source": [
    "#Above- Confusion matrix, most positive cases correctly classified w/ 2987 vs 374, but negative cases score incorrectly w/ 924 correct vs 715 incorrect.\n",
    " # Overall accuracy of 0.78 is extremely misleading, & should be regarded w/ healthy skepticism. ?Negative cases poorly identified.?\n",
    " # Out of 5000 cases, 3361 positive & 1639 negative, indicating class imbalance\n",
    " # Negative cases not classified as well as positive ones, shown by precision, recall, & F1.\n",
    "\n",
    "\n",
    "#Below- Compute & examine the ROC curve & AUC from metrics package w/in scikit-learn\n",
    "\n",
    "def plot_auc(labels, probs):\n",
    "    # Compute false positive rate, true positive rate & threshold along with the AUC \n",
    "    fpr, tpr, threshold = sklm.roc_curve(labels, probs[:, 1])\n",
    "    auc = sklm.auc(fpr, tpr)\n",
    "    \n",
    "    plt.title('Reciever Operating Characteristic') #plot result\n",
    "    plt.plot(fpr, tpr, color = 'orange', label = 'AUC = %0.2f' % auc)\n",
    "    plt.legend(loc = 'lower right')\n",
    "    plt.plot([0, 1], [0, 1], 'r--')\n",
    "    plt.xlim([0, 1])\n",
    "    plt.ylim([0, 1])\n",
    "    plt.ylabel('True Positive Rate')\n",
    "    plt.xlabel('False Positive Rate')\n",
    "    plt.show()\n",
    "    \n",
    "plot_auc(y_test, probabilities)"
   ]
  },
  {
   "cell_type": "code",
   "execution_count": 48,
   "metadata": {},
   "outputs": [
    {
     "name": "stderr",
     "output_type": "stream",
     "text": [
      "C:\\Users\\Samantha\\Anaconda3\\lib\\site-packages\\sklearn\\metrics\\classification.py:1135: UndefinedMetricWarning: Precision and F-score are ill-defined and being set to 0.0 in labels with no predicted samples.\n",
      "  'precision', 'predicted', average, warn_for)\n"
     ]
    },
    {
     "name": "stdout",
     "output_type": "stream",
     "text": [
      "                 Confusion Matrix \n",
      "                 Score Positive     Score Negative \n",
      "Actual Positive      3361                  0\n",
      "Actual Negative      1639                  0\n",
      "\n",
      "Accuracy   0.67\n",
      "\n",
      "            Positive     Negative\n",
      "Num Case      3361          1639\n",
      "Precision     0.67          0.00\n",
      "Recall        1.00          0.00\n",
      "F1            0.80          0.80\n"
     ]
    },
    {
     "data": {
      "image/png": "[encoded data removed]",
      "text/plain": [
       "<matplotlib.figure.Figure at 0x1fd96a27470>"
      ]
     },
     "metadata": {},
     "output_type": "display_data"
    }
   ],
   "source": [
    "#Above- ROC curve is orange, above the red dotted line w/ AUC= 0.84.\n",
    "\n",
    "#Below- To compare, the naive 'classifier', which is a hard coded algorithm, sets all cases to positive.\n",
    "\n",
    "probs_positive = np.concatenate((np.ones((probabilities.shape[0], 1)),\n",
    "                                np.zeros((probabilities.shape[0], 1))),\n",
    "                               axis = 1)\n",
    "scores_positive = score_model(probs_positive, 0.5)\n",
    "print_metrics(y_test, scores_positive)\n",
    "plot_auc(y_test, probs_positive)"
   ]
  },
  {
   "cell_type": "code",
   "execution_count": 49,
   "metadata": {},
   "outputs": [
    {
     "data": {
      "text/plain": [
       "LogisticRegression(C=1.0, class_weight={0: 0.45, 1: 0.55}, dual=False,\n",
       "          fit_intercept=True, intercept_scaling=1, max_iter=100,\n",
       "          multi_class='ovr', n_jobs=1, penalty='l2', random_state=None,\n",
       "          solver='liblinear', tol=0.0001, verbose=0, warm_start=False)"
      ]
     },
     "execution_count": 49,
     "metadata": {},
     "output_type": "execute_result"
    }
   ],
   "source": [
    "#Above- Accuracy= 0.67, indicating class imbalance. ROC curve is directly on diagonal w/ AUC= 0.5.\n",
    " # The logistic regression classifier is better than this.\n",
    "    \n",
    "#Below- The class imbalance in label has biased the training of the model. The accuracy b/w logistic & naive 'classifier' are somewhat different.\n",
    "\n",
    "# Try to weigh results towards correctly classifying non bike buyers/customers at expense of bike buyers/customers.\n",
    " # Use LogisiticRegression function w/ argument of class_weight as 0.45 & 0.55.\n",
    "\n",
    "logistic_mod = linear_model.LogisticRegression(class_weight = {0:0.45, 1:0.55})\n",
    "logistic_mod.fit(x_train, y_train)"
   ]
  },
  {
   "cell_type": "code",
   "execution_count": 50,
   "metadata": {},
   "outputs": [
    {
     "name": "stdout",
     "output_type": "stream",
     "text": [
      "[[0.67165541 0.32834459]\n",
      " [0.48743705 0.51256295]\n",
      " [0.46761797 0.53238203]\n",
      " [0.62957595 0.37042405]\n",
      " [0.89450731 0.10549269]\n",
      " [0.96339208 0.03660792]\n",
      " [0.91184969 0.08815031]\n",
      " [0.89076362 0.10923638]\n",
      " [0.92452004 0.07547996]\n",
      " [0.77287811 0.22712189]\n",
      " [0.98739652 0.01260348]\n",
      " [0.27419451 0.72580549]\n",
      " [0.69616177 0.30383823]\n",
      " [0.6426589  0.3573411 ]\n",
      " [0.79504167 0.20495833]]\n"
     ]
    }
   ],
   "source": [
    "# Compute & examine class probabilities for each case\n",
    "\n",
    "probabilities = logistic_mod.predict_proba(x_test)\n",
    "print(probabilities[:15, :])"
   ]
  },
  {
   "cell_type": "code",
   "execution_count": 51,
   "metadata": {},
   "outputs": [
    {
     "name": "stdout",
     "output_type": "stream",
     "text": [
      "                 Confusion Matrix \n",
      "                 Score Positive     Score Negative \n",
      "Actual Positive      2896                465\n",
      "Actual Negative       638               1001\n",
      "\n",
      "Accuracy   0.78\n",
      "\n",
      "            Positive     Negative\n",
      "Num Case      3361          1639\n",
      "Precision     0.82          0.68\n",
      "Recall        0.86          0.61\n",
      "F1            0.84          0.84\n"
     ]
    },
    {
     "data": {
      "image/png": "[encoded data removed]",
      "text/plain": [
       "<matplotlib.figure.Figure at 0x1fd95caba90>"
      ]
     },
     "metadata": {},
     "output_type": "display_data"
    }
   ],
   "source": [
    "#Above- probabilities don't look much different from unweighted model\n",
    "\n",
    "#Below- Compute & examine the scores & metrics to compare weighted vs. unweighted.\n",
    "\n",
    "scores = score_model(probabilities, 0.5)\n",
    "print_metrics(y_test, scores)\n",
    "plot_auc(y_test, probabilities)"
   ]
  },
  {
   "cell_type": "code",
   "execution_count": 52,
   "metadata": {},
   "outputs": [
    {
     "name": "stdout",
     "output_type": "stream",
     "text": [
      "\n",
      "For Threshold = 0.45\n",
      "                 Confusion Matrix \n",
      "                 Score Positive     Score Negative \n",
      "Actual Positive      2802                559\n",
      "Actual Negative       563               1076\n",
      "\n",
      "Accuracy   0.78\n",
      "\n",
      "            Positive     Negative\n",
      "Num Case      3361          1639\n",
      "Precision     0.83          0.66\n",
      "Recall        0.83          0.66\n",
      "F1            0.83          0.83\n",
      "\n",
      "For Threshold = 0.4\n",
      "                 Confusion Matrix \n",
      "                 Score Positive     Score Negative \n",
      "Actual Positive      2653                708\n",
      "Actual Negative       470               1169\n",
      "\n",
      "Accuracy   0.76\n",
      "\n",
      "            Positive     Negative\n",
      "Num Case      3361          1639\n",
      "Precision     0.85          0.62\n",
      "Recall        0.79          0.71\n",
      "F1            0.82          0.82\n",
      "\n",
      "For Threshold = 0.35\n",
      "                 Confusion Matrix \n",
      "                 Score Positive     Score Negative \n",
      "Actual Positive      2467                894\n",
      "Actual Negative       395               1244\n",
      "\n",
      "Accuracy   0.74\n",
      "\n",
      "            Positive     Negative\n",
      "Num Case      3361          1639\n",
      "Precision     0.86          0.58\n",
      "Recall        0.73          0.76\n",
      "F1            0.79          0.79\n",
      "\n",
      "For Threshold = 0.3\n",
      "                 Confusion Matrix \n",
      "                 Score Positive     Score Negative \n",
      "Actual Positive      2276               1085\n",
      "Actual Negative       321               1318\n",
      "\n",
      "Accuracy   0.72\n",
      "\n",
      "            Positive     Negative\n",
      "Num Case      3361          1639\n",
      "Precision     0.88          0.55\n",
      "Recall        0.68          0.80\n",
      "F1            0.76          0.76\n",
      "\n",
      "For Threshold = 0.25\n",
      "                 Confusion Matrix \n",
      "                 Score Positive     Score Negative \n",
      "Actual Positive      2061               1300\n",
      "Actual Negative       251               1388\n",
      "\n",
      "Accuracy   0.69\n",
      "\n",
      "            Positive     Negative\n",
      "Num Case      3361          1639\n",
      "Precision     0.89          0.52\n",
      "Recall        0.61          0.85\n",
      "F1            0.73          0.73\n"
     ]
    }
   ],
   "source": [
    "#Above- Accuracy stayed same at 0.78. Recall is slightly better for negative cases.\n",
    " # Weighting has helped a little bit. ROC curve & AUC essentially unchanged.\n",
    "    \n",
    "# Another way to improve the model is to adjust the scoring threshold.\n",
    " # Use for loop to evaluate scoring for model at different threshold values.\n",
    "    \n",
    "def test_threshold(probs, labels, threshold):\n",
    "    scores = score_model(probs, threshold)\n",
    "    print('')\n",
    "    print('For Threshold = ' + str(threshold))\n",
    "    print_metrics(labels, scores)\n",
    "    \n",
    "thresholds = [0.45, 0.40, 0.35, 0.30, 0.25]\n",
    "for t in thresholds:\n",
    "    test_threshold(probabilities, y_test, t)"
   ]
  },
  {
   "cell_type": "code",
   "execution_count": 53,
   "metadata": {},
   "outputs": [],
   "source": [
    "#Above- As threshold is decreased, # of correctly classified negative cases (non bike buyers/customers) increases @ expense of correctly classifying positive cases (bike buyers/customers).\n",
    " # Note accuracy decreases, still no very useful metric. Also note, # of FN (misclassified good credit customers) is ~4* that of FP (misclassified bad credit customers).?\n",
    "\n",
    "\n",
    "#Below-  Cross Validation & Nested Cross Validation \n",
    "  # Perform simple cross validation\n",
    "\n",
    "Labels = labels.reshape(labels.shape[0],)\n",
    "scoring = ['precision_macro', 'recall_macro', 'roc_auc']  #create list of computed metrics for each fold\n",
    "logistic_mod = linear_model.LogisticRegression(C = 1.0, class_weight = {0:0.45, 1:0.55})   # define object for logistic reg model\n",
    "scores = ms.cross_validate(logistic_mod, Features, labels, scoring=scoring,\n",
    "                        cv=10, return_train_score=False)  #cross_validate used from scikit-learn model_selection package"
   ]
  },
  {
   "cell_type": "code",
   "execution_count": 54,
   "metadata": {},
   "outputs": [
    {
     "name": "stdout",
     "output_type": "stream",
     "text": [
      "         Precision     Recall       AUC\n",
      "Fold  1    0.641        0.614      0.711\n",
      "Fold  2    0.730        0.702      0.810\n",
      "Fold  3    0.707        0.666      0.783\n",
      "Fold  4    0.739        0.715      0.815\n",
      "Fold  5    0.641        0.624      0.711\n",
      "Fold  6    0.728        0.692      0.802\n",
      "Fold  7    0.620        0.593      0.697\n",
      "Fold  8    0.682        0.648      0.735\n",
      "Fold  9    0.641        0.623      0.720\n",
      "Fold 10    0.665        0.628      0.725\n",
      "----------------------------------------\n",
      "Mean       0.680        0.651      0.751\n",
      "Std        0.042        0.039      0.044\n"
     ]
    }
   ],
   "source": [
    "#Examine metrics, mean, & std dev for each fold in cv\n",
    " # also shows 'macro' precision & recall which are average over positive & negative cases\n",
    "    \n",
    "def print_format(f,x,y,z):\n",
    "    print('Fold %2d    %4.3f        %4.3f      %4.3f' % (f, x, y, z))\n",
    "\n",
    "def print_cv(scores):\n",
    "    fold = [x + 1 for x in range(len(scores['test_precision_macro']))]\n",
    "    print('         Precision     Recall       AUC')\n",
    "    [print_format(f,x,y,z) for f,x,y,z in zip(fold, scores['test_precision_macro'], \n",
    "                                          scores['test_recall_macro'],\n",
    "                                          scores['test_roc_auc'])]\n",
    "    print('-' * 40)\n",
    "    print('Mean       %4.3f        %4.3f      %4.3f' % \n",
    "          (np.mean(scores['test_precision_macro']), np.mean(scores['test_recall_macro']), np.mean(scores['test_roc_auc'])))  \n",
    "    print('Std        %4.3f        %4.3f      %4.3f' % \n",
    "          (np.std(scores['test_precision_macro']), np.std(scores['test_recall_macro']), np.std(scores['test_roc_auc'])))\n",
    "\n",
    "print_cv(scores)   "
   ]
  },
  {
   "cell_type": "code",
   "execution_count": 55,
   "metadata": {},
   "outputs": [],
   "source": [
    "#Above- Variability in each fold. Std dev is order of magnitude away from mean. No one fold is representative of performance metrics.\n",
    " # When compared to baseline model, recall and AUC are lower, but precision is higher. Also, metrics for baseline are w/in 1 std dev of average metrics from cv.\n",
    "    \n",
    "##Below- Perform optimization of hyperparameters w/ nested cross validation\n",
    " # This may or may not improve model selection.\n",
    "    \n",
    " # Define randomly sampled folds for inner & outer loops   \n",
    "\n",
    "nr.seed(123)\n",
    "inside = ms.KFold(n_splits=10, shuffle = True)  #define fold selection using KFolds function from scikit-learn model_selection package\n",
    "nr.seed(321)                                      # shuffle= true specifies that random shuffle is performed before folds are created\n",
    "outside = ms.KFold(n_splits=10, shuffle = True)   # by creating these independent fold objects, there is no need to actually create nested loops for this process"
   ]
  },
  {
   "cell_type": "code",
   "execution_count": 56,
   "metadata": {},
   "outputs": [],
   "source": [
    "\n",
    "nr.seed(3456)\n",
    "# Define dictionary for grid search & model object to search on\n",
    "param_grid = {\"C\": [0.1, 1, 10, 100, 1000]}  #List of 5 values to try & 10 fold validation being used (trained & evaluated 50 times)\n",
    "logistic_mod = linear_model.LogisticRegression(class_weight = {0:0.45, 0:0.55})  # Define logistic regression model object\n",
    "\n",
    "# Perform grid search over the parameters using GridSearch function from scikit-learn model_selection package \n",
    "clf = ms.GridSearchCV(estimator = logistic_mod, param_grid = param_grid, \n",
    "                      cv = inside,    # Use the inside folds\n",
    "                      scoring = 'roc_auc',\n",
    "                      return_train_score = True)\n",
    "\n",
    "# Confusingly, scikit-learn LogisticRegression function uses regularization parameter C, which is inverse of usual l2 regularization parameter lambda.\n",
    " # thus the smaller parameter the stronger the regualrization"
   ]
  },
  {
   "cell_type": "code",
   "execution_count": 57,
   "metadata": {},
   "outputs": [
    {
     "name": "stdout",
     "output_type": "stream",
     "text": [
      "[0.68917924 0.68917924 0.68917924 0.68917924 0.68917924]\n",
      "[0.71763718 0.71763718 0.71763718 0.71763718 0.71763718]\n",
      "[0.78677532 0.78683804 0.78684312 0.78684482 0.78684482]\n",
      "[0.70095357 0.70095357 0.70095357 0.70095357 0.70095357]\n",
      "[0.70971931 0.7097095  0.70971113 0.70971113 0.70971113]\n",
      "[0.79947748 0.79954    0.79954845 0.79954845 0.79954845]\n",
      "[0.76823749 0.76825747 0.76825914 0.76825914 0.76825914]\n",
      "[0.79377466 0.79384187 0.79384691 0.79384523 0.79384523]\n",
      "[0.7832024  0.78324421 0.78325425 0.78325592 0.78325592]\n",
      "[0.76161371 0.76163029 0.76163029 0.76163195 0.76163195]\n"
     ]
    },
    {
     "data": {
      "text/plain": [
       "100"
      ]
     },
     "execution_count": 57,
     "metadata": {},
     "output_type": "execute_result"
    }
   ],
   "source": [
    "# Fit cross validated grid search over data using fit method\n",
    "\n",
    "clf.fit(Features, Labels)\n",
    "keys = list(clf.cv_results_.keys())  #AUC for each hyperparameter & fold is displayed in array\n",
    "for key in keys[6:16]:\n",
    "    print(clf.cv_results_[key])\n",
    "\n",
    "clf.best_estimator_.C   # print best parameter value"
   ]
  },
  {
   "cell_type": "code",
   "execution_count": 58,
   "metadata": {},
   "outputs": [
    {
     "name": "stdout",
     "output_type": "stream",
     "text": [
      "Performance metrics by parameter\n",
      "Parameter   Mean performance   STD performance\n",
      "    0.10        0.75106            0.04006\n",
      "    1.00        0.75108            0.04009\n",
      "   10.00        0.75109            0.04009\n",
      "  100.00        0.75109            0.04009\n",
      " 1000.00        0.75109            0.04009\n"
     ]
    },
    {
     "data": {
      "image/png": "[encoded data removed]",
      "text/plain": [
       "<matplotlib.figure.Figure at 0x1fd95b96ef0>"
      ]
     },
     "metadata": {},
     "output_type": "display_data"
    }
   ],
   "source": [
    "#Above- 10 folds by 5 hyperparameter values w/ optimal hyperparameter value- 100\n",
    "\n",
    "#Below- Compute & examine mean & std dev of AUC for each hyperparameter value. Then plot AUC values for each fold vs hyperparemeter values\n",
    " # Mean AUC for each parameter are red + in plot\n",
    "\n",
    "def plot_cv(clf, params_grid, param = 'C'):\n",
    "    params = [x for x in params_grid[param]]\n",
    "  \n",
    "    keys = list(clf.cv_results_.keys())              \n",
    "    grid = np.array([clf.cv_results_[key] for key in keys[6:16]])\n",
    "    means = np.mean(grid, axis = 0)\n",
    "    stds = np.std(grid, axis = 0)\n",
    "    print('Performance metrics by parameter')\n",
    "    print('Parameter   Mean performance   STD performance')\n",
    "    for x,y,z in zip(params, means, stds):\n",
    "        print('%8.2f        %6.5f            %6.5f' % (x,y,z))\n",
    "    \n",
    "    params = [math.log10(x) for x in params]\n",
    "    \n",
    "    plt.scatter(params * grid.shape[0], grid.flatten())\n",
    "    p = plt.scatter(params, means, color = 'red', marker = '+', s = 300)\n",
    "    plt.plot(params, np.transpose(grid))\n",
    "    plt.title('Performance metric vs. log parameter value\\n from cross validation')\n",
    "    plt.xlabel('Log hyperparameter value')\n",
    "    plt.ylabel('Performance metric')\n",
    "    \n",
    "plot_cv(clf, param_grid)    "
   ]
  },
  {
   "cell_type": "code",
   "execution_count": 59,
   "metadata": {},
   "outputs": [
    {
     "name": "stdout",
     "output_type": "stream",
     "text": [
      "Mean performance metric = 0.751\n",
      "SDT of the metric       = 0.030\n",
      "Outcomes by cv fold\n",
      "Fold  1    0.718\n",
      "Fold  2    0.702\n",
      "Fold  3    0.774\n",
      "Fold  4    0.770\n",
      "Fold  5    0.774\n",
      "Fold  6    0.763\n",
      "Fold  7    0.699\n",
      "Fold  8    0.774\n",
      "Fold  9    0.764\n",
      "Fold 10    0.772\n"
     ]
    }
   ],
   "source": [
    "#Above- Mean AUC for each hyperparameter w/in 1 std dev of each other (nearly identical), indicating model permformance not sentistive to choice of hyperparameter.\n",
    " # Variation in AUC from metric to metric, regardless of hyperparmeter, due to random sampling of data.\n",
    "    \n",
    "#Below- Complete outer loop of nested cv to evaluate performance of 'best' model selected by inner loop using cross_val_scores \n",
    " # function from model_selection package\n",
    "    \n",
    "nr.seed(498)\n",
    "cv_estimate = ms.cross_val_score(clf, Features, Labels, cv = outside) # Use outside folds\n",
    "print('Mean performance metric = %4.3f' % np.mean(cv_estimate))\n",
    "\n",
    "print('SDT of the metric       = %4.3f' % np.std(cv_estimate))\n",
    "print('Outcomes by cv fold')\n",
    "for i, x in enumerate(cv_estimate):\n",
    "    print('Fold %2d    %4.3f' % (i+1, x))"
   ]
  },
  {
   "cell_type": "code",
   "execution_count": 78,
   "metadata": {},
   "outputs": [
    {
     "data": {
      "image/png": "[encoded data removed]",
      "text/plain": [
       "<matplotlib.figure.Figure at 0x1fd96bf0780>"
      ]
     },
     "metadata": {},
     "output_type": "display_data"
    },
    {
     "ename": "ValueError",
     "evalue": "Classification metrics can't handle a mix of binary and continuous-multioutput targets",
     "output_type": "error",
     "traceback": [
      "\u001b[1;31m---------------------------------------------------------------------------\u001b[0m",
      "\u001b[1;31mValueError\u001b[0m                                Traceback (most recent call last)",
      "\u001b[1;32m<ipython-input-78-fe8b398541a2>\u001b[0m in \u001b[0;36m<module>\u001b[1;34m()\u001b[0m\n\u001b[0;32m      8\u001b[0m \u001b[0mprobabilities\u001b[0m \u001b[1;33m=\u001b[0m \u001b[0mlogistic_mod\u001b[0m\u001b[1;33m.\u001b[0m\u001b[0mpredict_proba\u001b[0m\u001b[1;33m(\u001b[0m\u001b[0mx_test\u001b[0m\u001b[1;33m)\u001b[0m\u001b[1;33m\u001b[0m\u001b[0m\n\u001b[0;32m      9\u001b[0m \u001b[0mplot_auc\u001b[0m\u001b[1;33m(\u001b[0m\u001b[0my_test\u001b[0m\u001b[1;33m,\u001b[0m \u001b[0mprobabilities\u001b[0m\u001b[1;33m)\u001b[0m\u001b[1;33m\u001b[0m\u001b[0m\n\u001b[1;32m---> 10\u001b[1;33m \u001b[0mprint\u001b[0m\u001b[1;33m(\u001b[0m\u001b[0msklm\u001b[0m\u001b[1;33m.\u001b[0m\u001b[0mconfusion_matrix\u001b[0m\u001b[1;33m(\u001b[0m\u001b[0my_test\u001b[0m\u001b[1;33m,\u001b[0m \u001b[0mprobabilities\u001b[0m\u001b[1;33m)\u001b[0m\u001b[1;33m)\u001b[0m\u001b[1;33m\u001b[0m\u001b[0m\n\u001b[0m\u001b[0;32m     11\u001b[0m \u001b[0mprint_metrics\u001b[0m\u001b[1;33m(\u001b[0m\u001b[0my_test\u001b[0m\u001b[1;33m,\u001b[0m \u001b[0mprobabilities\u001b[0m\u001b[1;33m,\u001b[0m \u001b[1;36m0.3\u001b[0m\u001b[1;33m)\u001b[0m\u001b[1;33m\u001b[0m\u001b[0m\n",
      "\u001b[1;32m~\\Anaconda3\\lib\\site-packages\\sklearn\\metrics\\classification.py\u001b[0m in \u001b[0;36mconfusion_matrix\u001b[1;34m(y_true, y_pred, labels, sample_weight)\u001b[0m\n\u001b[0;32m    248\u001b[0m \u001b[1;33m\u001b[0m\u001b[0m\n\u001b[0;32m    249\u001b[0m     \"\"\"\n\u001b[1;32m--> 250\u001b[1;33m     \u001b[0my_type\u001b[0m\u001b[1;33m,\u001b[0m \u001b[0my_true\u001b[0m\u001b[1;33m,\u001b[0m \u001b[0my_pred\u001b[0m \u001b[1;33m=\u001b[0m \u001b[0m_check_targets\u001b[0m\u001b[1;33m(\u001b[0m\u001b[0my_true\u001b[0m\u001b[1;33m,\u001b[0m \u001b[0my_pred\u001b[0m\u001b[1;33m)\u001b[0m\u001b[1;33m\u001b[0m\u001b[0m\n\u001b[0m\u001b[0;32m    251\u001b[0m     \u001b[1;32mif\u001b[0m \u001b[0my_type\u001b[0m \u001b[1;32mnot\u001b[0m \u001b[1;32min\u001b[0m \u001b[1;33m(\u001b[0m\u001b[1;34m\"binary\"\u001b[0m\u001b[1;33m,\u001b[0m \u001b[1;34m\"multiclass\"\u001b[0m\u001b[1;33m)\u001b[0m\u001b[1;33m:\u001b[0m\u001b[1;33m\u001b[0m\u001b[0m\n\u001b[0;32m    252\u001b[0m         \u001b[1;32mraise\u001b[0m \u001b[0mValueError\u001b[0m\u001b[1;33m(\u001b[0m\u001b[1;34m\"%s is not supported\"\u001b[0m \u001b[1;33m%\u001b[0m \u001b[0my_type\u001b[0m\u001b[1;33m)\u001b[0m\u001b[1;33m\u001b[0m\u001b[0m\n",
      "\u001b[1;32m~\\Anaconda3\\lib\\site-packages\\sklearn\\metrics\\classification.py\u001b[0m in \u001b[0;36m_check_targets\u001b[1;34m(y_true, y_pred)\u001b[0m\n\u001b[0;32m     79\u001b[0m     \u001b[1;32mif\u001b[0m \u001b[0mlen\u001b[0m\u001b[1;33m(\u001b[0m\u001b[0my_type\u001b[0m\u001b[1;33m)\u001b[0m \u001b[1;33m>\u001b[0m \u001b[1;36m1\u001b[0m\u001b[1;33m:\u001b[0m\u001b[1;33m\u001b[0m\u001b[0m\n\u001b[0;32m     80\u001b[0m         raise ValueError(\"Classification metrics can't handle a mix of {0} \"\n\u001b[1;32m---> 81\u001b[1;33m                          \"and {1} targets\".format(type_true, type_pred))\n\u001b[0m\u001b[0;32m     82\u001b[0m \u001b[1;33m\u001b[0m\u001b[0m\n\u001b[0;32m     83\u001b[0m     \u001b[1;31m# We can't have more than one value on y_type => The set is no more needed\u001b[0m\u001b[1;33m\u001b[0m\u001b[1;33m\u001b[0m\u001b[0m\n",
      "\u001b[1;31mValueError\u001b[0m: Classification metrics can't handle a mix of binary and continuous-multioutput targets"
     ]
    }
   ],
   "source": [
    "#Above- Mean AUC is same as estimated for inner loop & lower than baseline model.\n",
    " # All of these values are within 1 std dev of each other & thus these differences cannot be considered significant.\n",
    "    \n",
    "#Below- Build & test model using optimal hyperparameters\n",
    "\n",
    "logistic_mod = linear_model.LogisticRegression(C = 100, class_weight = {0:0.45, 1:0.55}) \n",
    "logistic_mod.fit(x_train, y_train)\n",
    "probabilities = logistic_mod.predict_proba(x_test)\n",
    "plot_auc(y_test, probabilities)\n",
    "print(sklm.confusion_matrix(y_test, probabilities))\n",
    "print_metrics(y_test, probabilities, 0.3)  \n"
   ]
  },
  {
   "cell_type": "code",
   "execution_count": 67,
   "metadata": {},
   "outputs": [
    {
     "name": "stdout",
     "output_type": "stream",
     "text": [
      "False\n"
     ]
    }
   ],
   "source": [
    "print(((y_test != 0.) & (y_test != 1.)).any())\n",
    "\n",
    "## Try printing confusion matrix"
   ]
  },
  {
   "cell_type": "code",
   "execution_count": 83,
   "metadata": {},
   "outputs": [
    {
     "name": "stdout",
     "output_type": "stream",
     "text": [
      "(16404, 33)\n",
      "[False False False  True  True  True False False  True False  True  True\n",
      "  True  True  True  True  True False False  True False False False False\n",
      " False  True False False False False False  True  True]\n",
      "(16404, 15)\n"
     ]
    }
   ],
   "source": [
    "## Feature Selection\n",
    " # Remove low variance features using VarianceThreshold function from scikit-learn feature_selection package\n",
    "          # Identifies features w/ less than some threshold of unique values, for probability p= 0.8 is used, or 80%.\n",
    "    # Apply threshold to variance of each feature & remove features w/ variance below that threshold using fit_transform method.\n",
    "    # Results displayed as True or False logical for inclusion of each feature using get_support_ attribute\n",
    "    \n",
    "print(Features.shape)\n",
    "\n",
    "sel = fs.VarianceThreshold(threshold=(.8 * (1 - .8)))  # Define variance threhold\n",
    "Features_reduced = sel.fit_transform(Features)         # Fit threshold to feature array\n",
    "\n",
    "print(sel.get_support())  # Print support & shape for transformed features\n",
    "print(Features_reduced.shape)\n"
   ]
  },
  {
   "cell_type": "code",
   "execution_count": 84,
   "metadata": {},
   "outputs": [
    {
     "data": {
      "text/plain": [
       "array([ True,  True,  True,  True,  True,  True,  True,  True,  True,\n",
       "        True,  True,  True,  True, False,  True])"
      ]
     },
     "execution_count": 84,
     "metadata": {},
     "output_type": "execute_result"
    }
   ],
   "source": [
    "#Above-  Usuable features reduced from 33 to 15 where 18 low variance features were removed.\n",
    "\n",
    "#Below- Check to see if high variance features are important or not using cv.\n",
    " # Features are recursively removed while cv finds changes to model performance to determine if feature should be deleted.\n",
    "    \n",
    "\n",
    "Labels2 = labels.reshape(labels.shape[0],)   # Reshape the Label array\n",
    "\n",
    "nr.seed(988)\n",
    "feature_folds = ms.KFold(n_splits=10, shuffle = True)  # Set folds for nested cross validation\n",
    "\n",
    "logistic_mod2 = linear_model.LogisticRegression(C = 100, class_weight = {0:0.45, 1:0.55})   # Define model\n",
    "\n",
    "nr.seed(6677)\n",
    "selector = fs.RFECV(estimator = logistic_mod, cv = feature_folds, scoring = 'roc_auc')  # Perform feature selection by CV w/ high variance features only\n",
    "selector = selector.fit(Features_reduced, Labels)\n",
    "selector.support_ "
   ]
  },
  {
   "cell_type": "code",
   "execution_count": 85,
   "metadata": {},
   "outputs": [
    {
     "data": {
      "text/plain": [
       "array([1, 1, 1, 1, 1, 1, 1, 1, 1, 1, 1, 1, 1, 2, 1])"
      ]
     },
     "execution_count": 85,
     "metadata": {},
     "output_type": "execute_result"
    }
   ],
   "source": [
    "#Above - 1 feature is eliminated\n",
    "\n",
    "selector.ranking_  #see relative ranking of features"
   ]
  },
  {
   "cell_type": "code",
   "execution_count": 86,
   "metadata": {},
   "outputs": [
    {
     "data": {
      "text/plain": [
       "(16404, 14)"
      ]
     },
     "execution_count": 86,
     "metadata": {},
     "output_type": "execute_result"
    }
   ],
   "source": [
    "#Above- Features selected are '1', and features removed are '2'\n",
    "\n",
    "#Below- Apply the selector to the feature array using transorm method\n",
    "\n",
    "Features_reduced = selector.transform(Features_reduced)\n",
    "Features_reduced.shape"
   ]
  },
  {
   "cell_type": "code",
   "execution_count": 87,
   "metadata": {},
   "outputs": [
    {
     "data": {
      "text/plain": [
       "Text(0.5,0,'Number of features')"
      ]
     },
     "execution_count": 87,
     "metadata": {},
     "output_type": "execute_result"
    },
    {
     "data": {
      "image/png": "[encoded data removed]",
      "text/plain": [
       "<matplotlib.figure.Figure at 0x1fd9697eeb8>"
      ]
     },
     "metadata": {},
     "output_type": "display_data"
    }
   ],
   "source": [
    "#Above- Features now reduced to 14 from 15 high variance features.\n",
    "\n",
    "#Below- Plot the AUC (the metric) vs # of features\n",
    "\n",
    "plt.plot(range(1, len(selector.grid_scores_) + 1), selector.grid_scores_)\n",
    "plt.title('Mean AUC by number of features')\n",
    "plt.ylabel('AUC')\n",
    "plt.xlabel('Number of features')"
   ]
  },
  {
   "cell_type": "code",
   "execution_count": 88,
   "metadata": {},
   "outputs": [],
   "source": [
    "#Above- Change in AUC is not that great across range of features but drops at ~14 features selected.\n",
    "\n",
    "#Below- Use nested cv to optimize model hyperperameter & test model performance w/ features currently selected\n",
    "\n",
    "nr.seed(123)\n",
    "inside2 = ms.KFold(n_splits=10, shuffle = True)  #Make inner loop\n",
    "nr.seed(321)\n",
    "outside2 = ms.KFold(n_splits=10, shuffle = True)  # Make outer loop"
   ]
  },
  {
   "cell_type": "code",
   "execution_count": 89,
   "metadata": {},
   "outputs": [
    {
     "data": {
      "text/plain": [
       "1"
      ]
     },
     "execution_count": 89,
     "metadata": {},
     "output_type": "execute_result"
    }
   ],
   "source": [
    "#Perform grid search for optimal model hyperparamter using AUC as metric\n",
    "\n",
    "nr.seed(3456)\n",
    "param_grid = {\"C\": [0.1, 1, 10, 100, 1000]}  # Define dictionary for grid search & model object to search on\n",
    "logistic_mod2 = linear_model.LogisticRegression(class_weight = {0:0.45, 1:0.55})  # Define logistic regression model\n",
    "\n",
    "clf = ms.GridSearchCV(estimator = logistic_mod2, param_grid = param_grid,  # Perform grid search over parameters\n",
    "                      cv = inside2,                                        # Use the inside folds\n",
    "                      scoring = 'roc_auc',\n",
    "                      return_train_score = True)\n",
    "\n",
    "clf.fit(Features_reduced, Labels2)   # Fit cross validated grid search over data \n",
    "clf.best_estimator_.C  # Print best parameter value\n"
   ]
  },
  {
   "cell_type": "code",
   "execution_count": 90,
   "metadata": {},
   "outputs": [
    {
     "name": "stdout",
     "output_type": "stream",
     "text": [
      "Performance Metrics by Parameter\n",
      "Parameter   Mean Performance   STD Performance\n",
      "    0.10        0.80553            0.01140\n",
      "    1.00        0.80570            0.01137\n",
      "   10.00        0.80565            0.01144\n",
      "  100.00        0.80563            0.01144\n",
      " 1000.00        0.80563            0.01144\n"
     ]
    },
    {
     "data": {
      "image/png": "[encoded data removed]",
      "text/plain": [
       "<matplotlib.figure.Figure at 0x1fd95b961d0>"
      ]
     },
     "metadata": {},
     "output_type": "display_data"
    }
   ],
   "source": [
    "#Above- The optimal value of the hyperparameter is 1 which is larger than same model w/ all of the features/\n",
    "  # Recall, parameter is inverse of regularization strength. So smaller the parameter means the model w/ fewer features requires less regularization.\n",
    "    # larger parameter means the model with more features requires more regularization\n",
    "    \n",
    "#Below- Examine results of inner loop of cross validation\n",
    "\n",
    "def plot_cv(clf, params_grid, param = 'C'):\n",
    "    params = [x for x in params_grid[param]]\n",
    "  \n",
    "    keys = list(clf.cv_results_.keys())              \n",
    "    grid = np.array([clf.cv_results_[key] for key in keys[6:16]])\n",
    "    means = np.mean(grid, axis = 0)\n",
    "    stds = np.std(grid, axis = 0)\n",
    "    print('Performance Metrics by Parameter')\n",
    "    print('Parameter   Mean Performance   STD Performance')\n",
    "    for x,y,z in zip(params, means, stds):\n",
    "        print('%8.2f        %6.5f            %6.5f' % (x,y,z))\n",
    "    \n",
    "    params = [math.log10(x) for x in params]\n",
    "    \n",
    "    plt.scatter(params * grid.shape[0], grid.flatten())\n",
    "    p = plt.scatter(params, means, color = 'red', marker = '+', s = 300)\n",
    "    plt.plot(params, np.transpose(grid))\n",
    "    plt.title('Performance Metric vs. Log Parameter Value\\n from Cross Validation')\n",
    "    plt.xlabel('Log Hyperparameter Value')\n",
    "    plt.ylabel('Performance Metric')\n",
    "    \n",
    "plot_cv(clf, param_grid)    "
   ]
  },
  {
   "cell_type": "code",
   "execution_count": 91,
   "metadata": {},
   "outputs": [
    {
     "name": "stdout",
     "output_type": "stream",
     "text": [
      "Mean Performance Metric = 0.734\n",
      "SDT of the Metric       = 0.041\n",
      "Outcomes by CV Fold\n",
      "Fold  1    0.816\n",
      "Fold  2    0.701\n",
      "Fold  3    0.729\n",
      "Fold  4    0.711\n",
      "Fold  5    0.715\n",
      "Fold  6    0.700\n",
      "Fold  7    0.812\n",
      "Fold  8    0.712\n",
      "Fold  9    0.731\n",
      "Fold 10    0.710\n"
     ]
    }
   ],
   "source": [
    "#Above- Parameter of 1 has highest AUC= 0.80570. AUC's are w/in 1 std dev of each other, indicating no hyperparmeter value \n",
    " # is significantly better than the other values.\n",
    "    \n",
    "#Below- Perform outer loop of nested cv\n",
    "\n",
    "nr.seed(498)\n",
    "cv_estimate = ms.cross_val_score(clf, Features, Labels2, \n",
    "                                 cv = outside2) # Use the outside folds\n",
    "print('Mean Performance Metric = %4.3f' % np.mean(cv_estimate))\n",
    "\n",
    "print('SDT of the Metric       = %4.3f' % np.std(cv_estimate))\n",
    "print('Outcomes by CV Fold')\n",
    "for i, x in enumerate(cv_estimate):\n",
    "    print('Fold %2d    %4.3f' % (i+1, x))"
   ]
  },
  {
   "cell_type": "code",
   "execution_count": 92,
   "metadata": {},
   "outputs": [
    {
     "data": {
      "text/plain": [
       "LogisticRegression(C=1, class_weight={0: 0.45, 1: 0.55}, dual=False,\n",
       "          fit_intercept=True, intercept_scaling=1, max_iter=100,\n",
       "          multi_class='ovr', n_jobs=1, penalty='l2', random_state=None,\n",
       "          solver='liblinear', tol=0.0001, verbose=0, warm_start=False)"
      ]
     },
     "execution_count": 92,
     "metadata": {},
     "output_type": "execute_result"
    }
   ],
   "source": [
    "#Above- Performance metric of AUC= 0.734 is significantly different than for inner loop of cross validation.\n",
    "\n",
    "#Below- Test model w/ 14 features selected & optimal hyperparameter of 1.0\n",
    "\n",
    "nr.seed(1115)\n",
    "indx = range(Features_reduced.shape[0])\n",
    "indx = ms.train_test_split(indx, test_size = 5000)  # Randomly sample cases to create independent training & test data\n",
    "x_train = Features_reduced[indx[0],:]\n",
    "y_train = np.ravel(Labels[indx[0]])\n",
    "x_test = Features_reduced[indx[1],:]\n",
    "y_test = np.ravel(Labels[indx[1]])\n",
    "\n",
    "logistic_mod2 = linear_model.LogisticRegression(C = 1, class_weight = {0:0.45, 1:0.55})   # Define & fit logistic regression model\n",
    "logistic_mod2.fit(x_train, y_train)"
   ]
  },
  {
   "cell_type": "code",
   "execution_count": 93,
   "metadata": {},
   "outputs": [
    {
     "name": "stdout",
     "output_type": "stream",
     "text": [
      "[[0.51892019 0.48107981]\n",
      " [0.47089331 0.52910669]\n",
      " [0.92174994 0.07825006]\n",
      " [0.94485629 0.05514371]\n",
      " [0.83093711 0.16906289]\n",
      " [0.9761029  0.0238971 ]\n",
      " [0.14538721 0.85461279]\n",
      " [0.54578981 0.45421019]\n",
      " [0.45801063 0.54198937]\n",
      " [0.50108248 0.49891752]\n",
      " [0.96389793 0.03610207]\n",
      " [0.85288493 0.14711507]\n",
      " [0.06355524 0.93644476]\n",
      " [0.55837231 0.44162769]\n",
      " [0.65402845 0.34597155]]\n"
     ]
    }
   ],
   "source": [
    "# Score model & examine resulting probabilities\n",
    "\n",
    "def score_model(probs, threshold):\n",
    "    return np.array([1 if x > threshold else 0 for x in probs[:,1]])\n",
    "\n",
    "probabilities = logistic_mod2.predict_proba(x_test)\n",
    "print(probabilities[:15,:])\n",
    "scores = score_model(probabilities, 0.3)"
   ]
  },
  {
   "cell_type": "code",
   "execution_count": 94,
   "metadata": {},
   "outputs": [
    {
     "name": "stdout",
     "output_type": "stream",
     "text": [
      "                 Confusion Matrix\n",
      "                 Score Positive    Score Negative\n",
      "Actual Positive      2033              1284\n",
      "Actual Negative       326              1357\n",
      "\n",
      "Accuracy        0.68\n",
      "AUC             0.81\n",
      "Macro Precision 0.69\n",
      "Macro Recall    0.71\n",
      " \n",
      "           Positive      Negative\n",
      "Num Case     3317          1683\n",
      "Precision    0.86          0.51\n",
      "Recall       0.61          0.81\n",
      "F1           0.72          0.63\n"
     ]
    },
    {
     "data": {
      "image/png": "[encoded data removed]",
      "text/plain": [
       "<matplotlib.figure.Figure at 0x1fd95cab160>"
      ]
     },
     "metadata": {},
     "output_type": "display_data"
    }
   ],
   "source": [
    "# Display performance metric for model\n",
    "\n",
    "def print_metrics(labels, probs, threshold):\n",
    "    scores = score_model(probs, threshold)\n",
    "    metrics = sklm.precision_recall_fscore_support(labels, scores)\n",
    "    conf = sklm.confusion_matrix(labels, scores)\n",
    "    print('                 Confusion Matrix')\n",
    "    print('                 Score Positive    Score Negative')\n",
    "    print('Actual Positive    %6d' % conf[0,0] + '             %5d' % conf[0,1])\n",
    "    print('Actual Negative    %6d' % conf[1,0] + '             %5d' % conf[1,1])\n",
    "    print('')\n",
    "    print('Accuracy        %0.2f' % sklm.accuracy_score(labels, scores))\n",
    "    print('AUC             %0.2f' % sklm.roc_auc_score(labels, probs[:,1]))\n",
    "    print('Macro Precision %0.2f' % float((float(metrics[0][0]) + float(metrics[0][1]))/2.0))\n",
    "    print('Macro Recall    %0.2f' % float((float(metrics[1][0]) + float(metrics[1][1]))/2.0))\n",
    "    print(' ')\n",
    "    print('           Positive      Negative')\n",
    "    print('Num Case   %6d' % metrics[3][0] + '        %6d' % metrics[3][1])\n",
    "    print('Precision  %6.2f' % metrics[0][0] + '        %6.2f' % metrics[0][1])\n",
    "    print('Recall     %6.2f' % metrics[1][0] + '        %6.2f' % metrics[1][1])\n",
    "    print('F1         %6.2f' % metrics[2][0] + '        %6.2f' % metrics[2][1])\n",
    "\n",
    "def plot_auc(labels, probs):\n",
    "    fpr, tpr, threshold = sklm.roc_curve(labels, probs[:,1])    # Compute FP rate, TP rate & threshold w/ AUC\n",
    "    auc = sklm.auc(fpr, tpr)\n",
    "    \n",
    "    plt.title('Receiver Operating Characteristic')         # Plot result\n",
    "    plt.plot(fpr, tpr, color = 'orange', label = 'AUC = %0.2f' % auc)\n",
    "    plt.legend(loc = 'lower right')\n",
    "    plt.plot([0, 1], [0, 1],'r--')\n",
    "    plt.xlim([0, 1])\n",
    "    plt.ylim([0, 1])\n",
    "    plt.ylabel('True Positive Rate')\n",
    "    plt.xlabel('False Positive Rate')\n",
    "    plt.show()    \n",
    "        \n",
    "print_metrics(y_test, probabilities, 0.3)    \n",
    "plot_auc(y_test, probabilities)   "
   ]
  },
  {
   "cell_type": "code",
   "execution_count": 106,
   "metadata": {},
   "outputs": [
    {
     "data": {
      "text/plain": [
       "PCA(copy=True, iterated_power='auto', n_components=None, random_state=None,\n",
       "  svd_solver='auto', tol=0.0, whiten=False)"
      ]
     },
     "execution_count": 106,
     "metadata": {},
     "output_type": "execute_result"
    }
   ],
   "source": [
    "#Above- AUC= 0.81 is higher than achieved w/ cv, which indicates these results are overly optimistic & is common when a single slpit is used to eval model.\n",
    "\n",
    "\n",
    "## Dimensionality Reduction for Classification\n",
    "\n",
    "#Below- There are 1000 cases w/ 35 features & 1 label. Numeric features wer Zscore scaled so they are 0 centered (mean removed) & unit variance (divide by std dev).\n",
    "   # Before peforming PCS, all features must be 0 mean & unit variance, otherwise results in biased computation of component & scales.\n",
    "   # Compute principle components for training feature subset\n",
    "\n",
    "pca_mod = skde.PCA()\n",
    "pca_comps = pca_mod.fit(x_train)\n",
    "pca_comps"
   ]
  },
  {
   "cell_type": "code",
   "execution_count": 107,
   "metadata": {},
   "outputs": [
    {
     "name": "stdout",
     "output_type": "stream",
     "text": [
      "[2.13932704e-01 1.47559499e-01 7.59291366e-02 7.32198098e-02\n",
      " 5.72837317e-02 5.45720987e-02 4.60003306e-02 3.98206450e-02\n",
      " 3.75876991e-02 3.09711688e-02 3.05778425e-02 2.60748592e-02\n",
      " 2.21819371e-02 2.10822219e-02 1.95294980e-02 1.76298683e-02\n",
      " 1.55957654e-02 1.48226996e-02 1.21117102e-02 1.10334706e-02\n",
      " 8.34345811e-03 6.51413591e-03 5.90638105e-03 5.24501098e-03\n",
      " 3.61348908e-03 2.86082897e-03 5.71221795e-31 1.14126692e-31\n",
      " 1.41097525e-32 9.54883382e-33 3.03188781e-33 2.25674735e-33\n",
      " 1.07052033e-33]\n",
      "1.0\n"
     ]
    }
   ],
   "source": [
    "# Examine variance for each component & sum of variance\n",
    "\n",
    "print(pca_comps.explained_variance_ratio_)\n",
    "print(np.sum(pca_comps.explained_variance_ratio_))"
   ]
  },
  {
   "cell_type": "code",
   "execution_count": 108,
   "metadata": {},
   "outputs": [
    {
     "data": {
      "image/png": "[encoded data removed]",
      "text/plain": [
       "<matplotlib.figure.Figure at 0x1fd965217b8>"
      ]
     },
     "metadata": {},
     "output_type": "display_data"
    }
   ],
   "source": [
    "#Above- variance ratios are in decending order w/ sum= 1.0\n",
    "\n",
    "#Below- Plot explained variance vs. component\n",
    "\n",
    "def plot_explained(mod):\n",
    "    comps = mod.explained_variance_ratio_\n",
    "    x = range(len(comps))\n",
    "    x = [y + 1 for y in x]          \n",
    "    plt.plot(x,comps)\n",
    "    plt.xlabel('Components')\n",
    "    plt.ylabel('Explained Variance')\n",
    "\n",
    "plot_explained(pca_comps)"
   ]
  },
  {
   "cell_type": "code",
   "execution_count": 109,
   "metadata": {},
   "outputs": [
    {
     "data": {
      "text/plain": [
       "(11404, 5)"
      ]
     },
     "execution_count": 109,
     "metadata": {},
     "output_type": "execute_result"
    }
   ],
   "source": [
    "#Above- The scree plot above shows rapid decrease in explained variance until ~5th component then slowly thereafter.\n",
    " #First few components explain large fraction of variance & therefore contain much of explanatory info in data.\n",
    "  #The 'knee' or inflection point in scree curve is used to choose # of components selected, ~5.\n",
    "\n",
    "#Below- Create/train & fit PCA model w/ reduced to 5 components, then transforms features using that model\n",
    "\n",
    "pca_mod_5 = skde.PCA(n_components = 5)\n",
    "pca_mod_5.fit(x_train)\n",
    "Comps = pca_mod_5.transform(x_train)\n",
    "Comps.shape"
   ]
  },
  {
   "cell_type": "code",
   "execution_count": 110,
   "metadata": {},
   "outputs": [
    {
     "name": "stdout",
     "output_type": "stream",
     "text": [
      "[-0.70793938]\n",
      "[[ 0.22389774 -0.95166926 -0.63229909  0.29284592 -1.01107191]]\n"
     ]
    }
   ],
   "source": [
    "# Compute & evaluate logisitic regression model using features transformed by first 5 components.\n",
    "\n",
    "log_mod_5 = linear_model.LogisticRegression(C = 10.0, class_weight = {0:0.45, 1:0.55})   # Define & fit the logistic regression model\n",
    "log_mod_5.fit(Comps, y_train)\n",
    "print(log_mod_5.intercept_)\n",
    "print(log_mod_5.coef_)"
   ]
  },
  {
   "cell_type": "code",
   "execution_count": 112,
   "metadata": {},
   "outputs": [
    {
     "name": "stdout",
     "output_type": "stream",
     "text": [
      "                 Confusion Matrix\n",
      "                 Score Positive    Score Negative\n",
      "Actual Positive      1887              1474\n",
      "Actual Negative       306              1333\n",
      "\n",
      "Accuracy        0.64\n",
      "AUC             0.78\n",
      "Macro Precision 0.67\n",
      "Macro Recall    0.69\n",
      " \n",
      "           Positive      Negative\n",
      "Num Case     3361          1639\n",
      "Precision    0.86          0.47\n",
      "Recall       0.56          0.81\n",
      "F1           0.68          0.60\n"
     ]
    },
    {
     "data": {
      "image/png": "[encoded data removed]",
      "text/plain": [
       "<matplotlib.figure.Figure at 0x1fd965dd828>"
      ]
     },
     "metadata": {},
     "output_type": "display_data"
    }
   ],
   "source": [
    "#Above- Intercept is shown w/ 5 regression coefficients\n",
    "\n",
    "#Below- Transform & evaluate test model using same PCA transformation used for training data\n",
    "\n",
    "def score_model(probs, threshold):\n",
    "    return np.array([1 if x > threshold else 0 for x in probs[:,1]])\n",
    "\n",
    "def print_metrics(labels, probs, threshold):\n",
    "    scores = score_model(probs, threshold)\n",
    "    metrics = sklm.precision_recall_fscore_support(labels, scores)\n",
    "    conf = sklm.confusion_matrix(labels, scores)\n",
    "    print('                 Confusion Matrix')\n",
    "    print('                 Score Positive    Score Negative')\n",
    "    print('Actual Positive    %6d' % conf[0,0] + '             %5d' % conf[0,1])\n",
    "    print('Actual Negative    %6d' % conf[1,0] + '             %5d' % conf[1,1])\n",
    "    print('')\n",
    "    print('Accuracy        %0.2f' % sklm.accuracy_score(labels, scores))\n",
    "    print('AUC             %0.2f' % sklm.roc_auc_score(labels, probs[:,1]))\n",
    "    print('Macro Precision %0.2f' % float((float(metrics[0][0]) + float(metrics[0][1]))/2.0))\n",
    "    print('Macro Recall    %0.2f' % float((float(metrics[1][0]) + float(metrics[1][1]))/2.0))\n",
    "    print(' ')\n",
    "    print('           Positive      Negative')\n",
    "    print('Num Case   %6d' % metrics[3][0] + '        %6d' % metrics[3][1])\n",
    "    print('Precision  %6.2f' % metrics[0][0] + '        %6.2f' % metrics[0][1])\n",
    "    print('Recall     %6.2f' % metrics[1][0] + '        %6.2f' % metrics[1][1])\n",
    "    print('F1         %6.2f' % metrics[2][0] + '        %6.2f' % metrics[2][1])\n",
    "\n",
    "def plot_auc(labels, probs):\n",
    "    ## Compute the false positive rate, true positive rate\n",
    "    ## and threshold along with the AUC\n",
    "    fpr, tpr, threshold = sklm.roc_curve(labels, probs[:,1])\n",
    "    auc = sklm.auc(fpr, tpr)\n",
    "    \n",
    "    ## Plot the result\n",
    "    plt.title('Receiver Operating Characteristic')\n",
    "    plt.plot(fpr, tpr, color = 'orange', label = 'AUC = %0.2f' % auc)\n",
    "    plt.legend(loc = 'lower right')\n",
    "    plt.plot([0, 1], [0, 1],'r--')\n",
    "    plt.xlim([0, 1])\n",
    "    plt.ylim([0, 1])\n",
    "    plt.ylabel('True Positive Rate')\n",
    "    plt.xlabel('False Positive Rate')\n",
    "    plt.show()    \n",
    "\n",
    "probabilities = log_mod_5.predict_proba(pca_mod_5.transform(x_test))\n",
    "print_metrics(y_test, probabilities, 0.3)    \n",
    "plot_auc(y_test, probabilities)     "
   ]
  },
  {
   "cell_type": "code",
   "execution_count": 113,
   "metadata": {},
   "outputs": [
    {
     "data": {
      "text/plain": [
       "(11404, 10)"
      ]
     },
     "execution_count": 113,
     "metadata": {},
     "output_type": "execute_result"
    }
   ],
   "source": [
    "# For comparision w/ 5 component above, compute & evaluate logisitic model w/ first 10 principle components.\n",
    "\n",
    "pca_mod_10 = skde.PCA(n_components = 10)\n",
    "pca_mod_10.fit(x_train)\n",
    "Comps_10 = pca_mod_10.transform(x_train)\n",
    "Comps_10.shape"
   ]
  },
  {
   "cell_type": "code",
   "execution_count": 114,
   "metadata": {},
   "outputs": [
    {
     "data": {
      "text/plain": [
       "LogisticRegression(C=10.0, class_weight={0: 0.45, 1: 0.55}, dual=False,\n",
       "          fit_intercept=True, intercept_scaling=1, max_iter=100,\n",
       "          multi_class='ovr', n_jobs=1, penalty='l2', random_state=None,\n",
       "          solver='liblinear', tol=0.0001, verbose=0, warm_start=False)"
      ]
     },
     "execution_count": 114,
     "metadata": {},
     "output_type": "execute_result"
    }
   ],
   "source": [
    "# Define & fit logisitic regression model using 10 components of transformed features\n",
    "\n",
    "log_mod_10 = linear_model.LogisticRegression(C = 10.0, class_weight = {0:0.45, 1:0.55})  # define & fit the linear regression model \n",
    "log_mod_10.fit(Comps_10, y_train)"
   ]
  },
  {
   "cell_type": "code",
   "execution_count": 115,
   "metadata": {},
   "outputs": [
    {
     "name": "stdout",
     "output_type": "stream",
     "text": [
      "                 Confusion Matrix\n",
      "                 Score Positive    Score Negative\n",
      "Actual Positive      2086              1275\n",
      "Actual Negative       305              1334\n",
      "\n",
      "Accuracy        0.68\n",
      "AUC             0.81\n",
      "Macro Precision 0.69\n",
      "Macro Recall    0.72\n",
      " \n",
      "           Positive      Negative\n",
      "Num Case     3361          1639\n",
      "Precision    0.87          0.51\n",
      "Recall       0.62          0.81\n",
      "F1           0.73          0.63\n"
     ]
    },
    {
     "data": {
      "image/png": "[encoded data removed]",
      "text/plain": [
       "<matplotlib.figure.Figure at 0x1fd969988d0>"
      ]
     },
     "metadata": {},
     "output_type": "display_data"
    }
   ],
   "source": [
    "# Score & display performance metrics, ROC curve, & AUC.\n",
    "\n",
    "probabilities = log_mod_10.predict_proba(pca_mod_10.transform(x_test))\n",
    "print_metrics(y_test, probabilities, 0.3)  \n",
    "plot_auc(y_test, probabilities)     "
   ]
  },
  {
   "cell_type": "code",
   "execution_count": 116,
   "metadata": {},
   "outputs": [],
   "source": [
    "#Above- All metrics have improved using 10 components instead of 5. But is it really significant?\n",
    "\n",
    "#Below- Perform cross validation (cv) on result. At risk of small bias, fitting of PCA model (normally done) has been omitted.\n",
    "\n",
    "def print_format(f,x,y,z):\n",
    "    print('Fold %2d    %4.3f        %4.3f      %4.3f' % (f, x, y, z))\n",
    "\n",
    "def print_cv(scores):\n",
    "    fold = [x + 1 for x in range(len(scores['test_precision_macro']))]\n",
    "    print('         Precision     Recall       AUC')\n",
    "    [print_format(f,x,y,z) for f,x,y,z in zip(fold, scores['test_precision_macro'], \n",
    "                                          scores['test_recall_macro'],\n",
    "                                          scores['test_roc_auc'])]\n",
    "    print('-' * 40)\n",
    "    print('Mean       %4.3f        %4.3f      %4.3f' % \n",
    "          (np.mean(scores['test_precision_macro']), np.mean(scores['test_recall_macro']), np.mean(scores['test_roc_auc'])))  \n",
    "    print('Std        %4.3f        %4.3f      %4.3f' % \n",
    "          (np.std(scores['test_precision_macro']), np.std(scores['test_recall_macro']), np.std(scores['test_roc_auc'])))\n",
    "  \n",
    "Labels = Labels.reshape(Labels.shape[0],)\n",
    "scoring = ['precision_macro', 'recall_macro', 'roc_auc']"
   ]
  },
  {
   "cell_type": "code",
   "execution_count": 117,
   "metadata": {},
   "outputs": [
    {
     "name": "stdout",
     "output_type": "stream",
     "text": [
      "         Precision     Recall       AUC\n",
      "Fold  1    0.630        0.646      0.712\n",
      "Fold  2    0.630        0.645      0.704\n",
      "Fold  3    0.618        0.631      0.669\n",
      "Fold  4    0.625        0.641      0.693\n",
      "Fold  5    0.643        0.661      0.718\n",
      "Fold  6    0.652        0.671      0.727\n",
      "Fold  7    0.644        0.649      0.710\n",
      "Fold  8    0.669        0.683      0.746\n",
      "Fold  9    0.651        0.665      0.734\n",
      "Fold 10    0.665        0.675      0.739\n",
      "----------------------------------------\n",
      "Mean       0.643        0.657      0.715\n",
      "Std        0.016        0.016      0.022\n"
     ]
    }
   ],
   "source": [
    "# PCA model scores for 5 components\n",
    "\n",
    "pca_mod = skde.PCA(n_components = 5)\n",
    "pca_mod.fit(Features)\n",
    "Comps = pca_mod.transform(Features)\n",
    "\n",
    "scores = ms.cross_validate(log_mod_5, Comps, Labels, scoring=scoring,\n",
    "                        cv=10, return_train_score=False)\n",
    "print_cv(scores)  "
   ]
  },
  {
   "cell_type": "code",
   "execution_count": 118,
   "metadata": {},
   "outputs": [
    {
     "name": "stdout",
     "output_type": "stream",
     "text": [
      "         Precision     Recall       AUC\n",
      "Fold  1    0.671        0.686      0.735\n",
      "Fold  2    0.656        0.674      0.726\n",
      "Fold  3    0.636        0.646      0.695\n",
      "Fold  4    0.650        0.665      0.718\n",
      "Fold  5    0.661        0.679      0.744\n",
      "Fold  6    0.654        0.673      0.729\n",
      "Fold  7    0.644        0.652      0.723\n",
      "Fold  8    0.755        0.702      0.805\n",
      "Fold  9    0.658        0.673      0.744\n",
      "Fold 10    0.739        0.694      0.801\n",
      "----------------------------------------\n",
      "Mean       0.672        0.674      0.742\n",
      "Std        0.039        0.016      0.033\n"
     ]
    }
   ],
   "source": [
    "# PCA model scores for 10 components\n",
    "\n",
    "pca_mod = skde.PCA(n_components = 10)\n",
    "pca_mod.fit(Features)\n",
    "Comps = pca_mod.transform(Features)\n",
    "\n",
    "scores = ms.cross_validate(log_mod_10, Comps, Labels, scoring=scoring,\n",
    "                        cv=10, return_train_score=False)\n",
    "print_cv(scores)  "
   ]
  },
  {
   "cell_type": "code",
   "execution_count": 136,
   "metadata": {},
   "outputs": [],
   "source": [
    "#Above- The AUC & std dev for 5 components looks to be significantly different for the AUC & std dev of 10 components.\n",
    " # This differenece supports hypothesis that first 10 components all contain useful info.\n",
    "\n",
    "\n"
   ]
  },
  {
   "cell_type": "code",
   "execution_count": null,
   "metadata": {},
   "outputs": [],
   "source": []
  },
  {
   "cell_type": "code",
   "execution_count": null,
   "metadata": {},
   "outputs": [],
   "source": []
  },
  {
   "cell_type": "code",
   "execution_count": null,
   "metadata": {},
   "outputs": [],
   "source": []
  },
  {
   "cell_type": "code",
   "execution_count": null,
   "metadata": {},
   "outputs": [],
   "source": [
    "#Above- Performance metrics look good.Large majority of negative (bad credit) cases are identified at expense of significant fp.\n",
    "  #Reported AUC is w/in a std dev of AUC obtained w/ cv, indicating model is generalizing well.\n",
    "\n",
    "\n"
   ]
  },
  {
   "cell_type": "code",
   "execution_count": null,
   "metadata": {},
   "outputs": [],
   "source": []
  },
  {
   "cell_type": "code",
   "execution_count": null,
   "metadata": {},
   "outputs": [],
   "source": []
  },
  {
   "cell_type": "code",
   "execution_count": null,
   "metadata": {},
   "outputs": [],
   "source": []
  },
  {
   "cell_type": "code",
   "execution_count": null,
   "metadata": {},
   "outputs": [],
   "source": []
  },
  {
   "cell_type": "code",
   "execution_count": null,
   "metadata": {},
   "outputs": [],
   "source": []
  },
  {
   "cell_type": "code",
   "execution_count": null,
   "metadata": {},
   "outputs": [],
   "source": []
  },
  {
   "cell_type": "code",
   "execution_count": null,
   "metadata": {},
   "outputs": [],
   "source": [
    "#Above- Now 300 of each label case w/ 600 cases overall.\n",
    "\n",
    "#Below- Perform model selection again w/ ncv\n",
    " #Compute inner loop to find optimal learning rate parameter\n",
    "    \n",
    "nr.seed(1234)\n",
    "inside = ms.KFold(n_splits=10, shuffle = True)\n",
    "nr.seed(3214)\n",
    "outside = ms.KFold(n_splits=10, shuffle = True)\n",
    "\n",
    "ab_clf = AdaBoostClassifier()    # Define AdaBoosted tree model\n",
    "nr.seed(3456)\n",
    "\n",
    "nr.seed(4455)\n",
    "ab_clf = ms.GridSearchCV(estimator = ab_clf, param_grid = param_grid,    # Perform grid search over parameters\n",
    "                      cv = inside,                     # Use the inside folds\n",
    "                      scoring = 'roc_auc',\n",
    "                      return_train_score = True)\n",
    "ab_clf.fit(temp_Features, temp_Labels)\n",
    "print(ab_clf.best_estimator_.learning_rate)"
   ]
  },
  {
   "cell_type": "code",
   "execution_count": null,
   "metadata": {},
   "outputs": [],
   "source": [
    "#Above- Estimated optimal learning rate parameter is small (0.1) than before (1).\n",
    "\n",
    "#Below- Perform outer cv of model\n",
    "\n",
    "nr.seed(498)\n",
    "cv_estimate = ms.cross_val_score(ab_clf, Features, Labels, \n",
    "                                 cv = outside) # Use the outside folds\n",
    "\n",
    "print('Mean Performance Metric = %4.3f' % np.mean(cv_estimate))\n",
    "print('SDT of the Metric       = %4.3f' % np.std(cv_estimate))\n",
    "print('Outcomes by CV Fold')\n",
    "for i, x in enumerate(cv_estimate):\n",
    "    print('Fold %2d    %4.3f' % (i+1, x))"
   ]
  },
  {
   "cell_type": "code",
   "execution_count": null,
   "metadata": {},
   "outputs": [],
   "source": [
    "#Above- Average AUC is improved compared to imbalanced training cases. Differences are w/in 1 std dev. Still reasonable chance represent improvement.\n",
    "\n",
    "#Below- Train & evaluate model w/ balanced cases & updated hyperparameter.\n",
    "  # Create Bernoulli sampled test & training subsets\n",
    "  # Define AdaBoosted model\n",
    "  # Train AdaBoosted model\n",
    "    \n",
    "\n",
    "nr.seed(1115)\n",
    "indx = range(Features.shape[0])   # Randomly sample cases to create independent training & test data\n",
    "indx = ms.train_test_split(indx, test_size = 300)\n",
    "x_train = Features[indx[0],:]\n",
    "y_train = np.ravel(Labels[indx[0]])\n",
    "x_test = Features[indx[1],:]\n",
    "y_test = np.ravel(Labels[indx[1]])\n",
    "\n",
    "# Undersample majority case for training data\n",
    "temp_Labels_1 = y_train[y_train == 1]      # Save these\n",
    "temp_Features_1 = x_train[y_train == 1,:]      # Save these\n",
    "temp_Labels_0 = y_train[y_train == 0]       # Undersample these\n",
    "temp_Features_0 = x_train[y_train == 0,:]     # Undersample these\n",
    "\n",
    "indx = nr.choice(temp_Features_0.shape[0], temp_Features_1.shape[0], replace=True)\n",
    "\n",
    "x_train = np.concatenate((temp_Features_1, temp_Features_0[indx,:]), axis = 0)\n",
    "y_train = np.concatenate((temp_Labels_1, temp_Labels_0[indx,]), axis = 0) \n",
    "\n",
    "print(np.bincount(y_train))\n",
    "print(x_train.shape)\n",
    "print(y_train.shape)"
   ]
  },
  {
   "cell_type": "code",
   "execution_count": null,
   "metadata": {},
   "outputs": [],
   "source": [
    "# Define & fit the model\n",
    "nr.seed(1115)\n",
    "ab_mod = AdaBoostClassifier(learning_rate = ab_clf.best_estimator_.learning_rate) \n",
    "ab_mod.fit(x_train, y_train)"
   ]
  },
  {
   "cell_type": "code",
   "execution_count": null,
   "metadata": {},
   "outputs": [],
   "source": [
    "# Score & evaluate the model\n",
    "\n",
    "probabilities = ab_mod.predict_proba(x_test)\n",
    "print_metrics(y_test, probabilities, 0.5)    "
   ]
  },
  {
   "cell_type": "code",
   "execution_count": null,
   "metadata": {},
   "outputs": [],
   "source": [
    "#Above- Results are significantly better than previously obtained imbalanced training data in classifying negative cases.\n",
    "  # AUC is more than 1 std dev away from ncv AUC."
   ]
  }
 ],
 "metadata": {
  "kernelspec": {
   "display_name": "Python 3",
   "language": "python",
   "name": "python3"
  },
  "language_info": {
   "codemirror_mode": {
    "name": "ipython",
    "version": 3
   },
   "file_extension": ".py",
   "mimetype": "text/x-python",
   "name": "python",
   "nbconvert_exporter": "python",
   "pygments_lexer": "ipython3",
   "version": "3.6.4"
  }
 },
 "nbformat": 4,
 "nbformat_minor": 2
}
