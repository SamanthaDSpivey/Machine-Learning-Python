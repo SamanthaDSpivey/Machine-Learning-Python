{
 "cells": [
  {
   "cell_type": "code",
   "execution_count": 2,
   "metadata": {},
   "outputs": [],
   "source": [
    "#Import the packages to be used\n",
    "\n",
    "import pandas as pd\n",
    "import matplotlib.pyplot as plt\n",
    "import seaborn as sns\n",
    "import numpy as np\n",
    "import numpy.random as nr\n",
    "import math\n",
    "from sklearn import preprocessing\n",
    "import sklearn.model_selection as ms\n",
    "from sklearn import linear_model\n",
    "import sklearn.metrics as sklm\n",
    "\n",
    "%matplotlib inline"
   ]
  },
  {
   "cell_type": "code",
   "execution_count": 3,
   "metadata": {},
   "outputs": [
    {
     "data": {
      "text/plain": [
       "Text(0.5,0,'Value of Output from Linear Regression')"
      ]
     },
     "execution_count": 3,
     "metadata": {},
     "output_type": "execute_result"
    },
    {
     "data": {
      "image/png": "[encoded data removed]",
      "text/plain": [
       "<matplotlib.figure.Figure at 0x15cff950a58>"
      ]
     },
     "metadata": {},
     "output_type": "display_data"
    }
   ],
   "source": [
    "#We will be using a logistic regression which is a linear model, but with a binary response and distribution\n",
    " # Here's a simple example of the logistic function\n",
    "    \n",
    "xseq = np.arange(-7, 7, 0.1)\n",
    "\n",
    "logisitic = [math.exp(v)/(1 + math.exp(v)) for v in xseq]\n",
    "\n",
    "plt.plot(xseq, logisitic, color = 'red')\n",
    "plt.plot([-7, 7], [0.5, 0.5], color = 'blue')\n",
    "plt.plot([0, 0], [0, 1], color = 'blue')\n",
    "plt.title('Logistic Function for Two-Class Classification')\n",
    "plt.ylabel('Log Likihood')\n",
    "plt.xlabel('Value of Output from Linear Regression')"
   ]
  },
  {
   "cell_type": "code",
   "execution_count": 4,
   "metadata": {},
   "outputs": [
    {
     "name": "stdout",
     "output_type": "stream",
     "text": [
      "(1000, 22)\n"
     ]
    },
    {
     "data": {
      "text/html": [
       "<div>\n",
       "<style scoped>\n",
       "    .dataframe tbody tr th:only-of-type {\n",
       "        vertical-align: middle;\n",
       "    }\n",
       "\n",
       "    .dataframe tbody tr th {\n",
       "        vertical-align: top;\n",
       "    }\n",
       "\n",
       "    .dataframe thead th {\n",
       "        text-align: right;\n",
       "    }\n",
       "</style>\n",
       "<table border=\"1\" class=\"dataframe\">\n",
       "  <thead>\n",
       "    <tr style=\"text-align: right;\">\n",
       "      <th></th>\n",
       "      <th>customer_id</th>\n",
       "      <th>checking_account_status</th>\n",
       "      <th>loan_duration_mo</th>\n",
       "      <th>credit_history</th>\n",
       "      <th>purpose</th>\n",
       "      <th>loan_amount</th>\n",
       "      <th>savings_account_balance</th>\n",
       "      <th>time_employed_yrs</th>\n",
       "      <th>payment_pcnt_income</th>\n",
       "      <th>gender_status</th>\n",
       "      <th>...</th>\n",
       "      <th>property</th>\n",
       "      <th>age_yrs</th>\n",
       "      <th>other_credit_outstanding</th>\n",
       "      <th>home_ownership</th>\n",
       "      <th>number_loans</th>\n",
       "      <th>job_category</th>\n",
       "      <th>dependents</th>\n",
       "      <th>telephone</th>\n",
       "      <th>foreign_worker</th>\n",
       "      <th>bad_credit</th>\n",
       "    </tr>\n",
       "  </thead>\n",
       "  <tbody>\n",
       "    <tr>\n",
       "      <th>0</th>\n",
       "      <td>1122334</td>\n",
       "      <td>&lt; 0 DM</td>\n",
       "      <td>6</td>\n",
       "      <td>critical account - other non-bank loans</td>\n",
       "      <td>radio/television</td>\n",
       "      <td>1169</td>\n",
       "      <td>unknown/none</td>\n",
       "      <td>&gt;= 7 years</td>\n",
       "      <td>4</td>\n",
       "      <td>male-single</td>\n",
       "      <td>...</td>\n",
       "      <td>real estate</td>\n",
       "      <td>67</td>\n",
       "      <td>none</td>\n",
       "      <td>own</td>\n",
       "      <td>2</td>\n",
       "      <td>skilled</td>\n",
       "      <td>1</td>\n",
       "      <td>yes</td>\n",
       "      <td>yes</td>\n",
       "      <td>0</td>\n",
       "    </tr>\n",
       "    <tr>\n",
       "      <th>1</th>\n",
       "      <td>6156361</td>\n",
       "      <td>0 - 200 DM</td>\n",
       "      <td>48</td>\n",
       "      <td>current loans paid</td>\n",
       "      <td>radio/television</td>\n",
       "      <td>5951</td>\n",
       "      <td>&lt; 100 DM</td>\n",
       "      <td>1 - 4 years</td>\n",
       "      <td>2</td>\n",
       "      <td>female-divorced/separated/married</td>\n",
       "      <td>...</td>\n",
       "      <td>real estate</td>\n",
       "      <td>22</td>\n",
       "      <td>none</td>\n",
       "      <td>own</td>\n",
       "      <td>1</td>\n",
       "      <td>skilled</td>\n",
       "      <td>1</td>\n",
       "      <td>none</td>\n",
       "      <td>yes</td>\n",
       "      <td>1</td>\n",
       "    </tr>\n",
       "    <tr>\n",
       "      <th>2</th>\n",
       "      <td>2051359</td>\n",
       "      <td>none</td>\n",
       "      <td>12</td>\n",
       "      <td>critical account - other non-bank loans</td>\n",
       "      <td>education</td>\n",
       "      <td>2096</td>\n",
       "      <td>&lt; 100 DM</td>\n",
       "      <td>4 - 7 years</td>\n",
       "      <td>2</td>\n",
       "      <td>male-single</td>\n",
       "      <td>...</td>\n",
       "      <td>real estate</td>\n",
       "      <td>49</td>\n",
       "      <td>none</td>\n",
       "      <td>own</td>\n",
       "      <td>1</td>\n",
       "      <td>unskilled-resident</td>\n",
       "      <td>2</td>\n",
       "      <td>none</td>\n",
       "      <td>yes</td>\n",
       "      <td>0</td>\n",
       "    </tr>\n",
       "    <tr>\n",
       "      <th>3</th>\n",
       "      <td>8740590</td>\n",
       "      <td>&lt; 0 DM</td>\n",
       "      <td>42</td>\n",
       "      <td>current loans paid</td>\n",
       "      <td>furniture/equipment</td>\n",
       "      <td>7882</td>\n",
       "      <td>&lt; 100 DM</td>\n",
       "      <td>4 - 7 years</td>\n",
       "      <td>2</td>\n",
       "      <td>male-single</td>\n",
       "      <td>...</td>\n",
       "      <td>building society savings/life insurance</td>\n",
       "      <td>45</td>\n",
       "      <td>none</td>\n",
       "      <td>for free</td>\n",
       "      <td>1</td>\n",
       "      <td>skilled</td>\n",
       "      <td>2</td>\n",
       "      <td>none</td>\n",
       "      <td>yes</td>\n",
       "      <td>0</td>\n",
       "    </tr>\n",
       "    <tr>\n",
       "      <th>4</th>\n",
       "      <td>3924540</td>\n",
       "      <td>&lt; 0 DM</td>\n",
       "      <td>24</td>\n",
       "      <td>past payment delays</td>\n",
       "      <td>car (new)</td>\n",
       "      <td>4870</td>\n",
       "      <td>&lt; 100 DM</td>\n",
       "      <td>1 - 4 years</td>\n",
       "      <td>3</td>\n",
       "      <td>male-single</td>\n",
       "      <td>...</td>\n",
       "      <td>unknown-none</td>\n",
       "      <td>53</td>\n",
       "      <td>none</td>\n",
       "      <td>for free</td>\n",
       "      <td>2</td>\n",
       "      <td>skilled</td>\n",
       "      <td>2</td>\n",
       "      <td>none</td>\n",
       "      <td>yes</td>\n",
       "      <td>1</td>\n",
       "    </tr>\n",
       "  </tbody>\n",
       "</table>\n",
       "<p>5 rows × 22 columns</p>\n",
       "</div>"
      ],
      "text/plain": [
       "   customer_id checking_account_status  loan_duration_mo  \\\n",
       "0      1122334                  < 0 DM                 6   \n",
       "1      6156361              0 - 200 DM                48   \n",
       "2      2051359                    none                12   \n",
       "3      8740590                  < 0 DM                42   \n",
       "4      3924540                  < 0 DM                24   \n",
       "\n",
       "                            credit_history              purpose  loan_amount  \\\n",
       "0  critical account - other non-bank loans     radio/television         1169   \n",
       "1                       current loans paid     radio/television         5951   \n",
       "2  critical account - other non-bank loans            education         2096   \n",
       "3                       current loans paid  furniture/equipment         7882   \n",
       "4                      past payment delays            car (new)         4870   \n",
       "\n",
       "  savings_account_balance time_employed_yrs  payment_pcnt_income  \\\n",
       "0            unknown/none        >= 7 years                    4   \n",
       "1                < 100 DM       1 - 4 years                    2   \n",
       "2                < 100 DM       4 - 7 years                    2   \n",
       "3                < 100 DM       4 - 7 years                    2   \n",
       "4                < 100 DM       1 - 4 years                    3   \n",
       "\n",
       "                       gender_status    ...      \\\n",
       "0                        male-single    ...       \n",
       "1  female-divorced/separated/married    ...       \n",
       "2                        male-single    ...       \n",
       "3                        male-single    ...       \n",
       "4                        male-single    ...       \n",
       "\n",
       "                                  property  age_yrs other_credit_outstanding  \\\n",
       "0                              real estate       67                     none   \n",
       "1                              real estate       22                     none   \n",
       "2                              real estate       49                     none   \n",
       "3  building society savings/life insurance       45                     none   \n",
       "4                             unknown-none       53                     none   \n",
       "\n",
       "   home_ownership number_loans        job_category  dependents telephone  \\\n",
       "0             own            2             skilled           1       yes   \n",
       "1             own            1             skilled           1      none   \n",
       "2             own            1  unskilled-resident           2      none   \n",
       "3        for free            1             skilled           2      none   \n",
       "4        for free            2             skilled           2      none   \n",
       "\n",
       "   foreign_worker bad_credit  \n",
       "0             yes          0  \n",
       "1             yes          1  \n",
       "2             yes          0  \n",
       "3             yes          0  \n",
       "4             yes          1  \n",
       "\n",
       "[5 rows x 22 columns]"
      ]
     },
     "execution_count": 4,
     "metadata": {},
     "output_type": "execute_result"
    }
   ],
   "source": [
    "#Load data previously prepared in data preparation step.\n",
    "\n",
    "credit = pd.read_csv('German_Credit_Preped.csv')\n",
    "print(credit.shape)\n",
    "credit.head()"
   ]
  },
  {
   "cell_type": "code",
   "execution_count": 5,
   "metadata": {},
   "outputs": [
    {
     "name": "stdout",
     "output_type": "stream",
     "text": [
      "            credit_history\n",
      "bad_credit                \n",
      "0                      700\n",
      "1                      300\n"
     ]
    }
   ],
   "source": [
    "#Examine if class imbalance exists in data\n",
    "\n",
    "credit_counts = credit[['credit_history', 'bad_credit']].groupby('bad_credit').count()\n",
    "print(credit_counts)"
   ]
  },
  {
   "cell_type": "code",
   "execution_count": 6,
   "metadata": {},
   "outputs": [],
   "source": [
    "#Above- Knowing imbalance exists, the best accuracy we can get w/out creating a ML model is 70%.\n",
    " # This is achieved by guessing all customers will have good credit\n",
    "    \n",
    "#Below- Create a numpy array of label values\n",
    "\n",
    "labels = np.array(credit['bad_credit'])"
   ]
  },
  {
   "cell_type": "code",
   "execution_count": 7,
   "metadata": {},
   "outputs": [
    {
     "name": "stdout",
     "output_type": "stream",
     "text": [
      "(1000, 31)\n",
      "[[0. 1. 0. 0. 0. 1. 0. 0. 0. 0. 0. 0. 0. 0. 0. 0. 1. 0. 0. 0. 0. 0. 1. 0.\n",
      "  0. 0. 1. 0. 0. 1. 0.]\n",
      " [1. 0. 0. 0. 0. 0. 1. 0. 0. 0. 0. 0. 0. 0. 0. 0. 1. 0. 0. 1. 0. 0. 0. 0.\n",
      "  1. 0. 0. 0. 0. 1. 0.]]\n"
     ]
    }
   ],
   "source": [
    "#Create a numpy array with all of the features (Model Matrix)\n",
    " # Encode categorical string variables into integers. \n",
    " # Transform integer coded variables to dummy variables.\n",
    " # Append each dummy coded categorical variable to model matrix.\n",
    "    \n",
    "def encode_string(cat_features):\n",
    "    enc = preprocessing.LabelEncoder()  # Encode strings to numeric categories\n",
    "    enc.fit(cat_features)\n",
    "    enc_cat_features = enc.transform(cat_features)\n",
    "    \n",
    "    ohe = preprocessing.OneHotEncoder()  #Apply One Hot Encoder\n",
    "    encoded = ohe.fit(enc_cat_features.reshape(-1,1))\n",
    "    return encoded.transform(enc_cat_features.reshape(-1,1)).toarray()\n",
    "\n",
    "categorical_columns = ['credit_history', 'purpose', 'gender_status', 'time_in_residence', 'property']\n",
    "\n",
    "Features = encode_string(credit['checking_account_status'])\n",
    "for col in categorical_columns:\n",
    "    temp = encode_string(credit[col])\n",
    "    Features = np.concatenate([Features, temp], axis = 1)\n",
    "    \n",
    "print(Features.shape)\n",
    "print(Features[:2, :])"
   ]
  },
  {
   "cell_type": "code",
   "execution_count": 8,
   "metadata": {},
   "outputs": [
    {
     "name": "stdout",
     "output_type": "stream",
     "text": [
      "(1000, 35)\n",
      "[[0.000e+00 1.000e+00 0.000e+00 0.000e+00 0.000e+00 1.000e+00 0.000e+00\n",
      "  0.000e+00 0.000e+00 0.000e+00 0.000e+00 0.000e+00 0.000e+00 0.000e+00\n",
      "  0.000e+00 0.000e+00 1.000e+00 0.000e+00 0.000e+00 0.000e+00 0.000e+00\n",
      "  0.000e+00 1.000e+00 0.000e+00 0.000e+00 0.000e+00 1.000e+00 0.000e+00\n",
      "  0.000e+00 1.000e+00 0.000e+00 6.000e+00 1.169e+03 4.000e+00 6.700e+01]\n",
      " [1.000e+00 0.000e+00 0.000e+00 0.000e+00 0.000e+00 0.000e+00 1.000e+00\n",
      "  0.000e+00 0.000e+00 0.000e+00 0.000e+00 0.000e+00 0.000e+00 0.000e+00\n",
      "  0.000e+00 0.000e+00 1.000e+00 0.000e+00 0.000e+00 1.000e+00 0.000e+00\n",
      "  0.000e+00 0.000e+00 0.000e+00 1.000e+00 0.000e+00 0.000e+00 0.000e+00\n",
      "  0.000e+00 1.000e+00 0.000e+00 4.800e+01 5.951e+03 2.000e+00 2.200e+01]]\n"
     ]
    }
   ],
   "source": [
    "#Append numeric features to model matrix\n",
    "\n",
    "Features = np.concatenate([Features, np.array(credit[['loan_duration_mo', 'loan_amount', \n",
    "                            'payment_pcnt_income', 'age_yrs']])], axis = 1)\n",
    "\n",
    "print(Features.shape)\n",
    "print(Features[:2, :])"
   ]
  },
  {
   "cell_type": "code",
   "execution_count": 9,
   "metadata": {},
   "outputs": [
    {
     "name": "stdout",
     "output_type": "stream",
     "text": [
      "['< 0 DM' '0 - 200 DM' 'none' '> 200 DM or salary assignment']\n"
     ]
    }
   ],
   "source": [
    "# 6 categorical variables were converted into 31 dummy variables. \n",
    " \n",
    "#Below- How many dummy variables came from checking_account_status? -4-\n",
    "print(credit['checking_account_status'].unique())"
   ]
  },
  {
   "cell_type": "code",
   "execution_count": 10,
   "metadata": {},
   "outputs": [],
   "source": [
    "#Create randomly sampled training & test data (Bernoulli sample) sets from sklearn.model_selection package\n",
    " # 1st column = index array for training cases, 2nd column = index array for test cases\n",
    "\n",
    "nr.seed(9988)  #set seed\n",
    "indx = range(Features.shape[0])\n",
    "indx = ms.train_test_split(indx, test_size = 300)\n",
    "\n",
    "x_train = Features[indx[0],:]\n",
    "y_train = np.ravel(labels[indx[0]])\n",
    "x_test = Features[indx[1],:]\n",
    "y_test = np.ravel(labels[indx[1]])"
   ]
  },
  {
   "cell_type": "code",
   "execution_count": 11,
   "metadata": {},
   "outputs": [
    {
     "data": {
      "text/plain": [
       "array([[ 1.00000000e+00,  0.00000000e+00,  0.00000000e+00,\n",
       "         0.00000000e+00,  0.00000000e+00,  1.00000000e+00,\n",
       "         0.00000000e+00,  0.00000000e+00,  0.00000000e+00,\n",
       "         0.00000000e+00,  0.00000000e+00,  0.00000000e+00,\n",
       "         0.00000000e+00,  0.00000000e+00,  0.00000000e+00,\n",
       "         0.00000000e+00,  1.00000000e+00,  0.00000000e+00,\n",
       "         0.00000000e+00,  0.00000000e+00,  0.00000000e+00,\n",
       "         0.00000000e+00,  1.00000000e+00,  0.00000000e+00,\n",
       "         1.00000000e+00,  0.00000000e+00,  0.00000000e+00,\n",
       "         0.00000000e+00,  0.00000000e+00,  1.00000000e+00,\n",
       "         0.00000000e+00,  3.90000000e+01,  4.93300000e+03,\n",
       "         2.00000000e+00, -9.33823618e-01],\n",
       "       [ 0.00000000e+00,  1.00000000e+00,  0.00000000e+00,\n",
       "         0.00000000e+00,  0.00000000e+00,  0.00000000e+00,\n",
       "         1.00000000e+00,  0.00000000e+00,  0.00000000e+00,\n",
       "         0.00000000e+00,  0.00000000e+00,  0.00000000e+00,\n",
       "         0.00000000e+00,  0.00000000e+00,  1.00000000e+00,\n",
       "         0.00000000e+00,  0.00000000e+00,  0.00000000e+00,\n",
       "         0.00000000e+00,  1.00000000e+00,  0.00000000e+00,\n",
       "         0.00000000e+00,  0.00000000e+00,  0.00000000e+00,\n",
       "         1.00000000e+00,  0.00000000e+00,  0.00000000e+00,\n",
       "         1.00000000e+00,  0.00000000e+00,  0.00000000e+00,\n",
       "         0.00000000e+00,  2.40000000e+01,  7.72100000e+03,\n",
       "         1.00000000e+00, -4.95232278e-01]])"
      ]
     },
     "execution_count": 11,
     "metadata": {},
     "output_type": "execute_result"
    }
   ],
   "source": [
    "#Rescale numeric variables to have similiar range of values, preventing undue influence on model training\n",
    " # Use Zscore to scale numerical feature w/ Scikit Learn preprocessing's StandardScaler \n",
    " #applied first to training data, then same parameters are used on test data    \n",
    "\n",
    "scaler = preprocessing.StandardScaler().fit(x_train[:, 34:])\n",
    "x_train[:, 34:] = scaler.transform(x_train[:, 34:])\n",
    "x_test[:, 34:] = scaler.transform(x_test[:, 34:])\n",
    "x_train[:2, ]"
   ]
  },
  {
   "cell_type": "code",
   "execution_count": 12,
   "metadata": {},
   "outputs": [
    {
     "data": {
      "text/plain": [
       "LogisticRegression(C=1.0, class_weight=None, dual=False, fit_intercept=True,\n",
       "          intercept_scaling=1, max_iter=100, multi_class='ovr', n_jobs=1,\n",
       "          penalty='l2', random_state=None, solver='liblinear', tol=0.0001,\n",
       "          verbose=0, warm_start=False)"
      ]
     },
     "execution_count": 12,
     "metadata": {},
     "output_type": "execute_result"
    }
   ],
   "source": [
    "#Above- 4 numeric features are now scaled\n",
    "\n",
    "#Below- Compute logistic regression model\n",
    "\n",
    "logistic_mod = linear_model.LogisticRegression()  # define object using scikit-learn linear_model package\n",
    "logistic_mod.fit(x_train, y_train)  # fit linear model using numpy arrays of features and the label w/in training data set"
   ]
  },
  {
   "cell_type": "code",
   "execution_count": 13,
   "metadata": {},
   "outputs": [
    {
     "name": "stdout",
     "output_type": "stream",
     "text": [
      "[-0.75272435]\n",
      "[[ 4.58331724e-03  7.36655115e-01 -2.92902473e-01 -1.20106031e+00\n",
      "   3.96176830e-01 -1.10844192e+00 -4.17435677e-01  7.61461074e-01\n",
      "  -3.84484657e-01 -7.13338117e-02  4.84397335e-01 -6.40142587e-01\n",
      "   1.08060282e-01  1.38739231e-01  2.74596025e-02 -2.49644445e-01\n",
      "  -3.97846781e-01  6.27522813e-02 -2.15165460e-01 -1.10153109e-01\n",
      "   5.22237639e-02 -8.74364862e-02 -6.07358520e-01 -5.31756945e-01\n",
      "   2.04223418e-01 -3.59360554e-01 -6.58302701e-02 -2.64901324e-01\n",
      "  -8.30279843e-02 -5.32576716e-01  1.27781674e-01  2.27780865e-02\n",
      "   5.81879274e-05  1.97556732e-01 -1.74961672e-01]]\n"
     ]
    }
   ],
   "source": [
    "#Above- Config of model object printed using default settings (no arguments were given)\n",
    "\n",
    "#Below- Examine model intercept & coefficients\n",
    "\n",
    "print(logistic_mod.intercept_)\n",
    "print(logistic_mod.coef_)"
   ]
  },
  {
   "cell_type": "code",
   "execution_count": 14,
   "metadata": {},
   "outputs": [
    {
     "name": "stdout",
     "output_type": "stream",
     "text": [
      "[[0.84511844 0.15488156]\n",
      " [0.39743042 0.60256958]\n",
      " [0.94262148 0.05737852]\n",
      " [0.32302235 0.67697765]\n",
      " [0.55221258 0.44778742]\n",
      " [0.9733398  0.0266602 ]\n",
      " [0.94899016 0.05100984]\n",
      " [0.62658645 0.37341355]\n",
      " [0.87725108 0.12274892]\n",
      " [0.927682   0.072318  ]\n",
      " [0.56204145 0.43795855]\n",
      " [0.4054608  0.5945392 ]\n",
      " [0.50097395 0.49902605]\n",
      " [0.67093045 0.32906955]\n",
      " [0.34388014 0.65611986]]\n"
     ]
    }
   ],
   "source": [
    "#Above- Intercept is -0.75. Dummy variables are in similiar range, indicating this model is likely to be overfit, given # of features.\n",
    "\n",
    "#Below- Compute & display sample of class probabilities for test feature data set.\n",
    " #Class w/ highest probability is taken as score (prediction)\n",
    "    \n",
    "probabilities = logistic_mod.predict_proba(x_test)\n",
    "print(probabilities[:15, :])"
   ]
  },
  {
   "cell_type": "code",
   "execution_count": 15,
   "metadata": {},
   "outputs": [
    {
     "name": "stdout",
     "output_type": "stream",
     "text": [
      "[0 1 0 1 0 0 0 0 0 0 0 1 0 0 1]\n",
      "[0 0 0 1 0 0 0 0 1 0 0 1 1 0 1]\n"
     ]
    }
   ],
   "source": [
    "#Above- 1st column= probability of score 0, 2nd column= prob of score 1. Note prob score 0 is higher than for 1.\n",
    "\n",
    "#Below- Transform class probabilities into class scores.\n",
    " # Set threshold to prob b/w 2 likelihoods at 0.5. This is applied to prob of score 0 below.\n",
    "    \n",
    "def score_model(probs, threshold):\n",
    "    return np.array([1 if x> threshold else 0 for x in probs[:, 1]])\n",
    "scores = score_model(probabilities, 0.5)\n",
    "print(np.array(scores[:15]))\n",
    "print(y_test[:15])"
   ]
  },
  {
   "cell_type": "code",
   "execution_count": 16,
   "metadata": {},
   "outputs": [
    {
     "name": "stdout",
     "output_type": "stream",
     "text": [
      "                 Confusion Matrix \n",
      "                 Score Positive     Score Negative \n",
      "Actual Positive       182                 30\n",
      "Actual Negative        39                 49\n",
      "\n",
      "Accuracy   0.77\n",
      "\n",
      "            Positive     Negative\n",
      "Num Case       212            88\n",
      "Precision     0.82          0.62\n",
      "Recall        0.86          0.56\n",
      "F1            0.84          0.84\n"
     ]
    }
   ],
   "source": [
    "#Above- Sample shows positive (1) predictions agree w/ test labels in 2nd row, but not all\n",
    "\n",
    "#Below- Compute a confusion matrix as a metric to evaluate the results for the logisitic regression model\n",
    " #True Positive (TP)- cases w/ positive labels which have been correctly classified as positive\n",
    " #True Negative (TN)- cases w/ negative labels which have been correctly classified as negative\n",
    " #False Positive (FP)- cases w/ negative labels which have been incorrectly classified as positive\n",
    " #False Negative (FN)- cases w/ positive labels which have been incorrectly classified as negative\n",
    " # where positive is 1 and neagtive is 0\n",
    "    \n",
    " #Accuracy/Bias- fraction of cases correctly classified\n",
    " #Precision- fraction of correctly calssified label cases out of all cases classified w/ that label value\n",
    "   # is sentistive to the # of cases correctly classified for a given score value\n",
    " #Recall- fraction of cases of a label value correctly classified out of all cases for that have that label value\n",
    "   # is sensitive to the # of cases correctly classified for a given true label value\n",
    " #F1- weighted average of precision and recall (overall model performance)\n",
    " #ROC- (receiver operating characteristic) displays relationship b/w TP rate on y and FP rate on x\n",
    " #AUC- (area/integral under the curve) overall performance of classifer model\n",
    "   # higher the AUC, the lower the increase in FP rate req to achieve a req TP rate\n",
    "     # Ideally AUC= 1.0, TP rate is achieved w/ 0 FP rate.\n",
    "     # can compare classifiers, one w/ higher AUC is generally better\n",
    "     # ROC diagonal for Bernoulli w/ AUC 0.5, anything greater than this is better than random guessing in balanced cases\n",
    "    \n",
    "#Below- Compute & examine the performance metrics for the classifier using precision_recall_fscore_support \n",
    " # & accuracy_score functions from metric package in scikit-learn. Confusion matrix is computed through \n",
    " # confusion_matrix from same package.\n",
    "\n",
    "def print_metrics(labels, scores):\n",
    "    metrics = sklm.precision_recall_fscore_support(labels, scores)\n",
    "    conf = sklm.confusion_matrix(labels, scores)\n",
    "    print('                 Confusion Matrix ')\n",
    "    print('                 Score Positive     Score Negative ')\n",
    "    print('Actual Positive    %6d' % conf[0, 0] + '              %5d' % conf[0, 1])\n",
    "    print('Actual Negative    %6d' % conf[1, 0] + '              %5d' % conf[1, 1])\n",
    "    print('')\n",
    "    print('Accuracy   %0.2f' % sklm.accuracy_score(labels, scores))\n",
    "    print('')\n",
    "    print('            Positive     Negative')\n",
    "    print('Num Case    %6d' % metrics[3][0] + '        %6d' % metrics[3][1])\n",
    "    print('Precision   %6.2f' % metrics[0][0] + '        %6.2f' % metrics [0][1])\n",
    "    print('Recall      %6.2f' % metrics[1][0] + '        %6.2f' % metrics[1][1])\n",
    "    print('F1          %6.2f' % metrics[2][0] + '        %6.2f' % metrics[2][0])\n",
    "    \n",
    "    \n",
    "print_metrics(y_test, scores)"
   ]
  },
  {
   "cell_type": "code",
   "execution_count": 17,
   "metadata": {},
   "outputs": [
    {
     "data": {
      "image/png": "[encoded data removed]",
      "text/plain": [
       "<matplotlib.figure.Figure at 0x15c8000c940>"
      ]
     },
     "metadata": {},
     "output_type": "display_data"
    }
   ],
   "source": [
    "#Above- Confusion matrix, most positive cases correctly classified w/ 182 vs 30, but negative cases score incorrectly w/ 49 correct vs 39 incorrect.\n",
    " # Overall accuracy of 0.77 is extremely misleading, & should be regarded w/ healthy skepticism. Negative cases poorly identified.\n",
    " # Out of 300 cases, 212 positive & 88 negative, indicating class imbalance\n",
    " # Negative cases not classified as well as positive ones, shown by precision, recall, & F1.\n",
    "# Negative cases are of greatest importance to the bank.\n",
    "\n",
    "\n",
    "#Below- Compute & examine the ROC curve & AUC from metrics package w/in scikit-learn\n",
    "\n",
    "def plot_auc(labels, probs):\n",
    "    # Compute false positive rate, true positive rate & threshold along with the AUC \n",
    "    fpr, tpr, threshold = sklm.roc_curve(labels, probs[:, 1])\n",
    "    auc = sklm.auc(fpr, tpr)\n",
    "    \n",
    "    plt.title('Reciever Operating Characteristic') #plot result\n",
    "    plt.plot(fpr, tpr, color = 'orange', label = 'AUC = %0.2f' % auc)\n",
    "    plt.legend(loc = 'lower right')\n",
    "    plt.plot([0, 1], [0, 1], 'r--')\n",
    "    plt.xlim([0, 1])\n",
    "    plt.ylim([0, 1])\n",
    "    plt.ylabel('True Positive Rate')\n",
    "    plt.xlabel('False Positive Rate')\n",
    "    plt.show()\n",
    "    \n",
    "plot_auc(y_test, probabilities)"
   ]
  },
  {
   "cell_type": "code",
   "execution_count": 18,
   "metadata": {},
   "outputs": [
    {
     "name": "stderr",
     "output_type": "stream",
     "text": [
      "C:\\Users\\Samantha\\Anaconda3\\lib\\site-packages\\sklearn\\metrics\\classification.py:1135: UndefinedMetricWarning: Precision and F-score are ill-defined and being set to 0.0 in labels with no predicted samples.\n",
      "  'precision', 'predicted', average, warn_for)\n"
     ]
    },
    {
     "name": "stdout",
     "output_type": "stream",
     "text": [
      "                 Confusion Matrix \n",
      "                 Score Positive     Score Negative \n",
      "Actual Positive       212                  0\n",
      "Actual Negative        88                  0\n",
      "\n",
      "Accuracy   0.71\n",
      "\n",
      "            Positive     Negative\n",
      "Num Case       212            88\n",
      "Precision     0.71          0.00\n",
      "Recall        1.00          0.00\n",
      "F1            0.83          0.83\n"
     ]
    },
    {
     "data": {
      "image/png": "[encoded data removed]",
      "text/plain": [
       "<matplotlib.figure.Figure at 0x15cffcdaf60>"
      ]
     },
     "metadata": {},
     "output_type": "display_data"
    }
   ],
   "source": [
    "#Above- ROC curve is orange, above the red dotted line w/ AUC= 0.77.\n",
    "\n",
    "#Below- To compare, the naive 'classifier', which is a hard coded algorithm, sets all cases to positive.\n",
    "\n",
    "probs_positive = np.concatenate((np.ones((probabilities.shape[0], 1)),\n",
    "                                np.zeros((probabilities.shape[0], 1))),\n",
    "                               axis = 1)\n",
    "scores_positive = score_model(probs_positive, 0.5)\n",
    "print_metrics(y_test, scores_positive)\n",
    "plot_auc(y_test, probs_positive)"
   ]
  },
  {
   "cell_type": "code",
   "execution_count": 19,
   "metadata": {},
   "outputs": [
    {
     "data": {
      "text/plain": [
       "LogisticRegression(C=1.0, class_weight={0: 0.45, 1: 0.55}, dual=False,\n",
       "          fit_intercept=True, intercept_scaling=1, max_iter=100,\n",
       "          multi_class='ovr', n_jobs=1, penalty='l2', random_state=None,\n",
       "          solver='liblinear', tol=0.0001, verbose=0, warm_start=False)"
      ]
     },
     "execution_count": 19,
     "metadata": {},
     "output_type": "execute_result"
    }
   ],
   "source": [
    "#Above- Accuracy= 0.71, indicating class imbalance. ROC curve is directly on diagonal w/ AUC= 0.5.\n",
    " # The logistic regression classifier is better than this.\n",
    "    \n",
    "#Below- A Bad credit risk customer classified a good costs the bank 5* more than classifying a good credit risk customer as bad\n",
    " # The class imbalance in label has biased the training of the model. The accuracy b/w logistic & naive 'classifier' are not very different.\n",
    "\n",
    "# Try to weigh results towards correctly classifying bad credit risk customers at expense of good credit risk customers.\n",
    " # Use LogisiticRegression function w/ argument of class_weight as 0.45 & 0.55.\n",
    "\n",
    "logistic_mod = linear_model.LogisticRegression(class_weight = {0:0.45, 1:0.55})\n",
    "logistic_mod.fit(x_train, y_train)"
   ]
  },
  {
   "cell_type": "code",
   "execution_count": 20,
   "metadata": {},
   "outputs": [
    {
     "name": "stdout",
     "output_type": "stream",
     "text": [
      "[[0.81450613 0.18549387]\n",
      " [0.35338572 0.64661428]\n",
      " [0.92963561 0.07036439]\n",
      " [0.28795618 0.71204382]\n",
      " [0.52008265 0.47991735]\n",
      " [0.96191182 0.03808818]\n",
      " [0.92875665 0.07124335]\n",
      " [0.57782686 0.42217314]\n",
      " [0.84875307 0.15124693]\n",
      " [0.89692827 0.10307173]\n",
      " [0.52185474 0.47814526]\n",
      " [0.37615598 0.62384402]\n",
      " [0.46802562 0.53197438]\n",
      " [0.6380623  0.3619377 ]\n",
      " [0.31248832 0.68751168]]\n"
     ]
    }
   ],
   "source": [
    "# Compute & examine class probabilities for each case\n",
    "\n",
    "probabilities = logistic_mod.predict_proba(x_test)\n",
    "print(probabilities[:15, :])"
   ]
  },
  {
   "cell_type": "code",
   "execution_count": 21,
   "metadata": {},
   "outputs": [
    {
     "name": "stdout",
     "output_type": "stream",
     "text": [
      "                 Confusion Matrix \n",
      "                 Score Positive     Score Negative \n",
      "Actual Positive       177                 35\n",
      "Actual Negative        34                 54\n",
      "\n",
      "Accuracy   0.77\n",
      "\n",
      "            Positive     Negative\n",
      "Num Case       212            88\n",
      "Precision     0.84          0.61\n",
      "Recall        0.83          0.61\n",
      "F1            0.84          0.84\n"
     ]
    },
    {
     "data": {
      "image/png": "[encoded data removed]",
      "text/plain": [
       "<matplotlib.figure.Figure at 0x15c8005f4e0>"
      ]
     },
     "metadata": {},
     "output_type": "display_data"
    }
   ],
   "source": [
    "#Above- probabilities don't look much different from unweighted model\n",
    "\n",
    "#Below- Compute & examine the scores & metrics to compare weighted vs. unweighted.\n",
    "\n",
    "scores = score_model(probabilities, 0.5)\n",
    "print_metrics(y_test, scores)\n",
    "plot_auc(y_test, probabilities)"
   ]
  },
  {
   "cell_type": "code",
   "execution_count": 22,
   "metadata": {},
   "outputs": [
    {
     "name": "stdout",
     "output_type": "stream",
     "text": [
      "\n",
      "For Threshold = 0.45\n",
      "                 Confusion Matrix \n",
      "                 Score Positive     Score Negative \n",
      "Actual Positive       164                 48\n",
      "Actual Negative        29                 59\n",
      "\n",
      "Accuracy   0.74\n",
      "\n",
      "            Positive     Negative\n",
      "Num Case       212            88\n",
      "Precision     0.85          0.55\n",
      "Recall        0.77          0.67\n",
      "F1            0.81          0.81\n",
      "\n",
      "For Threshold = 0.4\n",
      "                 Confusion Matrix \n",
      "                 Score Positive     Score Negative \n",
      "Actual Positive       151                 61\n",
      "Actual Negative        26                 62\n",
      "\n",
      "Accuracy   0.71\n",
      "\n",
      "            Positive     Negative\n",
      "Num Case       212            88\n",
      "Precision     0.85          0.50\n",
      "Recall        0.71          0.70\n",
      "F1            0.78          0.78\n",
      "\n",
      "For Threshold = 0.35\n",
      "                 Confusion Matrix \n",
      "                 Score Positive     Score Negative \n",
      "Actual Positive       142                 70\n",
      "Actual Negative        22                 66\n",
      "\n",
      "Accuracy   0.69\n",
      "\n",
      "            Positive     Negative\n",
      "Num Case       212            88\n",
      "Precision     0.87          0.49\n",
      "Recall        0.67          0.75\n",
      "F1            0.76          0.76\n",
      "\n",
      "For Threshold = 0.3\n",
      "                 Confusion Matrix \n",
      "                 Score Positive     Score Negative \n",
      "Actual Positive       123                 89\n",
      "Actual Negative        19                 69\n",
      "\n",
      "Accuracy   0.64\n",
      "\n",
      "            Positive     Negative\n",
      "Num Case       212            88\n",
      "Precision     0.87          0.44\n",
      "Recall        0.58          0.78\n",
      "F1            0.69          0.69\n",
      "\n",
      "For Threshold = 0.25\n",
      "                 Confusion Matrix \n",
      "                 Score Positive     Score Negative \n",
      "Actual Positive       117                 95\n",
      "Actual Negative        17                 71\n",
      "\n",
      "Accuracy   0.63\n",
      "\n",
      "            Positive     Negative\n",
      "Num Case       212            88\n",
      "Precision     0.87          0.43\n",
      "Recall        0.55          0.81\n",
      "F1            0.68          0.68\n"
     ]
    }
   ],
   "source": [
    "#Above- Accuracy increased slightly to 0.77. Precision, recall, & F1 are slightly better for negative cases.\n",
    " # Weighting has helped a little bit. ROC curve & AUC essentially unchanged.\n",
    "    \n",
    "#Another way to improve the model is to adjust the scoring threshold.\n",
    " #Use for loop to evaluate scoring for model at different threshold values.\n",
    "    \n",
    "def test_threshold(probs, labels, threshold):\n",
    "    scores = score_model(probs, threshold)\n",
    "    print('')\n",
    "    print('For Threshold = ' + str(threshold))\n",
    "    print_metrics(labels, scores)\n",
    "    \n",
    "thresholds = [0.45, 0.40, 0.35, 0.30, 0.25]\n",
    "for t in thresholds:\n",
    "    test_threshold(probabilities, y_test, t)"
   ]
  },
  {
   "cell_type": "code",
   "execution_count": null,
   "metadata": {},
   "outputs": [],
   "source": [
    "#Above- As threshold is decreased, # of correctly classified negative cases (bad credit customers) increases @ expense of correctly classifying positive cases (good credit customers).\n",
    " # Note accuracy decreases, still no very useful metric. Also note, # of FN (misclassified good credit customers) is ~4* that of FP (misclassified bad credit customers).\n",
    "    \n",
    "##Summary\n",
    " # 1) Continued to prepare credit risk data using scikit-learn. Encoded categorical variables into dummy variables, scaled numeric features, and added both to numpy array of features & numpy array of label values.\n",
    " # 2) Computed logistic model.\n",
    " # 3) Compared performance of model using multiple metrics.\n",
    "    # Accuracy metric not too useful. Compared accuracy w/ naive 'classifier' accuracy, but not much better due to class imbalance.\n",
    "    # Confusion matrix, precision, recall, & F1 are useful when considered together.\n",
    " #4) Reweighed labels & changed decision threshold for reweighted model. Both helped some of the class imbalance, but decision is an overall business decision on which threshold to pick for asymmetric cost of misclassification to bank.\n"
   ]
  }
 ],
 "metadata": {
  "kernelspec": {
   "display_name": "Python 3",
   "language": "python",
   "name": "python3"
  },
  "language_info": {
   "codemirror_mode": {
    "name": "ipython",
    "version": 3
   },
   "file_extension": ".py",
   "mimetype": "text/x-python",
   "name": "python",
   "nbconvert_exporter": "python",
   "pygments_lexer": "ipython3",
   "version": "3.6.4"
  }
 },
 "nbformat": 4,
 "nbformat_minor": 2
}
