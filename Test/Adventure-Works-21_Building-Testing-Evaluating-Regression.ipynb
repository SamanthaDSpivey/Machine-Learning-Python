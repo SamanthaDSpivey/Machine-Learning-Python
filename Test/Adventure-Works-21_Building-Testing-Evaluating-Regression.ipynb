{
 "cells": [
  {
   "cell_type": "code",
   "execution_count": 18,
   "metadata": {},
   "outputs": [],
   "source": [
    "## Goal: Explore data w/ visualizations for Adventure Works dataset\n",
    "      #    for purpose of Classification Supervised ML w/ label= AveMonthSpend\n",
    "\n",
    "# Import Python pkgs pandas, numpy, matplotlib.pyplot, & seaborn\n",
    "\n",
    "import pandas as pd\n",
    "import numpy as np\n",
    "import matplotlib.pyplot as plt\n",
    "import seaborn as sns\n",
    "import numpy.random as nr\n",
    "import math\n",
    "from sklearn import preprocessing\n",
    "import sklearn.model_selection as ms\n",
    "from sklearn import linear_model\n",
    "import sklearn.metrics as sklm\n",
    "import scipy.stats as ss\n",
    "\n",
    "%matplotlib inline  \n",
    "# Start of magic command which configures execution environment, to display graphics w/in notebook"
   ]
  },
  {
   "cell_type": "code",
   "execution_count": 19,
   "metadata": {},
   "outputs": [
    {
     "name": "stdout",
     "output_type": "stream",
     "text": [
      "(16404, 25)\n"
     ]
    },
    {
     "data": {
      "text/html": [
       "<div>\n",
       "<style scoped>\n",
       "    .dataframe tbody tr th:only-of-type {\n",
       "        vertical-align: middle;\n",
       "    }\n",
       "\n",
       "    .dataframe tbody tr th {\n",
       "        vertical-align: top;\n",
       "    }\n",
       "\n",
       "    .dataframe thead th {\n",
       "        text-align: right;\n",
       "    }\n",
       "</style>\n",
       "<table border=\"1\" class=\"dataframe\">\n",
       "  <thead>\n",
       "    <tr style=\"text-align: right;\">\n",
       "      <th></th>\n",
       "      <th>FirstName</th>\n",
       "      <th>LastName</th>\n",
       "      <th>AddressLine1</th>\n",
       "      <th>City</th>\n",
       "      <th>StateProvinceName</th>\n",
       "      <th>CountryRegionName</th>\n",
       "      <th>PostalCode</th>\n",
       "      <th>PhoneNumber</th>\n",
       "      <th>BirthDate</th>\n",
       "      <th>Education</th>\n",
       "      <th>...</th>\n",
       "      <th>NumberChildrenAtHome</th>\n",
       "      <th>TotalChildren</th>\n",
       "      <th>YearlyIncome</th>\n",
       "      <th>Age</th>\n",
       "      <th>AveMonthSpend</th>\n",
       "      <th>BikeBuyer</th>\n",
       "      <th>AgeGroup</th>\n",
       "      <th>log_AveMonthSpend</th>\n",
       "      <th>log_Age</th>\n",
       "      <th>log_YearlyIncome</th>\n",
       "    </tr>\n",
       "  </thead>\n",
       "  <tbody>\n",
       "    <tr>\n",
       "      <th>0</th>\n",
       "      <td>Jon</td>\n",
       "      <td>Yang</td>\n",
       "      <td>3761 N. 14th St</td>\n",
       "      <td>Rockhampton</td>\n",
       "      <td>Queensland</td>\n",
       "      <td>Australia</td>\n",
       "      <td>4700</td>\n",
       "      <td>1 (11) 500 555-0162</td>\n",
       "      <td>4/8/1966</td>\n",
       "      <td>Bachelors</td>\n",
       "      <td>...</td>\n",
       "      <td>0</td>\n",
       "      <td>2</td>\n",
       "      <td>137947</td>\n",
       "      <td>31</td>\n",
       "      <td>89</td>\n",
       "      <td>0</td>\n",
       "      <td>25-45</td>\n",
       "      <td>4.488636</td>\n",
       "      <td>3.433987</td>\n",
       "      <td>11.834625</td>\n",
       "    </tr>\n",
       "    <tr>\n",
       "      <th>1</th>\n",
       "      <td>Eugene</td>\n",
       "      <td>Huang</td>\n",
       "      <td>2243 W St.</td>\n",
       "      <td>Seaford</td>\n",
       "      <td>Victoria</td>\n",
       "      <td>Australia</td>\n",
       "      <td>3198</td>\n",
       "      <td>1 (11) 500 555-0110</td>\n",
       "      <td>5/14/1965</td>\n",
       "      <td>Bachelors</td>\n",
       "      <td>...</td>\n",
       "      <td>3</td>\n",
       "      <td>3</td>\n",
       "      <td>101141</td>\n",
       "      <td>32</td>\n",
       "      <td>117</td>\n",
       "      <td>1</td>\n",
       "      <td>25-45</td>\n",
       "      <td>4.762174</td>\n",
       "      <td>3.465736</td>\n",
       "      <td>11.524271</td>\n",
       "    </tr>\n",
       "    <tr>\n",
       "      <th>2</th>\n",
       "      <td>Ruben</td>\n",
       "      <td>Torres</td>\n",
       "      <td>5844 Linden Land</td>\n",
       "      <td>Hobart</td>\n",
       "      <td>Tasmania</td>\n",
       "      <td>Australia</td>\n",
       "      <td>7001</td>\n",
       "      <td>1 (11) 500 555-0184</td>\n",
       "      <td>8/12/1965</td>\n",
       "      <td>Bachelors</td>\n",
       "      <td>...</td>\n",
       "      <td>3</td>\n",
       "      <td>3</td>\n",
       "      <td>91945</td>\n",
       "      <td>32</td>\n",
       "      <td>123</td>\n",
       "      <td>0</td>\n",
       "      <td>25-45</td>\n",
       "      <td>4.812184</td>\n",
       "      <td>3.465736</td>\n",
       "      <td>11.428946</td>\n",
       "    </tr>\n",
       "    <tr>\n",
       "      <th>3</th>\n",
       "      <td>Christy</td>\n",
       "      <td>Zhu</td>\n",
       "      <td>1825 Village Pl.</td>\n",
       "      <td>North Ryde</td>\n",
       "      <td>New South Wales</td>\n",
       "      <td>Australia</td>\n",
       "      <td>2113</td>\n",
       "      <td>1 (11) 500 555-0162</td>\n",
       "      <td>2/15/1968</td>\n",
       "      <td>Bachelors</td>\n",
       "      <td>...</td>\n",
       "      <td>0</td>\n",
       "      <td>0</td>\n",
       "      <td>86688</td>\n",
       "      <td>29</td>\n",
       "      <td>50</td>\n",
       "      <td>0</td>\n",
       "      <td>25-45</td>\n",
       "      <td>3.912023</td>\n",
       "      <td>3.367296</td>\n",
       "      <td>11.370071</td>\n",
       "    </tr>\n",
       "    <tr>\n",
       "      <th>4</th>\n",
       "      <td>Elizabeth</td>\n",
       "      <td>Johnson</td>\n",
       "      <td>7553 Harness Circle</td>\n",
       "      <td>Wollongong</td>\n",
       "      <td>New South Wales</td>\n",
       "      <td>Australia</td>\n",
       "      <td>2500</td>\n",
       "      <td>1 (11) 500 555-0131</td>\n",
       "      <td>8/8/1968</td>\n",
       "      <td>Bachelors</td>\n",
       "      <td>...</td>\n",
       "      <td>5</td>\n",
       "      <td>5</td>\n",
       "      <td>92771</td>\n",
       "      <td>29</td>\n",
       "      <td>95</td>\n",
       "      <td>1</td>\n",
       "      <td>25-45</td>\n",
       "      <td>4.553877</td>\n",
       "      <td>3.367296</td>\n",
       "      <td>11.437889</td>\n",
       "    </tr>\n",
       "  </tbody>\n",
       "</table>\n",
       "<p>5 rows × 25 columns</p>\n",
       "</div>"
      ],
      "text/plain": [
       "   FirstName LastName         AddressLine1         City StateProvinceName  \\\n",
       "0        Jon     Yang      3761 N. 14th St  Rockhampton        Queensland   \n",
       "1     Eugene    Huang           2243 W St.      Seaford          Victoria   \n",
       "2      Ruben   Torres     5844 Linden Land       Hobart          Tasmania   \n",
       "3    Christy      Zhu     1825 Village Pl.   North Ryde   New South Wales   \n",
       "4  Elizabeth  Johnson  7553 Harness Circle   Wollongong   New South Wales   \n",
       "\n",
       "  CountryRegionName PostalCode          PhoneNumber  BirthDate   Education  \\\n",
       "0         Australia       4700  1 (11) 500 555-0162   4/8/1966  Bachelors    \n",
       "1         Australia       3198  1 (11) 500 555-0110  5/14/1965  Bachelors    \n",
       "2         Australia       7001  1 (11) 500 555-0184  8/12/1965  Bachelors    \n",
       "3         Australia       2113  1 (11) 500 555-0162  2/15/1968  Bachelors    \n",
       "4         Australia       2500  1 (11) 500 555-0131   8/8/1968  Bachelors    \n",
       "\n",
       "         ...        NumberChildrenAtHome TotalChildren YearlyIncome  Age  \\\n",
       "0        ...                           0             2       137947   31   \n",
       "1        ...                           3             3       101141   32   \n",
       "2        ...                           3             3        91945   32   \n",
       "3        ...                           0             0        86688   29   \n",
       "4        ...                           5             5        92771   29   \n",
       "\n",
       "   AveMonthSpend  BikeBuyer  AgeGroup  log_AveMonthSpend   log_Age  \\\n",
       "0             89          0     25-45           4.488636  3.433987   \n",
       "1            117          1     25-45           4.762174  3.465736   \n",
       "2            123          0     25-45           4.812184  3.465736   \n",
       "3             50          0     25-45           3.912023  3.367296   \n",
       "4             95          1     25-45           4.553877  3.367296   \n",
       "\n",
       "   log_YearlyIncome  \n",
       "0         11.834625  \n",
       "1         11.524271  \n",
       "2         11.428946  \n",
       "3         11.370071  \n",
       "4         11.437889  \n",
       "\n",
       "[5 rows x 25 columns]"
      ]
     },
     "execution_count": 19,
     "metadata": {},
     "output_type": "execute_result"
    }
   ],
   "source": [
    "# Load already prepared dataset, display shape, & explore first 10 rows of Pandas data frame\n",
    "\n",
    "AW_Custs_R = pd.read_csv('AW_Custs_R_Preped.csv', header=0)\n",
    "print(AW_Custs_R.shape)\n",
    "AW_Custs_R.head(5)"
   ]
  },
  {
   "cell_type": "code",
   "execution_count": 20,
   "metadata": {
    "scrolled": true
   },
   "outputs": [
    {
     "name": "stdout",
     "output_type": "stream",
     "text": [
      "48     386\n",
      "52     378\n",
      "51     367\n",
      "47     364\n",
      "50     361\n",
      "49     359\n",
      "46     334\n",
      "53     333\n",
      "54     332\n",
      "45     312\n",
      "76     304\n",
      "75     298\n",
      "77     290\n",
      "43     289\n",
      "55     275\n",
      "73     270\n",
      "74     265\n",
      "68     264\n",
      "72     262\n",
      "79     262\n",
      "56     261\n",
      "70     259\n",
      "78     254\n",
      "57     252\n",
      "66     250\n",
      "71     249\n",
      "44     242\n",
      "69     235\n",
      "65     234\n",
      "64     234\n",
      "      ... \n",
      "124     19\n",
      "132     19\n",
      "120     19\n",
      "128     17\n",
      "167     17\n",
      "158     17\n",
      "33      16\n",
      "144     16\n",
      "162     15\n",
      "159     14\n",
      "163     14\n",
      "32      13\n",
      "169     13\n",
      "161     12\n",
      "166     12\n",
      "164     11\n",
      "170      7\n",
      "171      6\n",
      "29       5\n",
      "31       5\n",
      "172      4\n",
      "173      4\n",
      "26       3\n",
      "30       3\n",
      "25       2\n",
      "176      2\n",
      "174      2\n",
      "175      2\n",
      "24       1\n",
      "22       1\n",
      "Name: AveMonthSpend, Length: 152, dtype: int64\n"
     ]
    }
   ],
   "source": [
    "# Testing for Class Imbalance by Examining Classes where label= BikeBuyer\n",
    " # Unequal numbers of cases for the categories of labels, which can seriously bias the training of classifier alogrithms \n",
    " #  higher error rate for the minority class. This should be tested for before training any model.   \n",
    "\n",
    "AW_Custs_R_counts =  AW_Custs_R['AveMonthSpend'].value_counts()\n",
    "print(AW_Custs_R_counts) "
   ]
  },
  {
   "cell_type": "code",
   "execution_count": 21,
   "metadata": {},
   "outputs": [],
   "source": [
    "#Above- Knowing imbalance exists, the best accuracy we can get w/out creating a ML model is 70%.\n",
    " # This is achieved by guessing all customers will buy a bike\n",
    "    \n",
    "#Below- Create a numpy array of label values\n",
    "\n",
    "labels = np.array(AW_Custs_R['AveMonthSpend'])\n",
    "log_labels = np.array(AW_Custs_R['log_AveMonthSpend'])"
   ]
  },
  {
   "cell_type": "code",
   "execution_count": 31,
   "metadata": {},
   "outputs": [
    {
     "name": "stdout",
     "output_type": "stream",
     "text": [
      "(16404, 31)\n",
      "[[0. 0. 0. 1. 0. 1. 0. 0. 0. 0. 0. 1. 1. 0. 1. 0. 0. 0. 0. 1. 0. 0. 0. 0.\n",
      "  0. 0. 0. 1. 0. 0. 0.]\n",
      " [0. 0. 0. 1. 0. 1. 0. 0. 0. 0. 0. 1. 0. 1. 0. 1. 0. 0. 0. 0. 0. 0. 1. 0.\n",
      "  0. 0. 0. 0. 1. 0. 0.]]\n"
     ]
    }
   ],
   "source": [
    "#Create a numpy array with all of the features (Model Matrix)\n",
    " # Encode categorical string variables into integers. \n",
    " # Transform integer coded variables to dummy variables.\n",
    " # Append each dummy coded categorical variable to model matrix.\n",
    "    \n",
    "def encode_string(cat_features):\n",
    "    enc = preprocessing.LabelEncoder()  # Encode strings to numeric categories\n",
    "    enc.fit(cat_features)\n",
    "    enc_cat_features = enc.transform(cat_features)\n",
    "    \n",
    "    ohe = preprocessing.OneHotEncoder()  #Apply One Hot Encoder\n",
    "    encoded = ohe.fit(enc_cat_features.reshape(-1,1))\n",
    "    return encoded.transform(enc_cat_features.reshape(-1,1)).toarray()\n",
    "\n",
    "categorical_columns = ['Education', 'Gender', 'MaritalStatus', 'NumberCarsOwned', 'NumberChildrenAtHome', 'TotalChildren']\n",
    "\n",
    "Features = encode_string(AW_Custs_R['Occupation'])\n",
    "for col in categorical_columns:\n",
    "    temp = encode_string(AW_Custs_R[col])\n",
    "    Features = np.concatenate([Features, temp], axis = 1)\n",
    "    \n",
    "print(Features.shape)\n",
    "print(Features[:2, :])"
   ]
  },
  {
   "cell_type": "code",
   "execution_count": 32,
   "metadata": {},
   "outputs": [
    {
     "name": "stdout",
     "output_type": "stream",
     "text": [
      "(16404, 33)\n",
      "[[0.00000e+00 0.00000e+00 0.00000e+00 1.00000e+00 0.00000e+00 1.00000e+00\n",
      "  0.00000e+00 0.00000e+00 0.00000e+00 0.00000e+00 0.00000e+00 1.00000e+00\n",
      "  1.00000e+00 0.00000e+00 1.00000e+00 0.00000e+00 0.00000e+00 0.00000e+00\n",
      "  0.00000e+00 1.00000e+00 0.00000e+00 0.00000e+00 0.00000e+00 0.00000e+00\n",
      "  0.00000e+00 0.00000e+00 0.00000e+00 1.00000e+00 0.00000e+00 0.00000e+00\n",
      "  0.00000e+00 1.37947e+05 3.10000e+01]\n",
      " [0.00000e+00 0.00000e+00 0.00000e+00 1.00000e+00 0.00000e+00 1.00000e+00\n",
      "  0.00000e+00 0.00000e+00 0.00000e+00 0.00000e+00 0.00000e+00 1.00000e+00\n",
      "  0.00000e+00 1.00000e+00 0.00000e+00 1.00000e+00 0.00000e+00 0.00000e+00\n",
      "  0.00000e+00 0.00000e+00 0.00000e+00 0.00000e+00 1.00000e+00 0.00000e+00\n",
      "  0.00000e+00 0.00000e+00 0.00000e+00 0.00000e+00 1.00000e+00 0.00000e+00\n",
      "  0.00000e+00 1.01141e+05 3.20000e+01]]\n"
     ]
    }
   ],
   "source": [
    "# 6 categorical variables were converted into 31 dummy variables. \n",
    "\n",
    "# Append numeric features to model matrix\n",
    "\n",
    "Norm_Features = np.concatenate([Features, np.array(AW_Custs_R[['YearlyIncome', 'Age']])], axis = 1)\n",
    "\n",
    "print(Norm_Features.shape)\n",
    "print(Norm_Features[:2, :])"
   ]
  },
  {
   "cell_type": "code",
   "execution_count": 34,
   "metadata": {},
   "outputs": [
    {
     "name": "stdout",
     "output_type": "stream",
     "text": [
      "(16404, 33)\n",
      "[[ 0.          0.          0.          1.          0.          1.\n",
      "   0.          0.          0.          0.          0.          1.\n",
      "   1.          0.          1.          0.          0.          0.\n",
      "   0.          1.          0.          0.          0.          0.\n",
      "   0.          0.          0.          1.          0.          0.\n",
      "   0.         11.83462483  3.4339872 ]\n",
      " [ 0.          0.          0.          1.          0.          1.\n",
      "   0.          0.          0.          0.          0.          1.\n",
      "   0.          1.          0.          1.          0.          0.\n",
      "   0.          0.          0.          0.          1.          0.\n",
      "   0.          0.          0.          0.          1.          0.\n",
      "   0.         11.52427086  3.4657359 ]]\n"
     ]
    }
   ],
   "source": [
    "# 6 categorical variables were converted into 31 dummy variables. \n",
    "\n",
    "# Append numeric features to model matrix\n",
    "\n",
    "log_Features = np.concatenate([Features, np.array(AW_Custs_R[['log_YearlyIncome', 'log_Age']])], axis = 1)\n",
    "\n",
    "print(log_Features.shape)\n",
    "print(log_Features[:2, :])"
   ]
  },
  {
   "cell_type": "code",
   "execution_count": 35,
   "metadata": {},
   "outputs": [
    {
     "name": "stdout",
     "output_type": "stream",
     "text": [
      "(16404, 33)\n",
      "[[ 0.          0.          0.          1.          0.          1.\n",
      "   0.          0.          0.          0.          0.          1.\n",
      "   1.          0.          1.          0.          0.          0.\n",
      "   0.          1.          0.          0.          0.          0.\n",
      "   0.          0.          0.          1.          0.          0.\n",
      "   0.         11.83462483 31.        ]\n",
      " [ 0.          0.          0.          1.          0.          1.\n",
      "   0.          0.          0.          0.          0.          1.\n",
      "   0.          1.          0.          1.          0.          0.\n",
      "   0.          0.          0.          0.          1.          0.\n",
      "   0.          0.          0.          0.          1.          0.\n",
      "   0.         11.52427086 32.        ]]\n"
     ]
    }
   ],
   "source": [
    "# 6 categorical variables were converted into 31 dummy variables. \n",
    "\n",
    "# Append numeric features to model matrix\n",
    "\n",
    "logYI_Features = np.concatenate([Features, np.array(AW_Custs_R[['log_YearlyIncome', 'Age']])], axis = 1)\n",
    "\n",
    "print(logYI_Features.shape)\n",
    "print(logYI_Features[:2, :])"
   ]
  },
  {
   "cell_type": "code",
   "execution_count": 36,
   "metadata": {},
   "outputs": [
    {
     "name": "stdout",
     "output_type": "stream",
     "text": [
      "(16404, 33)\n",
      "[[0.0000000e+00 0.0000000e+00 0.0000000e+00 1.0000000e+00 0.0000000e+00\n",
      "  1.0000000e+00 0.0000000e+00 0.0000000e+00 0.0000000e+00 0.0000000e+00\n",
      "  0.0000000e+00 1.0000000e+00 1.0000000e+00 0.0000000e+00 1.0000000e+00\n",
      "  0.0000000e+00 0.0000000e+00 0.0000000e+00 0.0000000e+00 1.0000000e+00\n",
      "  0.0000000e+00 0.0000000e+00 0.0000000e+00 0.0000000e+00 0.0000000e+00\n",
      "  0.0000000e+00 0.0000000e+00 1.0000000e+00 0.0000000e+00 0.0000000e+00\n",
      "  0.0000000e+00 1.3794700e+05 3.4339872e+00]\n",
      " [0.0000000e+00 0.0000000e+00 0.0000000e+00 1.0000000e+00 0.0000000e+00\n",
      "  1.0000000e+00 0.0000000e+00 0.0000000e+00 0.0000000e+00 0.0000000e+00\n",
      "  0.0000000e+00 1.0000000e+00 0.0000000e+00 1.0000000e+00 0.0000000e+00\n",
      "  1.0000000e+00 0.0000000e+00 0.0000000e+00 0.0000000e+00 0.0000000e+00\n",
      "  0.0000000e+00 0.0000000e+00 1.0000000e+00 0.0000000e+00 0.0000000e+00\n",
      "  0.0000000e+00 0.0000000e+00 0.0000000e+00 1.0000000e+00 0.0000000e+00\n",
      "  0.0000000e+00 1.0114100e+05 3.4657359e+00]]\n"
     ]
    }
   ],
   "source": [
    "# 6 categorical variables were converted into 31 dummy variables. \n",
    "\n",
    "# Append numeric features to model matrix\n",
    "\n",
    "logA_Features = np.concatenate([Features, np.array(AW_Custs_R[['YearlyIncome', 'log_Age']])], axis = 1)\n",
    "\n",
    "print(logA_Features.shape)\n",
    "print(logA_Features[:2, :])"
   ]
  },
  {
   "cell_type": "code",
   "execution_count": 37,
   "metadata": {},
   "outputs": [
    {
     "name": "stdout",
     "output_type": "stream",
     "text": [
      "['Professional' 'Management' 'Skilled Manual' 'Clerical' 'Manual']\n"
     ]
    }
   ],
   "source": [
    "# 2 numerical variables appended to matrix\n",
    "\n",
    "#Below- How many dummy variables came from checking_account_status? -5-\n",
    "print(AW_Custs_R['Occupation'].unique())"
   ]
  },
  {
   "cell_type": "code",
   "execution_count": 38,
   "metadata": {},
   "outputs": [],
   "source": [
    "## Normal Features & Label\n",
    "#Create randomly sampled training & test data (Bernoulli sample) sets from sklearn.model_selection\n",
    "\n",
    "nr.seed(9988)  #set seed\n",
    "indx = range(Norm_Features.shape[0])\n",
    "indx = ms.train_test_split(indx, test_size = 5000)\n",
    "x_train = Norm_Features[indx[0], :]\n",
    "y_train = np.ravel(labels[indx[0]])\n",
    "x_test = Norm_Features[indx[1], :]\n",
    "y_test = np.ravel(labels[indx[1]])"
   ]
  },
  {
   "cell_type": "code",
   "execution_count": 39,
   "metadata": {},
   "outputs": [
    {
     "data": {
      "text/plain": [
       "array([[ 1.        ,  0.        ,  0.        ,  0.        ,  0.        ,\n",
       "         0.        ,  0.        ,  0.        ,  1.        ,  0.        ,\n",
       "         0.        ,  1.        ,  1.        ,  0.        ,  0.        ,\n",
       "         1.        ,  0.        ,  0.        ,  0.        ,  1.        ,\n",
       "         0.        ,  0.        ,  0.        ,  0.        ,  0.        ,\n",
       "         0.        ,  1.        ,  0.        ,  0.        ,  0.        ,\n",
       "         0.        , -0.69691521,  0.49520055],\n",
       "       [ 0.        ,  0.        ,  0.        ,  1.        ,  0.        ,\n",
       "         1.        ,  0.        ,  0.        ,  0.        ,  0.        ,\n",
       "         0.        ,  1.        ,  0.        ,  1.        ,  0.        ,\n",
       "         0.        ,  1.        ,  0.        ,  0.        ,  1.        ,\n",
       "         0.        ,  0.        ,  0.        ,  0.        ,  0.        ,\n",
       "         1.        ,  0.        ,  0.        ,  0.        ,  0.        ,\n",
       "         0.        ,  0.60823408, -1.28925519],\n",
       "       [ 0.        ,  1.        ,  0.        ,  0.        ,  0.        ,\n",
       "         1.        ,  0.        ,  0.        ,  0.        ,  0.        ,\n",
       "         1.        ,  0.        ,  1.        ,  0.        ,  0.        ,\n",
       "         0.        ,  1.        ,  0.        ,  0.        ,  1.        ,\n",
       "         0.        ,  0.        ,  0.        ,  0.        ,  0.        ,\n",
       "         0.        ,  0.        ,  0.        ,  0.        ,  0.        ,\n",
       "         1.        ,  0.92153941,  1.565874  ],\n",
       "       [ 0.        ,  0.        ,  0.        ,  1.        ,  0.        ,\n",
       "         1.        ,  0.        ,  0.        ,  0.        ,  0.        ,\n",
       "         0.        ,  1.        ,  1.        ,  0.        ,  0.        ,\n",
       "         0.        ,  1.        ,  0.        ,  0.        ,  0.        ,\n",
       "         0.        ,  1.        ,  0.        ,  0.        ,  0.        ,\n",
       "         0.        ,  0.        ,  0.        ,  1.        ,  0.        ,\n",
       "         0.        ,  0.51437595, -0.12935896],\n",
       "       [ 0.        ,  0.        ,  0.        ,  1.        ,  0.        ,\n",
       "         0.        ,  0.        ,  0.        ,  1.        ,  0.        ,\n",
       "         1.        ,  0.        ,  1.        ,  0.        ,  0.        ,\n",
       "         0.        ,  0.        ,  0.        ,  1.        ,  0.        ,\n",
       "         0.        ,  0.        ,  1.        ,  0.        ,  0.        ,\n",
       "         0.        ,  0.        ,  0.        ,  1.        ,  0.        ,\n",
       "         0.        ,  0.24373111,  0.40597776]])"
      ]
     },
     "execution_count": 39,
     "metadata": {},
     "output_type": "execute_result"
    }
   ],
   "source": [
    "# Need to rescale the numeric features so they don't carry a larger influence on \n",
    " #the model using scikit learn to Zscore numeric features first on training then test data set\n",
    "\n",
    "scaler = preprocessing.StandardScaler().fit(x_train[:, 31:])\n",
    "x_train[:, 31:] = scaler.transform(x_train[:, 31:])\n",
    "x_test[:, 31:] = scaler.transform(x_test[:, 31:])\n",
    "x_train[:5, :]"
   ]
  },
  {
   "cell_type": "code",
   "execution_count": 40,
   "metadata": {},
   "outputs": [
    {
     "data": {
      "text/plain": [
       "LinearRegression(copy_X=True, fit_intercept=False, n_jobs=1, normalize=False)"
      ]
     },
     "execution_count": 40,
     "metadata": {},
     "output_type": "execute_result"
    }
   ],
   "source": [
    "# Make the linear regression model using sklearn import linear_model\n",
    "\n",
    "lin_mod = linear_model.LinearRegression(fit_intercept = False)  #intercept will be accomidated in coefficients of dummy variables\n",
    "lin_mod.fit(x_train, y_train)  #fit the model w/ numpy array of features & label"
   ]
  },
  {
   "cell_type": "code",
   "execution_count": 41,
   "metadata": {},
   "outputs": [
    {
     "name": "stdout",
     "output_type": "stream",
     "text": [
      "0.0\n",
      "[ 3.83467061e+13  3.83467061e+13  3.83467061e+13  3.83467061e+13\n",
      "  3.83467061e+13  2.08195299e+13  2.08195299e+13  2.08195299e+13\n",
      "  2.08195299e+13  2.08195299e+13  4.47670354e+13  4.47670354e+13\n",
      " -5.44213331e+13 -5.44213331e+13 -7.16723129e+12 -7.16723129e+12\n",
      " -7.16723129e+12 -7.16723129e+12 -7.16723129e+12 -2.60621570e+13\n",
      " -2.60621570e+13 -2.60621570e+13 -2.60621570e+13 -2.60621570e+13\n",
      " -2.60621570e+13 -1.62825500e+13 -1.62825500e+13 -1.62825500e+13\n",
      " -1.62825500e+13 -1.62825500e+13 -1.62825500e+13  8.50781250e+00\n",
      " -1.60937500e+00]\n"
     ]
    }
   ],
   "source": [
    "#Examine intercept and coefficients of training data\n",
    "\n",
    "print(lin_mod.intercept_)\n",
    "print(lin_mod.coef_)"
   ]
  },
  {
   "cell_type": "code",
   "execution_count": 42,
   "metadata": {},
   "outputs": [
    {
     "name": "stdout",
     "output_type": "stream",
     "text": [
      "Mean Square Error      = 38.40688095126152\n",
      "Root Mean Square Error = 6.197328533429668\n",
      "Mean Absolute Error    = 4.74363349609375\n",
      "Median Absolute Error  = 3.8134765625\n",
      "R^2                    = 0.9487616386914202\n",
      "Adjusted R^2           = 0.9484833933665344\n"
     ]
    }
   ],
   "source": [
    "#Above- Intercept is 0.0. Dummy variables are in similiar range, indicating bias/intercept has been\n",
    " # incorporated in them. Numerical values increase for first variable but weakly decrease for second.\n",
    "    \n",
    "#Below- Evaluate performance of model using test data set by computing performance metrics\n",
    "\n",
    "def print_metrics(y_true, y_predicted, n_parameters):\n",
    "    r2 = sklm.r2_score(y_true, y_predicted)\n",
    "    r2_adj = r2 - (n_parameters -1)/(y_true.shape[0] - n_parameters) * (1 - r2)\n",
    "    \n",
    "    print('Mean Square Error      = ' + str(sklm.mean_squared_error(y_true, y_predicted)))\n",
    "    print('Root Mean Square Error = ' + str(math.sqrt(sklm.mean_squared_error(y_true, y_predicted))))\n",
    "    print('Mean Absolute Error    = ' + str(sklm.mean_absolute_error(y_true, y_predicted)))\n",
    "    print('Median Absolute Error  = ' + str(sklm.median_absolute_error(y_true, y_predicted)))\n",
    "    print('R^2                    = ' + str(r2))\n",
    "    print('Adjusted R^2           = ' + str(r2_adj))\n",
    "    \n",
    "y_score = lin_mod.predict(x_test)\n",
    "print_metrics(y_test, y_score, 28)"
   ]
  },
  {
   "cell_type": "code",
   "execution_count": 43,
   "metadata": {},
   "outputs": [
    {
     "data": {
      "image/png": "[encoded data removed]",
      "text/plain": [
       "<matplotlib.figure.Figure at 0x1e969cc4978>"
      ]
     },
     "metadata": {},
     "output_type": "display_data"
    }
   ],
   "source": [
    "#Above- RMSE, MAE, Median absolute error are small & in similiar range. \n",
    " # R^2 & R^2adj are barely different, indicating model may not be overfit & might generalize well.\n",
    "    \n",
    "def hist_resids(y_test, y_score):\n",
    "    resids = np.subtract(y_test.reshape(-1,1), y_score.reshape(-1,1))  #compute vector of residuals\n",
    "    sns.distplot(resids)\n",
    "    plt.title('Histogram of Residuals')\n",
    "    plt.xlabel('Residual Value')\n",
    "    plt.ylabel('Count')\n",
    "    \n",
    "hist_resids(y_test, y_score)"
   ]
  },
  {
   "cell_type": "code",
   "execution_count": 44,
   "metadata": {},
   "outputs": [
    {
     "data": {
      "image/png": "[encoded data removed]",
      "text/plain": [
       "<matplotlib.figure.Figure at 0x1e969a53ba8>"
      ]
     },
     "metadata": {},
     "output_type": "display_data"
    }
   ],
   "source": [
    "#Above- Residuals are large in range, but noticably Gaussian in distribution\n",
    "\n",
    "#Below- Examine Q-Q normal plot\n",
    "\n",
    "def resid_qq(y_test, y_score):\n",
    "    resids = np.subtract(y_test.reshape(-1,1), y_score.reshape(-1,1))  #compute vector of residuals\n",
    "    ss.probplot(resids.flatten(), plot = plt)\n",
    "    plt.title('Residuals vs. Predicted Values')\n",
    "    plt.xlabel('Predicted Values')\n",
    "    plt.ylabel('Residual')\n",
    "    \n",
    "resid_qq(y_test, y_score)"
   ]
  },
  {
   "cell_type": "code",
   "execution_count": 45,
   "metadata": {
    "scrolled": true
   },
   "outputs": [
    {
     "data": {
      "image/png": "[encoded data removed]",
      "text/plain": [
       "<matplotlib.figure.Figure at 0x1e969cc4390>"
      ]
     },
     "metadata": {},
     "output_type": "display_data"
    }
   ],
   "source": [
    "#Above- close to normally distributed with large residuals deviating from line (skew)\n",
    "\n",
    "#Below- Display plot of residuals vs. predicted values\n",
    "\n",
    "def resid_plot(y_test, y_score):\n",
    "    resids = np.subtract(y_test.reshape(-1,1), y_score.reshape(-1,1))   #comput vector of residuals\n",
    "    sns.regplot(y_score, resids, fit_reg = False)\n",
    "    plt.title('Residuals vs. Predicted Values')\n",
    "    plt.xlabel('Predicted Values')\n",
    "    plt.ylabel('Residual')\n",
    "    \n",
    "resid_plot(y_test, y_score)"
   ]
  },
  {
   "cell_type": "code",
   "execution_count": 46,
   "metadata": {},
   "outputs": [],
   "source": [
    "## Normal Features w/ Log of Label\n",
    " #Create randomly sampled log-y training & test data (Bernoulli sample) sets from sklearn.model_selection\n",
    "\n",
    "nr.seed(9988)  #set seed\n",
    "indx = range(Norm_Features.shape[0])\n",
    "indx = ms.train_test_split(indx, test_size = 5000)\n",
    "x_train = Norm_Features[indx[0], :]\n",
    "logy_train = np.ravel(log_labels[indx[0]])\n",
    "x_test = Norm_Features[indx[1], :]\n",
    "logy_test = np.ravel(log_labels[indx[1]])"
   ]
  },
  {
   "cell_type": "code",
   "execution_count": 47,
   "metadata": {},
   "outputs": [
    {
     "data": {
      "text/plain": [
       "array([[ 1.        ,  0.        ,  0.        ,  0.        ,  0.        ,\n",
       "         0.        ,  0.        ,  0.        ,  1.        ,  0.        ,\n",
       "         0.        ,  1.        ,  1.        ,  0.        ,  0.        ,\n",
       "         1.        ,  0.        ,  0.        ,  0.        ,  1.        ,\n",
       "         0.        ,  0.        ,  0.        ,  0.        ,  0.        ,\n",
       "         0.        ,  1.        ,  0.        ,  0.        ,  0.        ,\n",
       "         0.        , -0.69691521,  0.49520055],\n",
       "       [ 0.        ,  0.        ,  0.        ,  1.        ,  0.        ,\n",
       "         1.        ,  0.        ,  0.        ,  0.        ,  0.        ,\n",
       "         0.        ,  1.        ,  0.        ,  1.        ,  0.        ,\n",
       "         0.        ,  1.        ,  0.        ,  0.        ,  1.        ,\n",
       "         0.        ,  0.        ,  0.        ,  0.        ,  0.        ,\n",
       "         1.        ,  0.        ,  0.        ,  0.        ,  0.        ,\n",
       "         0.        ,  0.60823408, -1.28925519],\n",
       "       [ 0.        ,  1.        ,  0.        ,  0.        ,  0.        ,\n",
       "         1.        ,  0.        ,  0.        ,  0.        ,  0.        ,\n",
       "         1.        ,  0.        ,  1.        ,  0.        ,  0.        ,\n",
       "         0.        ,  1.        ,  0.        ,  0.        ,  1.        ,\n",
       "         0.        ,  0.        ,  0.        ,  0.        ,  0.        ,\n",
       "         0.        ,  0.        ,  0.        ,  0.        ,  0.        ,\n",
       "         1.        ,  0.92153941,  1.565874  ],\n",
       "       [ 0.        ,  0.        ,  0.        ,  1.        ,  0.        ,\n",
       "         1.        ,  0.        ,  0.        ,  0.        ,  0.        ,\n",
       "         0.        ,  1.        ,  1.        ,  0.        ,  0.        ,\n",
       "         0.        ,  1.        ,  0.        ,  0.        ,  0.        ,\n",
       "         0.        ,  1.        ,  0.        ,  0.        ,  0.        ,\n",
       "         0.        ,  0.        ,  0.        ,  1.        ,  0.        ,\n",
       "         0.        ,  0.51437595, -0.12935896],\n",
       "       [ 0.        ,  0.        ,  0.        ,  1.        ,  0.        ,\n",
       "         0.        ,  0.        ,  0.        ,  1.        ,  0.        ,\n",
       "         1.        ,  0.        ,  1.        ,  0.        ,  0.        ,\n",
       "         0.        ,  0.        ,  0.        ,  1.        ,  0.        ,\n",
       "         0.        ,  0.        ,  1.        ,  0.        ,  0.        ,\n",
       "         0.        ,  0.        ,  0.        ,  1.        ,  0.        ,\n",
       "         0.        ,  0.24373111,  0.40597776]])"
      ]
     },
     "execution_count": 47,
     "metadata": {},
     "output_type": "execute_result"
    }
   ],
   "source": [
    "# Need to rescale the numeric features so they don't carry a larger influence on \n",
    " #the model using scikit learn to Zscore numeric features first on training then test data set\n",
    "\n",
    "scaler = preprocessing.StandardScaler().fit(x_train[:, 31:])\n",
    "x_train[:, 31:] = scaler.transform(x_train[:, 31:])\n",
    "x_test[:, 31:] = scaler.transform(x_test[:, 31:])\n",
    "x_train[:5, :]"
   ]
  },
  {
   "cell_type": "code",
   "execution_count": 49,
   "metadata": {},
   "outputs": [
    {
     "data": {
      "text/plain": [
       "LinearRegression(copy_X=True, fit_intercept=False, n_jobs=1, normalize=False)"
      ]
     },
     "execution_count": 49,
     "metadata": {},
     "output_type": "execute_result"
    }
   ],
   "source": [
    "# Make the linear regression model using sklearn import linear_model\n",
    "\n",
    "lin_mod2 = linear_model.LinearRegression(fit_intercept = False)  #intercept will be accomidated in coefficients of dummy variables\n",
    "lin_mod2.fit(x_train, logy_train)  #fit the model w/ numpy array of features & label"
   ]
  },
  {
   "cell_type": "code",
   "execution_count": 50,
   "metadata": {},
   "outputs": [
    {
     "name": "stdout",
     "output_type": "stream",
     "text": [
      "0.0\n",
      "[ 5.46613018e+11  5.46613018e+11  5.46613018e+11  5.46613018e+11\n",
      "  5.46613018e+11  3.09734995e+11  3.09734995e+11  3.09734995e+11\n",
      "  3.09734995e+11  3.09734995e+11  5.90363307e+11  5.90363307e+11\n",
      " -6.98002353e+11 -6.98002353e+11 -1.11139291e+11 -1.11139291e+11\n",
      " -1.11139291e+11 -1.11139291e+11 -1.11139291e+11 -3.91886799e+11\n",
      " -3.91886799e+11 -3.91886799e+11 -3.91886799e+11 -3.91886799e+11\n",
      " -3.91886799e+11 -2.45682877e+11 -2.45682877e+11 -2.45682877e+11\n",
      " -2.45682877e+11 -2.45682877e+11 -2.45682877e+11  9.88769531e-02\n",
      " -3.22875977e-02]\n"
     ]
    }
   ],
   "source": [
    "#Examine intercept and coefficients of training data\n",
    "\n",
    "print(lin_mod2.intercept_)\n",
    "print(lin_mod2.coef_)"
   ]
  },
  {
   "cell_type": "code",
   "execution_count": 122,
   "metadata": {},
   "outputs": [
    {
     "name": "stdout",
     "output_type": "stream",
     "text": [
      "Mean Square Error      = 0.003523475733716043\n",
      "Root Mean Square Error = 0.059358872409405176\n",
      "Mean Absolute Error    = 0.0452751308072435\n",
      "Median Absolute Error  = 0.03615359655672323\n",
      "R^2                    = 0.9704616681429882\n",
      "Adjusted R^2           = 0.970301262881496\n"
     ]
    }
   ],
   "source": [
    "#Above- Intercept is 0.0. Dummy variables are in similiar range, indicating bias/intercept has been\n",
    " # incorporated in them. Numerical values increase for first variable but weakly decrease for second.\n",
    "    \n",
    "#Below- Evaluate performance of model using test data set by computing performance metrics\n",
    "\n",
    "def print_metrics2(y_true, y_predicted, n_parameters):\n",
    "    r2 = sklm.r2_score(y_true, y_predicted)\n",
    "    r2_adj = r2 - (n_parameters -1)/(y_true.shape[0] - n_parameters) * (1 - r2)\n",
    "    \n",
    "    print('Mean Square Error      = ' + str(sklm.mean_squared_error(y_true, y_predicted)))\n",
    "    print('Root Mean Square Error = ' + str(math.sqrt(sklm.mean_squared_error(y_true, y_predicted))))\n",
    "    print('Mean Absolute Error    = ' + str(sklm.mean_absolute_error(y_true, y_predicted)))\n",
    "    print('Median Absolute Error  = ' + str(sklm.median_absolute_error(y_true, y_predicted)))\n",
    "    print('R^2                    = ' + str(r2))\n",
    "    print('Adjusted R^2           = ' + str(r2_adj))\n",
    "    \n",
    "y_score2 = lin_mod2.predict(x_test)\n",
    "print_metrics2(logy_test, y_score2, 28)"
   ]
  },
  {
   "cell_type": "code",
   "execution_count": 123,
   "metadata": {},
   "outputs": [
    {
     "data": {
      "image/png": "[encoded data removed]",
      "text/plain": [
       "<matplotlib.figure.Figure at 0x1e96a50b710>"
      ]
     },
     "metadata": {},
     "output_type": "display_data"
    }
   ],
   "source": [
    "#Above- RMSE, MAE, Median absolute error are small & in similiar range. \n",
    " # R^2 & R^2adj are barely different, indicating model may not be overfit & might generalize well.\n",
    "    \n",
    "def hist_resids2(logy_test, y_score2):\n",
    "    resids = np.subtract(logy_test.reshape(-1,1), y_score2.reshape(-1,1))  #compute vector of residuals\n",
    "    sns.distplot(resids)\n",
    "    plt.title('Histogram of Residuals')\n",
    "    plt.xlabel('Residual Value')\n",
    "    plt.ylabel('Count')\n",
    "    \n",
    "hist_resids2(logy_test, y_score2)"
   ]
  },
  {
   "cell_type": "code",
   "execution_count": 124,
   "metadata": {},
   "outputs": [
    {
     "data": {
      "image/png": "[encoded data removed]",
      "text/plain": [
       "<matplotlib.figure.Figure at 0x1e9699602b0>"
      ]
     },
     "metadata": {},
     "output_type": "display_data"
    }
   ],
   "source": [
    "#Above- Residuals are large in range, but noticably Gaussian in distribution\n",
    "\n",
    "#Below- Examine Q-Q normal plot\n",
    "\n",
    "def resid_qq2(logy_test, y_score2):\n",
    "    resids = np.subtract(logy_test.reshape(-1,1), y_score2.reshape(-1,1))  #compute vector of residuals\n",
    "    ss.probplot(resids.flatten(), plot = plt)\n",
    "    plt.title('Residuals vs. Predicted Values')\n",
    "    plt.xlabel('Predicted Values')\n",
    "    plt.ylabel('Residual')\n",
    "    \n",
    "resid_qq2(logy_test, y_score2)"
   ]
  },
  {
   "cell_type": "code",
   "execution_count": 101,
   "metadata": {},
   "outputs": [
    {
     "data": {
      "image/png": "[encoded data removed]",
      "text/plain": [
       "<matplotlib.figure.Figure at 0x1e969ac3ac8>"
      ]
     },
     "metadata": {},
     "output_type": "display_data"
    }
   ],
   "source": [
    "#Above- close to normally distributed with large residuals deviating from line (skew)\n",
    "\n",
    "#Below- Display plot of residuals vs. predicted values\n",
    "\n",
    "def resid_plot2(logy_test, y_score):\n",
    "    resids = np.subtract(logy_test.reshape(-1,1), y_score.reshape(-1,1))   #comput vector of residuals\n",
    "    sns.regplot(y_score, resids, fit_reg = False)\n",
    "    plt.title('Residuals vs. Predicted Values')\n",
    "    plt.xlabel('Predicted Values')\n",
    "    plt.ylabel('Residual')\n",
    "    \n",
    "resid_plot2(logy_test, y_score)"
   ]
  },
  {
   "cell_type": "code",
   "execution_count": 62,
   "metadata": {},
   "outputs": [],
   "source": [
    "## Log Features w/ Log of Label\n",
    " #Create randomly sampled log-y training & test data (Bernoulli sample) sets from sklearn.model_selection\n",
    "\n",
    "nr.seed(9988)  #set seed\n",
    "indx = range(log_Features.shape[0])\n",
    "indx = ms.train_test_split(indx, test_size = 5000)\n",
    "logx_train = log_Features[indx[0], :]\n",
    "logy_train = np.ravel(log_labels[indx[0]])\n",
    "logx_test = log_Features[indx[1], :]\n",
    "logy_test = np.ravel(log_labels[indx[1]])"
   ]
  },
  {
   "cell_type": "code",
   "execution_count": 63,
   "metadata": {},
   "outputs": [
    {
     "data": {
      "text/plain": [
       "array([[ 1.        ,  0.        ,  0.        ,  0.        ,  0.        ,\n",
       "         0.        ,  0.        ,  0.        ,  1.        ,  0.        ,\n",
       "         0.        ,  1.        ,  1.        ,  0.        ,  0.        ,\n",
       "         1.        ,  0.        ,  0.        ,  0.        ,  1.        ,\n",
       "         0.        ,  0.        ,  0.        ,  0.        ,  0.        ,\n",
       "         0.        ,  1.        ,  0.        ,  0.        ,  0.        ,\n",
       "         0.        , -0.43845561,  0.61394552],\n",
       "       [ 0.        ,  0.        ,  0.        ,  1.        ,  0.        ,\n",
       "         1.        ,  0.        ,  0.        ,  0.        ,  0.        ,\n",
       "         0.        ,  1.        ,  0.        ,  1.        ,  0.        ,\n",
       "         0.        ,  1.        ,  0.        ,  0.        ,  1.        ,\n",
       "         0.        ,  0.        ,  0.        ,  0.        ,  0.        ,\n",
       "         1.        ,  0.        ,  0.        ,  0.        ,  0.        ,\n",
       "         0.        ,  0.69359986, -1.48812679],\n",
       "       [ 0.        ,  1.        ,  0.        ,  0.        ,  0.        ,\n",
       "         1.        ,  0.        ,  0.        ,  0.        ,  0.        ,\n",
       "         1.        ,  0.        ,  1.        ,  0.        ,  0.        ,\n",
       "         0.        ,  1.        ,  0.        ,  0.        ,  1.        ,\n",
       "         0.        ,  0.        ,  0.        ,  0.        ,  0.        ,\n",
       "         0.        ,  0.        ,  0.        ,  0.        ,  0.        ,\n",
       "         1.        ,  0.87746958,  1.42052796],\n",
       "       [ 0.        ,  0.        ,  0.        ,  1.        ,  0.        ,\n",
       "         1.        ,  0.        ,  0.        ,  0.        ,  0.        ,\n",
       "         0.        ,  1.        ,  1.        ,  0.        ,  0.        ,\n",
       "         0.        ,  1.        ,  0.        ,  0.        ,  0.        ,\n",
       "         0.        ,  1.        ,  0.        ,  0.        ,  0.        ,\n",
       "         0.        ,  0.        ,  0.        ,  1.        ,  0.        ,\n",
       "         0.        ,  0.63414027,  0.0257497 ],\n",
       "       [ 0.        ,  0.        ,  0.        ,  1.        ,  0.        ,\n",
       "         0.        ,  0.        ,  0.        ,  1.        ,  0.        ,\n",
       "         1.        ,  0.        ,  1.        ,  0.        ,  0.        ,\n",
       "         0.        ,  0.        ,  0.        ,  1.        ,  0.        ,\n",
       "         0.        ,  0.        ,  1.        ,  0.        ,  0.        ,\n",
       "         0.        ,  0.        ,  0.        ,  1.        ,  0.        ,\n",
       "         0.        ,  0.44918147,  0.53636435]])"
      ]
     },
     "execution_count": 63,
     "metadata": {},
     "output_type": "execute_result"
    }
   ],
   "source": [
    "# Need to rescale the numeric features so they don't carry a larger influence on \n",
    " #the model using scikit learn to Zscore numeric features first on training then test data set\n",
    "\n",
    "scaler = preprocessing.StandardScaler().fit(logx_train[:, 31:])\n",
    "logx_train[:, 31:] = scaler.transform(logx_train[:, 31:])\n",
    "logx_test[:, 31:] = scaler.transform(logx_test[:, 31:])\n",
    "logx_train[:5, :]"
   ]
  },
  {
   "cell_type": "code",
   "execution_count": 64,
   "metadata": {},
   "outputs": [
    {
     "data": {
      "text/plain": [
       "LinearRegression(copy_X=True, fit_intercept=False, n_jobs=1, normalize=False)"
      ]
     },
     "execution_count": 64,
     "metadata": {},
     "output_type": "execute_result"
    }
   ],
   "source": [
    "# Make the linear regression model using sklearn import linear_model\n",
    "\n",
    "lin_mod3 = linear_model.LinearRegression(fit_intercept = False)  #intercept will be accomidated in coefficients of dummy variables\n",
    "lin_mod3.fit(logx_train, logy_train)  #fit the model w/ numpy array of features & label"
   ]
  },
  {
   "cell_type": "code",
   "execution_count": 65,
   "metadata": {},
   "outputs": [
    {
     "name": "stdout",
     "output_type": "stream",
     "text": [
      "0.0\n",
      "[ 5.38407926e+11  5.38407926e+11  5.38407926e+11  5.38407926e+11\n",
      "  5.38407926e+11  2.56787160e+11  2.56787160e+11  2.56787160e+11\n",
      "  2.56787160e+11  2.56787160e+11  2.79862779e+11  2.79862779e+11\n",
      " -5.13366254e+11 -5.13366254e+11 -4.17524110e+10 -4.17524110e+10\n",
      " -4.17524110e+10 -4.17524110e+10 -4.17524110e+10 -2.90556251e+11\n",
      " -2.90556251e+11 -2.90556251e+11 -2.90556251e+11 -2.90556251e+11\n",
      " -2.90556251e+11 -2.29382950e+11 -2.29382950e+11 -2.29382950e+11\n",
      " -2.29382950e+11 -2.29382950e+11 -2.29382950e+11  1.07269287e-01\n",
      " -1.99584961e-02]\n"
     ]
    }
   ],
   "source": [
    "#Examine intercept and coefficients of training data\n",
    "\n",
    "print(lin_mod3.intercept_)\n",
    "print(lin_mod3.coef_)"
   ]
  },
  {
   "cell_type": "code",
   "execution_count": 125,
   "metadata": {},
   "outputs": [
    {
     "name": "stdout",
     "output_type": "stream",
     "text": [
      "Mean Square Error      = 0.003789863628237121\n",
      "Root Mean Square Error = 0.06156186829716201\n",
      "Mean Absolute Error    = 0.04613762148253759\n",
      "Median Absolute Error  = 0.03606562772050781\n",
      "R^2                    = 0.9682284601898982\n",
      "Adjusted R^2           = 0.9680559276929407\n"
     ]
    }
   ],
   "source": [
    "#Above- Intercept is 0.0. Dummy variables are in similiar range, indicating bias/intercept has been\n",
    " # incorporated in them. Numerical values increase for first variable but weakly decrease for second.\n",
    "    \n",
    "#Below- Evaluate performance of model using test data set by computing performance metrics\n",
    "\n",
    "def print_metrics3(y_true, y_predicted, n_parameters):\n",
    "    r2 = sklm.r2_score(y_true, y_predicted)\n",
    "    r2_adj = r2 - (n_parameters -1)/(y_true.shape[0] - n_parameters) * (1 - r2)\n",
    "    \n",
    "    print('Mean Square Error      = ' + str(sklm.mean_squared_error(y_true, y_predicted)))\n",
    "    print('Root Mean Square Error = ' + str(math.sqrt(sklm.mean_squared_error(y_true, y_predicted))))\n",
    "    print('Mean Absolute Error    = ' + str(sklm.mean_absolute_error(y_true, y_predicted)))\n",
    "    print('Median Absolute Error  = ' + str(sklm.median_absolute_error(y_true, y_predicted)))\n",
    "    print('R^2                    = ' + str(r2))\n",
    "    print('Adjusted R^2           = ' + str(r2_adj))\n",
    "    \n",
    "logy_score3 = lin_mod3.predict(logx_test)\n",
    "print_metrics3(logy_test, logy_score3, 28)"
   ]
  },
  {
   "cell_type": "code",
   "execution_count": 103,
   "metadata": {},
   "outputs": [
    {
     "data": {
      "image/png": "[encoded data removed]",
      "text/plain": [
       "<matplotlib.figure.Figure at 0x1e969627588>"
      ]
     },
     "metadata": {},
     "output_type": "display_data"
    }
   ],
   "source": [
    "#Above- RMSE, MAE, Median absolute error are small & in similiar range. \n",
    " # R^2 & R^2adj are barely different, indicating model may not be overfit & might generalize well.\n",
    "    \n",
    "def hist_resids3(logy_test, logy_score3):\n",
    "    resids = np.subtract(logy_test.reshape(-1,1), logy_score3.reshape(-1,1))  #compute vector of residuals\n",
    "    sns.distplot(resids)\n",
    "    plt.title('Histogram of Residuals')\n",
    "    plt.xlabel('Residual Value')\n",
    "    plt.ylabel('Count')\n",
    "    \n",
    "hist_resids3(logy_test, logy_score3)"
   ]
  },
  {
   "cell_type": "code",
   "execution_count": 104,
   "metadata": {},
   "outputs": [
    {
     "data": {
      "image/png": "[encoded data removed]",
      "text/plain": [
       "<matplotlib.figure.Figure at 0x1e96964f208>"
      ]
     },
     "metadata": {},
     "output_type": "display_data"
    }
   ],
   "source": [
    "#Above- Residuals are large in range, but noticably Gaussian in distribution\n",
    "\n",
    "#Below- Examine Q-Q normal plot\n",
    "\n",
    "def resid_qq3(logy_test, logy_score3):\n",
    "    resids = np.subtract(logy_test.reshape(-1,1), logy_score3.reshape(-1,1))  #compute vector of residuals\n",
    "    ss.probplot(resids.flatten(), plot = plt)\n",
    "    plt.title('Residuals vs. Predicted Values')\n",
    "    plt.xlabel('Predicted Values')\n",
    "    plt.ylabel('Residual')\n",
    "    \n",
    "resid_qq3(logy_test, logy_score3)"
   ]
  },
  {
   "cell_type": "code",
   "execution_count": 105,
   "metadata": {},
   "outputs": [
    {
     "data": {
      "image/png": "[encoded data removed]",
      "text/plain": [
       "<matplotlib.figure.Figure at 0x1e96a0ae710>"
      ]
     },
     "metadata": {},
     "output_type": "display_data"
    }
   ],
   "source": [
    "#Above- close to normally distributed with large residuals deviating from line (skew)\n",
    "\n",
    "#Below- Display plot of residuals vs. predicted values\n",
    "\n",
    "def resid_plot3(logy_test, logy_score3):\n",
    "    resids = np.subtract(logy_test.reshape(-1,1), logy_score3.reshape(-1,1))   #comput vector of residuals\n",
    "    sns.regplot(logy_score3, resids, fit_reg = False)\n",
    "    plt.title('Residuals vs. Predicted Values')\n",
    "    plt.xlabel('Predicted Values')\n",
    "    plt.ylabel('Residual')\n",
    "    \n",
    "resid_plot3(logy_test, logy_score3)"
   ]
  },
  {
   "cell_type": "code",
   "execution_count": 70,
   "metadata": {},
   "outputs": [],
   "source": [
    "## Log YearlyIncome Feature only w/ normal Label\n",
    " #Create randomly sampled log-y training & test data (Bernoulli sample) sets from sklearn.model_selection\n",
    "\n",
    "nr.seed(9988)  #set seed\n",
    "indx = range(logYI_Features.shape[0])\n",
    "indx = ms.train_test_split(indx, test_size = 5000)\n",
    "logYIx_train = logYI_Features[indx[0], :]\n",
    "y_train = np.ravel(labels[indx[0]])\n",
    "logYIx_test = logYI_Features[indx[1], :]\n",
    "y_test = np.ravel(labels[indx[1]])"
   ]
  },
  {
   "cell_type": "code",
   "execution_count": 71,
   "metadata": {},
   "outputs": [
    {
     "data": {
      "text/plain": [
       "array([[ 1.        ,  0.        ,  0.        ,  0.        ,  0.        ,\n",
       "         0.        ,  0.        ,  0.        ,  1.        ,  0.        ,\n",
       "         0.        ,  1.        ,  1.        ,  0.        ,  0.        ,\n",
       "         1.        ,  0.        ,  0.        ,  0.        ,  1.        ,\n",
       "         0.        ,  0.        ,  0.        ,  0.        ,  0.        ,\n",
       "         0.        ,  1.        ,  0.        ,  0.        ,  0.        ,\n",
       "         0.        , -0.43845561,  0.49520055],\n",
       "       [ 0.        ,  0.        ,  0.        ,  1.        ,  0.        ,\n",
       "         1.        ,  0.        ,  0.        ,  0.        ,  0.        ,\n",
       "         0.        ,  1.        ,  0.        ,  1.        ,  0.        ,\n",
       "         0.        ,  1.        ,  0.        ,  0.        ,  1.        ,\n",
       "         0.        ,  0.        ,  0.        ,  0.        ,  0.        ,\n",
       "         1.        ,  0.        ,  0.        ,  0.        ,  0.        ,\n",
       "         0.        ,  0.69359986, -1.28925519],\n",
       "       [ 0.        ,  1.        ,  0.        ,  0.        ,  0.        ,\n",
       "         1.        ,  0.        ,  0.        ,  0.        ,  0.        ,\n",
       "         1.        ,  0.        ,  1.        ,  0.        ,  0.        ,\n",
       "         0.        ,  1.        ,  0.        ,  0.        ,  1.        ,\n",
       "         0.        ,  0.        ,  0.        ,  0.        ,  0.        ,\n",
       "         0.        ,  0.        ,  0.        ,  0.        ,  0.        ,\n",
       "         1.        ,  0.87746958,  1.565874  ],\n",
       "       [ 0.        ,  0.        ,  0.        ,  1.        ,  0.        ,\n",
       "         1.        ,  0.        ,  0.        ,  0.        ,  0.        ,\n",
       "         0.        ,  1.        ,  1.        ,  0.        ,  0.        ,\n",
       "         0.        ,  1.        ,  0.        ,  0.        ,  0.        ,\n",
       "         0.        ,  1.        ,  0.        ,  0.        ,  0.        ,\n",
       "         0.        ,  0.        ,  0.        ,  1.        ,  0.        ,\n",
       "         0.        ,  0.63414027, -0.12935896],\n",
       "       [ 0.        ,  0.        ,  0.        ,  1.        ,  0.        ,\n",
       "         0.        ,  0.        ,  0.        ,  1.        ,  0.        ,\n",
       "         1.        ,  0.        ,  1.        ,  0.        ,  0.        ,\n",
       "         0.        ,  0.        ,  0.        ,  1.        ,  0.        ,\n",
       "         0.        ,  0.        ,  1.        ,  0.        ,  0.        ,\n",
       "         0.        ,  0.        ,  0.        ,  1.        ,  0.        ,\n",
       "         0.        ,  0.44918147,  0.40597776]])"
      ]
     },
     "execution_count": 71,
     "metadata": {},
     "output_type": "execute_result"
    }
   ],
   "source": [
    "# Need to rescale the numeric features so they don't carry a larger influence on \n",
    " #the model using scikit learn to Zscore numeric features first on training then test data set\n",
    "\n",
    "scaler = preprocessing.StandardScaler().fit(logYIx_train[:, 31:])\n",
    "logYIx_train[:, 31:] = scaler.transform(logYIx_train[:, 31:])\n",
    "logYIx_test[:, 31:] = scaler.transform(logYIx_test[:, 31:])\n",
    "logYIx_train[:5, :]"
   ]
  },
  {
   "cell_type": "code",
   "execution_count": 72,
   "metadata": {},
   "outputs": [
    {
     "data": {
      "text/plain": [
       "LinearRegression(copy_X=True, fit_intercept=False, n_jobs=1, normalize=False)"
      ]
     },
     "execution_count": 72,
     "metadata": {},
     "output_type": "execute_result"
    }
   ],
   "source": [
    "# Make the linear regression model using sklearn import linear_model\n",
    "\n",
    "lin_mod4 = linear_model.LinearRegression(fit_intercept = False)  #intercept will be accomidated in coefficients of dummy variables\n",
    "lin_mod4.fit(logYIx_train, y_train)  #fit the model w/ numpy array of features & label"
   ]
  },
  {
   "cell_type": "code",
   "execution_count": 73,
   "metadata": {},
   "outputs": [
    {
     "name": "stdout",
     "output_type": "stream",
     "text": [
      "0.0\n",
      "[ 3.91856483e+13  3.91856483e+13  3.91856483e+13  3.91856483e+13\n",
      "  3.91856483e+13  2.41488153e+13  2.41488153e+13  2.41488153e+13\n",
      "  2.41488153e+13  2.41488153e+13  2.35376036e+12  2.35376036e+12\n",
      " -3.99889679e+13 -3.99889679e+13  7.49697901e+12  7.49697901e+12\n",
      "  7.49697901e+12  7.49697901e+12  7.49697901e+12 -1.63989584e+13\n",
      " -1.63989584e+13 -1.63989584e+13 -1.63989584e+13 -1.63989584e+13\n",
      " -1.63989584e+13 -1.67972768e+13 -1.67972768e+13 -1.67972768e+13\n",
      " -1.67972768e+13 -1.67972768e+13 -1.67972768e+13  7.39062500e+00\n",
      " -1.62109375e+00]\n"
     ]
    }
   ],
   "source": [
    "#Examine intercept and coefficients of training data\n",
    "\n",
    "print(lin_mod4.intercept_)\n",
    "print(lin_mod4.coef_)"
   ]
  },
  {
   "cell_type": "code",
   "execution_count": 126,
   "metadata": {},
   "outputs": [
    {
     "name": "stdout",
     "output_type": "stream",
     "text": [
      "Mean Square Error      = 44.28904762400985\n",
      "Root Mean Square Error = 6.655001699775128\n",
      "Mean Absolute Error    = 5.062090283203125\n",
      "Median Absolute Error  = 3.90234375\n",
      "R^2                    = 0.9409142797341011\n",
      "Adjusted R^2           = 0.9405934200303241\n"
     ]
    }
   ],
   "source": [
    "#Above- Intercept is 0.0. Dummy variables are in similiar range, indicating bias/intercept has been\n",
    " # incorporated in them. Numerical values increase for first variable but weakly decrease for second.\n",
    "    \n",
    "#Below- Evaluate performance of model using test data set by computing performance metrics\n",
    "\n",
    "def print_metrics4(y_true, y_predicted, n_parameters):\n",
    "    r2 = sklm.r2_score(y_true, y_predicted)\n",
    "    r2_adj = r2 - (n_parameters -1)/(y_true.shape[0] - n_parameters) * (1 - r2)\n",
    "    \n",
    "    print('Mean Square Error      = ' + str(sklm.mean_squared_error(y_true, y_predicted)))\n",
    "    print('Root Mean Square Error = ' + str(math.sqrt(sklm.mean_squared_error(y_true, y_predicted))))\n",
    "    print('Mean Absolute Error    = ' + str(sklm.mean_absolute_error(y_true, y_predicted)))\n",
    "    print('Median Absolute Error  = ' + str(sklm.median_absolute_error(y_true, y_predicted)))\n",
    "    print('R^2                    = ' + str(r2))\n",
    "    print('Adjusted R^2           = ' + str(r2_adj))\n",
    "    \n",
    "logy_score4 = lin_mod4.predict(logYIx_test)\n",
    "print_metrics4(y_test, logy_score4, 28)"
   ]
  },
  {
   "cell_type": "code",
   "execution_count": 107,
   "metadata": {},
   "outputs": [
    {
     "data": {
      "image/png": "[encoded data removed]",
      "text/plain": [
       "<matplotlib.figure.Figure at 0x1e96d1fd198>"
      ]
     },
     "metadata": {},
     "output_type": "display_data"
    }
   ],
   "source": [
    "#Above- RMSE, MAE, Median absolute error are small & in similiar range. \n",
    " # R^2 & R^2adj are barely different, indicating model may not be overfit & might generalize well.\n",
    "    \n",
    "def hist_resids4(y_test, logy_score4):\n",
    "    resids = np.subtract(y_test.reshape(-1,1), logy_score4.reshape(-1,1))  #compute vector of residuals\n",
    "    sns.distplot(resids)\n",
    "    plt.title('Histogram of Residuals')\n",
    "    plt.xlabel('Residual Value')\n",
    "    plt.ylabel('Count')\n",
    "    \n",
    "hist_resids4(y_test, logy_score4)"
   ]
  },
  {
   "cell_type": "code",
   "execution_count": 108,
   "metadata": {},
   "outputs": [
    {
     "data": {
      "image/png": "[encoded data removed]",
      "text/plain": [
       "<matplotlib.figure.Figure at 0x1e96a041a90>"
      ]
     },
     "metadata": {},
     "output_type": "display_data"
    }
   ],
   "source": [
    "#Above- Residuals are large in range, but noticably Gaussian in distribution\n",
    "\n",
    "#Below- Examine Q-Q normal plot\n",
    "\n",
    "def resid_qq4(y_test, logy_score4):\n",
    "    resids = np.subtract(y_test.reshape(-1,1), logy_score4.reshape(-1,1))  #compute vector of residuals\n",
    "    ss.probplot(resids.flatten(), plot = plt)\n",
    "    plt.title('Residuals vs. Predicted Values')\n",
    "    plt.xlabel('Predicted Values')\n",
    "    plt.ylabel('Residual')\n",
    "    \n",
    "resid_qq4(y_test, logy_score4)"
   ]
  },
  {
   "cell_type": "code",
   "execution_count": 109,
   "metadata": {},
   "outputs": [
    {
     "data": {
      "image/png": "[encoded data removed]",
      "text/plain": [
       "<matplotlib.figure.Figure at 0x1e96d1d2470>"
      ]
     },
     "metadata": {},
     "output_type": "display_data"
    }
   ],
   "source": [
    "#Above- close to normally distributed with large residuals deviating from line (skew)\n",
    "\n",
    "#Below- Display plot of residuals vs. predicted values\n",
    "\n",
    "def resid_plot4(y_test, logy_score4):\n",
    "    resids = np.subtract(y_test.reshape(-1,1), logy_score4.reshape(-1,1))   #comput vector of residuals\n",
    "    sns.regplot(logy_score4, resids, fit_reg = False)\n",
    "    plt.title('Residuals vs. Predicted Values')\n",
    "    plt.xlabel('Predicted Values')\n",
    "    plt.ylabel('Residual')\n",
    "    \n",
    "resid_plot4(y_test, logy_score4)"
   ]
  },
  {
   "cell_type": "code",
   "execution_count": 78,
   "metadata": {},
   "outputs": [],
   "source": [
    "## Log YearlyIncome Feature only w/ log Label\n",
    " #Create randomly sampled log-y training & test data (Bernoulli sample) sets from sklearn.model_selection\n",
    "\n",
    "nr.seed(9988)  #set seed\n",
    "indx = range(logYI_Features.shape[0])\n",
    "indx = ms.train_test_split(indx, test_size = 5000)\n",
    "logYIx_train = logYI_Features[indx[0], :]\n",
    "logy_train = np.ravel(log_labels[indx[0]])\n",
    "logYIx_test = logYI_Features[indx[1], :]\n",
    "logy_test = np.ravel(log_labels[indx[1]])"
   ]
  },
  {
   "cell_type": "code",
   "execution_count": 79,
   "metadata": {},
   "outputs": [
    {
     "data": {
      "text/plain": [
       "array([[ 1.        ,  0.        ,  0.        ,  0.        ,  0.        ,\n",
       "         0.        ,  0.        ,  0.        ,  1.        ,  0.        ,\n",
       "         0.        ,  1.        ,  1.        ,  0.        ,  0.        ,\n",
       "         1.        ,  0.        ,  0.        ,  0.        ,  1.        ,\n",
       "         0.        ,  0.        ,  0.        ,  0.        ,  0.        ,\n",
       "         0.        ,  1.        ,  0.        ,  0.        ,  0.        ,\n",
       "         0.        , -0.43845561,  0.49520055],\n",
       "       [ 0.        ,  0.        ,  0.        ,  1.        ,  0.        ,\n",
       "         1.        ,  0.        ,  0.        ,  0.        ,  0.        ,\n",
       "         0.        ,  1.        ,  0.        ,  1.        ,  0.        ,\n",
       "         0.        ,  1.        ,  0.        ,  0.        ,  1.        ,\n",
       "         0.        ,  0.        ,  0.        ,  0.        ,  0.        ,\n",
       "         1.        ,  0.        ,  0.        ,  0.        ,  0.        ,\n",
       "         0.        ,  0.69359986, -1.28925519],\n",
       "       [ 0.        ,  1.        ,  0.        ,  0.        ,  0.        ,\n",
       "         1.        ,  0.        ,  0.        ,  0.        ,  0.        ,\n",
       "         1.        ,  0.        ,  1.        ,  0.        ,  0.        ,\n",
       "         0.        ,  1.        ,  0.        ,  0.        ,  1.        ,\n",
       "         0.        ,  0.        ,  0.        ,  0.        ,  0.        ,\n",
       "         0.        ,  0.        ,  0.        ,  0.        ,  0.        ,\n",
       "         1.        ,  0.87746958,  1.565874  ],\n",
       "       [ 0.        ,  0.        ,  0.        ,  1.        ,  0.        ,\n",
       "         1.        ,  0.        ,  0.        ,  0.        ,  0.        ,\n",
       "         0.        ,  1.        ,  1.        ,  0.        ,  0.        ,\n",
       "         0.        ,  1.        ,  0.        ,  0.        ,  0.        ,\n",
       "         0.        ,  1.        ,  0.        ,  0.        ,  0.        ,\n",
       "         0.        ,  0.        ,  0.        ,  1.        ,  0.        ,\n",
       "         0.        ,  0.63414027, -0.12935896],\n",
       "       [ 0.        ,  0.        ,  0.        ,  1.        ,  0.        ,\n",
       "         0.        ,  0.        ,  0.        ,  1.        ,  0.        ,\n",
       "         1.        ,  0.        ,  1.        ,  0.        ,  0.        ,\n",
       "         0.        ,  0.        ,  0.        ,  1.        ,  0.        ,\n",
       "         0.        ,  0.        ,  1.        ,  0.        ,  0.        ,\n",
       "         0.        ,  0.        ,  0.        ,  1.        ,  0.        ,\n",
       "         0.        ,  0.44918147,  0.40597776]])"
      ]
     },
     "execution_count": 79,
     "metadata": {},
     "output_type": "execute_result"
    }
   ],
   "source": [
    "# Need to rescale the numeric features so they don't carry a larger influence on \n",
    " #the model using scikit learn to Zscore numeric features first on training then test data set\n",
    "\n",
    "scaler = preprocessing.StandardScaler().fit(logYIx_train[:, 31:])\n",
    "logYIx_train[:, 31:] = scaler.transform(logYIx_train[:, 31:])\n",
    "logYIx_test[:, 31:] = scaler.transform(logYIx_test[:, 31:])\n",
    "logYIx_train[:5, :]"
   ]
  },
  {
   "cell_type": "code",
   "execution_count": 80,
   "metadata": {},
   "outputs": [
    {
     "data": {
      "text/plain": [
       "LinearRegression(copy_X=True, fit_intercept=False, n_jobs=1, normalize=False)"
      ]
     },
     "execution_count": 80,
     "metadata": {},
     "output_type": "execute_result"
    }
   ],
   "source": [
    "# Make the linear regression model using sklearn import linear_model\n",
    "\n",
    "lin_mod5 = linear_model.LinearRegression(fit_intercept = False)  #intercept will be accomidated in coefficients of dummy variables\n",
    "lin_mod5.fit(logYIx_train, logy_train)  #fit the model w/ numpy array of features & label"
   ]
  },
  {
   "cell_type": "code",
   "execution_count": 81,
   "metadata": {},
   "outputs": [
    {
     "name": "stdout",
     "output_type": "stream",
     "text": [
      "0.0\n",
      "[ 5.32606713e+11  5.32606713e+11  5.32606713e+11  5.32606713e+11\n",
      "  5.32606713e+11  3.23717443e+11  3.23717443e+11  3.23717443e+11\n",
      "  3.23717443e+11  3.23717443e+11  1.35123078e+11  1.35123078e+11\n",
      " -5.02482920e+11 -5.02482920e+11  4.48025570e+10  4.48025570e+10\n",
      "  4.48025570e+10  4.48025570e+10  4.48025570e+10 -2.60796637e+11\n",
      " -2.60796637e+11 -2.60796637e+11 -2.60796637e+11 -2.60796637e+11\n",
      " -2.60796637e+11 -2.72970234e+11 -2.72970234e+11 -2.72970234e+11\n",
      " -2.72970234e+11 -2.72970234e+11 -2.72970234e+11  1.04919434e-01\n",
      " -3.16772461e-02]\n"
     ]
    }
   ],
   "source": [
    "#Examine intercept and coefficients of training data\n",
    "\n",
    "print(lin_mod5.intercept_)\n",
    "print(lin_mod5.coef_)"
   ]
  },
  {
   "cell_type": "code",
   "execution_count": 127,
   "metadata": {},
   "outputs": [
    {
     "name": "stdout",
     "output_type": "stream",
     "text": [
      "Mean Square Error      = 0.0035467045884896805\n",
      "Root Mean Square Error = 0.059554215539201594\n",
      "Mean Absolute Error    = 0.04529578600142536\n",
      "Median Absolute Error  = 0.0360215067476819\n",
      "R^2                    = 0.9702669338315251\n",
      "Adjusted R^2           = 0.9701054710828225\n"
     ]
    }
   ],
   "source": [
    "#Above- Intercept is 0.0. Dummy variables are in similiar range, indicating bias/intercept has been\n",
    " # incorporated in them. Numerical values increase for first variable but weakly decrease for second.\n",
    "    \n",
    "#Below- Evaluate performance of model using test data set by computing performance metrics\n",
    "\n",
    "def print_metrics5(y_true, y_predicted, n_parameters):\n",
    "    r2 = sklm.r2_score(y_true, y_predicted)\n",
    "    r2_adj = r2 - (n_parameters -1)/(y_true.shape[0] - n_parameters) * (1 - r2)\n",
    "    \n",
    "    print('Mean Square Error      = ' + str(sklm.mean_squared_error(y_true, y_predicted)))\n",
    "    print('Root Mean Square Error = ' + str(math.sqrt(sklm.mean_squared_error(y_true, y_predicted))))\n",
    "    print('Mean Absolute Error    = ' + str(sklm.mean_absolute_error(y_true, y_predicted)))\n",
    "    print('Median Absolute Error  = ' + str(sklm.median_absolute_error(y_true, y_predicted)))\n",
    "    print('R^2                    = ' + str(r2))\n",
    "    print('Adjusted R^2           = ' + str(r2_adj))\n",
    "    \n",
    "logy_score5 = lin_mod5.predict(logYIx_test)\n",
    "print_metrics5(logy_test, logy_score5, 28)"
   ]
  },
  {
   "cell_type": "code",
   "execution_count": 111,
   "metadata": {},
   "outputs": [],
   "source": [
    "## Log Age Feature only w/ log Label\n",
    " #Create randomly sampled log-y training & test data (Bernoulli sample) sets from sklearn.model_selection\n",
    "\n",
    "nr.seed(9988)  #set seed\n",
    "indx = range(logA_Features.shape[0])\n",
    "indx = ms.train_test_split(indx, test_size = 5000)\n",
    "logAx_train = logA_Features[indx[0], :]\n",
    "logy_train = np.ravel(log_labels[indx[0]])\n",
    "logAx_test = logA_Features[indx[1], :]\n",
    "logy_test = np.ravel(log_labels[indx[1]])"
   ]
  },
  {
   "cell_type": "code",
   "execution_count": 112,
   "metadata": {},
   "outputs": [
    {
     "data": {
      "text/plain": [
       "array([[ 1.        ,  0.        ,  0.        ,  0.        ,  0.        ,\n",
       "         0.        ,  0.        ,  0.        ,  1.        ,  0.        ,\n",
       "         0.        ,  1.        ,  1.        ,  0.        ,  0.        ,\n",
       "         1.        ,  0.        ,  0.        ,  0.        ,  1.        ,\n",
       "         0.        ,  0.        ,  0.        ,  0.        ,  0.        ,\n",
       "         0.        ,  1.        ,  0.        ,  0.        ,  0.        ,\n",
       "         0.        , -0.69691521,  0.61394552],\n",
       "       [ 0.        ,  0.        ,  0.        ,  1.        ,  0.        ,\n",
       "         1.        ,  0.        ,  0.        ,  0.        ,  0.        ,\n",
       "         0.        ,  1.        ,  0.        ,  1.        ,  0.        ,\n",
       "         0.        ,  1.        ,  0.        ,  0.        ,  1.        ,\n",
       "         0.        ,  0.        ,  0.        ,  0.        ,  0.        ,\n",
       "         1.        ,  0.        ,  0.        ,  0.        ,  0.        ,\n",
       "         0.        ,  0.60823408, -1.48812679],\n",
       "       [ 0.        ,  1.        ,  0.        ,  0.        ,  0.        ,\n",
       "         1.        ,  0.        ,  0.        ,  0.        ,  0.        ,\n",
       "         1.        ,  0.        ,  1.        ,  0.        ,  0.        ,\n",
       "         0.        ,  1.        ,  0.        ,  0.        ,  1.        ,\n",
       "         0.        ,  0.        ,  0.        ,  0.        ,  0.        ,\n",
       "         0.        ,  0.        ,  0.        ,  0.        ,  0.        ,\n",
       "         1.        ,  0.92153941,  1.42052796],\n",
       "       [ 0.        ,  0.        ,  0.        ,  1.        ,  0.        ,\n",
       "         1.        ,  0.        ,  0.        ,  0.        ,  0.        ,\n",
       "         0.        ,  1.        ,  1.        ,  0.        ,  0.        ,\n",
       "         0.        ,  1.        ,  0.        ,  0.        ,  0.        ,\n",
       "         0.        ,  1.        ,  0.        ,  0.        ,  0.        ,\n",
       "         0.        ,  0.        ,  0.        ,  1.        ,  0.        ,\n",
       "         0.        ,  0.51437595,  0.0257497 ],\n",
       "       [ 0.        ,  0.        ,  0.        ,  1.        ,  0.        ,\n",
       "         0.        ,  0.        ,  0.        ,  1.        ,  0.        ,\n",
       "         1.        ,  0.        ,  1.        ,  0.        ,  0.        ,\n",
       "         0.        ,  0.        ,  0.        ,  1.        ,  0.        ,\n",
       "         0.        ,  0.        ,  1.        ,  0.        ,  0.        ,\n",
       "         0.        ,  0.        ,  0.        ,  1.        ,  0.        ,\n",
       "         0.        ,  0.24373111,  0.53636435]])"
      ]
     },
     "execution_count": 112,
     "metadata": {},
     "output_type": "execute_result"
    }
   ],
   "source": [
    "# Need to rescale the numeric features so they don't carry a larger influence on \n",
    " #the model using scikit learn to Zscore numeric features first on training then test data set\n",
    "\n",
    "scaler = preprocessing.StandardScaler().fit(logAx_train[:, 31:])\n",
    "logAx_train[:, 31:] = scaler.transform(logAx_train[:, 31:])\n",
    "logAx_test[:, 31:] = scaler.transform(logAx_test[:, 31:])\n",
    "logAx_train[:5, :]"
   ]
  },
  {
   "cell_type": "code",
   "execution_count": 113,
   "metadata": {},
   "outputs": [
    {
     "data": {
      "text/plain": [
       "LinearRegression(copy_X=True, fit_intercept=False, n_jobs=1, normalize=False)"
      ]
     },
     "execution_count": 113,
     "metadata": {},
     "output_type": "execute_result"
    }
   ],
   "source": [
    "# Make the linear regression model using sklearn import linear_model\n",
    "\n",
    "lin_mod6 = linear_model.LinearRegression(fit_intercept = False)  #intercept will be accomidated in coefficients of dummy variables\n",
    "lin_mod6.fit(logAx_train, logy_train)  #fit the model w/ numpy array of features & label"
   ]
  },
  {
   "cell_type": "code",
   "execution_count": 114,
   "metadata": {},
   "outputs": [
    {
     "name": "stdout",
     "output_type": "stream",
     "text": [
      "0.0\n",
      "[ 5.31312012e+11  5.31312012e+11  5.31312012e+11  5.31312012e+11\n",
      "  5.31312012e+11  4.50274114e+11  4.50274114e+11  4.50274114e+11\n",
      "  4.50274114e+11  4.50274114e+11  4.48615849e+11  4.48615849e+11\n",
      " -7.18294446e+11 -7.18294446e+11 -1.02626327e+11 -1.02626327e+11\n",
      " -1.02626327e+11 -1.02626327e+11 -1.02626327e+11 -3.42380664e+11\n",
      " -3.42380664e+11 -3.42380664e+11 -3.42380664e+11 -3.42380664e+11\n",
      " -3.42380664e+11 -2.66900538e+11 -2.66900538e+11 -2.66900538e+11\n",
      " -2.66900538e+11 -2.66900538e+11 -2.66900538e+11  1.00830078e-01\n",
      " -2.12402344e-02]\n"
     ]
    }
   ],
   "source": [
    "#Examine intercept and coefficients of training data\n",
    "\n",
    "print(lin_mod6.intercept_)\n",
    "print(lin_mod6.coef_)"
   ]
  },
  {
   "cell_type": "code",
   "execution_count": 128,
   "metadata": {},
   "outputs": [
    {
     "name": "stdout",
     "output_type": "stream",
     "text": [
      "Mean Square Error      = 0.003774042675746019\n",
      "Root Mean Square Error = 0.061433237548952434\n",
      "Mean Absolute Error    = 0.04624131293974493\n",
      "Median Absolute Error  = 0.036737517829389166\n",
      "R^2                    = 0.9683610918809594\n",
      "Adjusted R^2           = 0.9681892796285029\n"
     ]
    }
   ],
   "source": [
    "#Above- Intercept is 0.0. Dummy variables are in similiar range, indicating bias/intercept has been\n",
    " # incorporated in them. Numerical values increase for first variable but weakly decrease for second.\n",
    "    \n",
    "#Below- Evaluate performance of model using test data set by computing performance metrics\n",
    "\n",
    "def print_metrics6(y_true, y_predicted, n_parameters):\n",
    "    r2 = sklm.r2_score(y_true, y_predicted)\n",
    "    r2_adj = r2 - (n_parameters -1)/(y_true.shape[0] - n_parameters) * (1 - r2)\n",
    "    \n",
    "    print('Mean Square Error      = ' + str(sklm.mean_squared_error(y_true, y_predicted)))\n",
    "    print('Root Mean Square Error = ' + str(math.sqrt(sklm.mean_squared_error(y_true, y_predicted))))\n",
    "    print('Mean Absolute Error    = ' + str(sklm.mean_absolute_error(y_true, y_predicted)))\n",
    "    print('Median Absolute Error  = ' + str(sklm.median_absolute_error(y_true, y_predicted)))\n",
    "    print('R^2                    = ' + str(r2))\n",
    "    print('Adjusted R^2           = ' + str(r2_adj))\n",
    "    \n",
    "logy_score6 = lin_mod6.predict(logAx_test)\n",
    "print_metrics6(logy_test, logy_score6, 28)"
   ]
  },
  {
   "cell_type": "code",
   "execution_count": 116,
   "metadata": {},
   "outputs": [],
   "source": [
    "## Log Age Feature only w/ normal Label\n",
    " #Create randomly sampled log-y training & test data (Bernoulli sample) sets from sklearn.model_selection\n",
    "\n",
    "nr.seed(9988)  #set seed\n",
    "indx = range(logA_Features.shape[0])\n",
    "indx = ms.train_test_split(indx, test_size = 5000)\n",
    "logAx_train = logA_Features[indx[0], :]\n",
    "y_train = np.ravel(labels[indx[0]])\n",
    "logAx_test = logA_Features[indx[1], :]\n",
    "y_test = np.ravel(labels[indx[1]])"
   ]
  },
  {
   "cell_type": "code",
   "execution_count": 117,
   "metadata": {},
   "outputs": [
    {
     "data": {
      "text/plain": [
       "array([[ 1.        ,  0.        ,  0.        ,  0.        ,  0.        ,\n",
       "         0.        ,  0.        ,  0.        ,  1.        ,  0.        ,\n",
       "         0.        ,  1.        ,  1.        ,  0.        ,  0.        ,\n",
       "         1.        ,  0.        ,  0.        ,  0.        ,  1.        ,\n",
       "         0.        ,  0.        ,  0.        ,  0.        ,  0.        ,\n",
       "         0.        ,  1.        ,  0.        ,  0.        ,  0.        ,\n",
       "         0.        , -0.69691521,  0.61394552],\n",
       "       [ 0.        ,  0.        ,  0.        ,  1.        ,  0.        ,\n",
       "         1.        ,  0.        ,  0.        ,  0.        ,  0.        ,\n",
       "         0.        ,  1.        ,  0.        ,  1.        ,  0.        ,\n",
       "         0.        ,  1.        ,  0.        ,  0.        ,  1.        ,\n",
       "         0.        ,  0.        ,  0.        ,  0.        ,  0.        ,\n",
       "         1.        ,  0.        ,  0.        ,  0.        ,  0.        ,\n",
       "         0.        ,  0.60823408, -1.48812679],\n",
       "       [ 0.        ,  1.        ,  0.        ,  0.        ,  0.        ,\n",
       "         1.        ,  0.        ,  0.        ,  0.        ,  0.        ,\n",
       "         1.        ,  0.        ,  1.        ,  0.        ,  0.        ,\n",
       "         0.        ,  1.        ,  0.        ,  0.        ,  1.        ,\n",
       "         0.        ,  0.        ,  0.        ,  0.        ,  0.        ,\n",
       "         0.        ,  0.        ,  0.        ,  0.        ,  0.        ,\n",
       "         1.        ,  0.92153941,  1.42052796],\n",
       "       [ 0.        ,  0.        ,  0.        ,  1.        ,  0.        ,\n",
       "         1.        ,  0.        ,  0.        ,  0.        ,  0.        ,\n",
       "         0.        ,  1.        ,  1.        ,  0.        ,  0.        ,\n",
       "         0.        ,  1.        ,  0.        ,  0.        ,  0.        ,\n",
       "         0.        ,  1.        ,  0.        ,  0.        ,  0.        ,\n",
       "         0.        ,  0.        ,  0.        ,  1.        ,  0.        ,\n",
       "         0.        ,  0.51437595,  0.0257497 ],\n",
       "       [ 0.        ,  0.        ,  0.        ,  1.        ,  0.        ,\n",
       "         0.        ,  0.        ,  0.        ,  1.        ,  0.        ,\n",
       "         1.        ,  0.        ,  1.        ,  0.        ,  0.        ,\n",
       "         0.        ,  0.        ,  0.        ,  1.        ,  0.        ,\n",
       "         0.        ,  0.        ,  1.        ,  0.        ,  0.        ,\n",
       "         0.        ,  0.        ,  0.        ,  1.        ,  0.        ,\n",
       "         0.        ,  0.24373111,  0.53636435]])"
      ]
     },
     "execution_count": 117,
     "metadata": {},
     "output_type": "execute_result"
    }
   ],
   "source": [
    "# Need to rescale the numeric features so they don't carry a larger influence on \n",
    " #the model using scikit learn to Zscore numeric features first on training then test data set\n",
    "\n",
    "scaler = preprocessing.StandardScaler().fit(logAx_train[:, 31:])\n",
    "logAx_train[:, 31:] = scaler.transform(logAx_train[:, 31:])\n",
    "logAx_test[:, 31:] = scaler.transform(logAx_test[:, 31:])\n",
    "logAx_train[:5, :]"
   ]
  },
  {
   "cell_type": "code",
   "execution_count": 118,
   "metadata": {},
   "outputs": [
    {
     "data": {
      "text/plain": [
       "LinearRegression(copy_X=True, fit_intercept=False, n_jobs=1, normalize=False)"
      ]
     },
     "execution_count": 118,
     "metadata": {},
     "output_type": "execute_result"
    }
   ],
   "source": [
    "# Make the linear regression model using sklearn import linear_model\n",
    "\n",
    "lin_mod7 = linear_model.LinearRegression(fit_intercept = False)  #intercept will be accomidated in coefficients of dummy variables\n",
    "lin_mod7.fit(logAx_train, y_train)  #fit the model w/ numpy array of features & label"
   ]
  },
  {
   "cell_type": "code",
   "execution_count": 119,
   "metadata": {},
   "outputs": [
    {
     "name": "stdout",
     "output_type": "stream",
     "text": [
      "0.0\n",
      "[ 3.71588957e+13  3.71588957e+13  3.71588957e+13  3.71588957e+13\n",
      "  3.71588957e+13  2.80386692e+13  2.80386692e+13  2.80386692e+13\n",
      "  2.80386692e+13  2.80386692e+13  3.04569874e+13  3.04569874e+13\n",
      " -5.20247146e+13 -5.20247146e+13 -6.08846062e+12 -6.08846062e+12\n",
      " -6.08846062e+12 -6.08846062e+12 -6.08846062e+12 -2.08494626e+13\n",
      " -2.08494626e+13 -2.08494626e+13 -2.08494626e+13 -2.08494626e+13\n",
      " -2.08494626e+13 -1.66919145e+13 -1.66919145e+13 -1.66919145e+13\n",
      " -1.66919145e+13 -1.66919145e+13 -1.66919145e+13  8.57812500e+00\n",
      " -9.80468750e-01]\n"
     ]
    }
   ],
   "source": [
    "#Examine intercept and coefficients of training data\n",
    "\n",
    "print(lin_mod7.intercept_)\n",
    "print(lin_mod7.coef_)"
   ]
  },
  {
   "cell_type": "code",
   "execution_count": 129,
   "metadata": {},
   "outputs": [
    {
     "name": "stdout",
     "output_type": "stream",
     "text": [
      "Mean Square Error      = 39.0641599363327\n",
      "Root Mean Square Error = 6.2501327934958875\n",
      "Mean Absolute Error    = 4.75975546875\n",
      "Median Absolute Error  = 3.765625\n",
      "R^2                    = 0.9478847672224677\n",
      "Adjusted R^2           = 0.9476017601257273\n"
     ]
    }
   ],
   "source": [
    "#Above- Intercept is 0.0. Dummy variables are in similiar range, indicating bias/intercept has been\n",
    " # incorporated in them. Numerical values increase for first variable but weakly decrease for second.\n",
    "    \n",
    "#Below- Evaluate performance of model using test data set by computing performance metrics\n",
    "\n",
    "def print_metrics7(y_true, y_predicted, n_parameters):\n",
    "    r2 = sklm.r2_score(y_true, y_predicted)\n",
    "    r2_adj = r2 - (n_parameters -1)/(y_true.shape[0] - n_parameters) * (1 - r2)\n",
    "    \n",
    "    print('Mean Square Error      = ' + str(sklm.mean_squared_error(y_true, y_predicted)))\n",
    "    print('Root Mean Square Error = ' + str(math.sqrt(sklm.mean_squared_error(y_true, y_predicted))))\n",
    "    print('Mean Absolute Error    = ' + str(sklm.mean_absolute_error(y_true, y_predicted)))\n",
    "    print('Median Absolute Error  = ' + str(sklm.median_absolute_error(y_true, y_predicted)))\n",
    "    print('R^2                    = ' + str(r2))\n",
    "    print('Adjusted R^2           = ' + str(r2_adj))\n",
    "    \n",
    "logy_score7 = lin_mod7.predict(logAx_test)\n",
    "print_metrics7(y_test, logy_score7, 28)"
   ]
  },
  {
   "cell_type": "code",
   "execution_count": null,
   "metadata": {},
   "outputs": [],
   "source": []
  },
  {
   "cell_type": "code",
   "execution_count": null,
   "metadata": {},
   "outputs": [],
   "source": []
  },
  {
   "cell_type": "code",
   "execution_count": null,
   "metadata": {},
   "outputs": [],
   "source": []
  },
  {
   "cell_type": "code",
   "execution_count": null,
   "metadata": {},
   "outputs": [],
   "source": [
    "#Above- Fairly constant dispersion w/ noticable positive large residual\n",
    "\n",
    "#Below- Above plot is for log of prices, need to convert back to normal prices.\n",
    "\n",
    "y_score_untransform = np.exp(y_score)\n",
    "y_test_untransform = np.exp(y_test)\n",
    "resid_plot(y_test_untransform, y_score_untransform)"
   ]
  }
 ],
 "metadata": {
  "kernelspec": {
   "display_name": "Python 3",
   "language": "python",
   "name": "python3"
  },
  "language_info": {
   "codemirror_mode": {
    "name": "ipython",
    "version": 3
   },
   "file_extension": ".py",
   "mimetype": "text/x-python",
   "name": "python",
   "nbconvert_exporter": "python",
   "pygments_lexer": "ipython3",
   "version": "3.6.4"
  }
 },
 "nbformat": 4,
 "nbformat_minor": 2
}
